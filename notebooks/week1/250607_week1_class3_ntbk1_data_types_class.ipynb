{
  "cells": [
    {
      "cell_type": "markdown",
      "metadata": {
        "colab_type": "text",
        "id": "3e_6fglkUdcm"
      },
      "source": [
        "# Data Types\n",
        "\n",
        "## What you will learn in this course 🧐🧐\n",
        "\n",
        "Let's move forward and dive deeper into python programming. In this course we will cover:\n",
        "\n",
        "* Lists\n",
        "* Dictionnaries\n",
        "* Tuples \n",
        "* And manipulate the above data collection \n",
        "\n"
      ]
    },
    {
      "cell_type": "markdown",
      "metadata": {
        "colab_type": "text",
        "id": "ZHIUhpKSUdcn"
      },
      "source": [
        "## Handle data collections\n",
        "\n",
        "Data collections are objects that allow you to store several types of data at the same time. For example, you can have decimal numbers, strings, and integers in the same data collection. This is very useful to know how to manipulate because you will often deal with data collections as a Data Scientist (and even as a Web Developer)."
      ]
    },
    {
      "cell_type": "markdown",
      "metadata": {
        "colab_type": "text",
        "id": "6K8hc5slUdco"
      },
      "source": [
        "### Lists\n",
        "\n",
        "\n",
        "#### Definition\n",
        "\n",
        "A list is a mutable data collection, i.e. the collection in the list can be modified. Here is an example:"
      ]
    },
    {
      "cell_type": "code",
      "execution_count": 2,
      "metadata": {
        "colab": {},
        "colab_type": "code",
        "id": "6eX3-2QhUdcp"
      },
      "outputs": [],
      "source": [
        "list_1 = [1,2,3,4,5]"
      ]
    },
    {
      "cell_type": "markdown",
      "metadata": {
        "colab_type": "text",
        "id": "6aMCTUz5Udcu"
      },
      "source": [
        "In this list, we have 5 different items that have the value: 1, 2, 3, 4 and 5 respectively. We can access each item in the list via its index (which corresponds to its position in the list):"
      ]
    },
    {
      "cell_type": "code",
      "execution_count": 4,
      "metadata": {
        "colab": {},
        "colab_type": "code",
        "id": "IozMVTe_Udcu",
        "outputId": "bcac721b-2384-4b6a-977e-905cda602cff",
        "scrolled": true,
        "tags": []
      },
      "outputs": [
        {
          "data": {
            "text/plain": [
              "4"
            ]
          },
          "execution_count": 4,
          "metadata": {},
          "output_type": "execute_result"
        }
      ],
      "source": [
        "list_1[3]"
      ]
    },
    {
      "cell_type": "markdown",
      "metadata": {
        "colab_type": "text",
        "id": "mbpEbKoWUdcz"
      },
      "source": [
        "Warning: in python, the numbering of indices always starts at 0!"
      ]
    },
    {
      "cell_type": "markdown",
      "metadata": {
        "colab_type": "text",
        "id": "r27JgtMWUdcz"
      },
      "source": [
        "#### Change items in a list\n",
        "\n",
        "As we said in our introduction, a list is mutable. That is, you can change the items that are already present in the list by specifying the index of the item you want to change. For example, you can specify the index of the item you want to change:"
      ]
    },
    {
      "cell_type": "code",
      "execution_count": 6,
      "metadata": {
        "colab": {},
        "colab_type": "code",
        "id": "jji3n3-9Udc0",
        "outputId": "c6001f83-204c-4885-90db-b4c1529a9518",
        "tags": []
      },
      "outputs": [
        {
          "name": "stdout",
          "output_type": "stream",
          "text": [
            "[1, 2, 3, 17, 5]\n"
          ]
        }
      ],
      "source": [
        "## replacing 4 by 17\n",
        "## 4 is in position 3\n",
        "list_1[3]= 17\n",
        "print(list_1)"
      ]
    },
    {
      "cell_type": "markdown",
      "metadata": {
        "colab_type": "text",
        "id": "5cfIgBLzUdc3"
      },
      "source": [
        "Lists can therefore be useful if you need access to items in the data collection in order to modify them."
      ]
    },
    {
      "cell_type": "markdown",
      "metadata": {
        "colab_type": "text",
        "id": "m_jn1yV1Udc3"
      },
      "source": [
        "#### Add items to a list\n",
        "\n",
        "Items can be added to a list in different ways:\n",
        "\n",
        "\n",
        "*   The operator `+`\n",
        "*   `.append()`\n",
        "*   `.extend()`"
      ]
    },
    {
      "cell_type": "code",
      "execution_count": 7,
      "metadata": {
        "colab": {},
        "colab_type": "code",
        "id": "w_AREg38Udc4",
        "outputId": "18dc5d06-36b3-4b56-a7ed-513fac949f40",
        "tags": []
      },
      "outputs": [
        {
          "name": "stdout",
          "output_type": "stream",
          "text": [
            "[1, 2, 3, 4, 5, 'test']\n"
          ]
        }
      ],
      "source": [
        "## add a single emenet with append\n",
        "list_2 = [1,2,3,4,5]\n",
        "add_2 = \"test\" \n",
        "\n",
        "list_2.append(add_2)\n",
        "print(list_2)"
      ]
    },
    {
      "cell_type": "code",
      "execution_count": null,
      "metadata": {
        "colab": {},
        "colab_type": "code",
        "id": "uE1ah6mcUdc7",
        "outputId": "ccb7f83f-3838-4f47-e30f-72b1d0e6ca23",
        "tags": []
      },
      "outputs": [
        {
          "name": "stdout",
          "output_type": "stream",
          "text": [
            "[1, 2, 3, 4, 5, 'test']\n"
          ]
        }
      ],
      "source": [
        "# Add of a single element with append\n"
      ]
    },
    {
      "cell_type": "markdown",
      "metadata": {
        "colab_type": "text",
        "id": "_ODYwenRUdc-"
      },
      "source": [
        "The `.append()` function is limited to one item addition. If you want to add several items to a list with this function, the program will consider these several items as a single list, this list becoming a single item added to your first list. See instead an example:"
      ]
    },
    {
      "cell_type": "code",
      "execution_count": 9,
      "metadata": {
        "colab": {},
        "colab_type": "code",
        "id": "lUJ5OQloUdc_",
        "outputId": "15204691-f495-4077-be46-6dab351bad7e",
        "tags": []
      },
      "outputs": [
        {
          "name": "stdout",
          "output_type": "stream",
          "text": [
            "[1, 2, 3, 4, 5, ['test1', 'test2', 'test3']]\n"
          ]
        }
      ],
      "source": [
        "add_3 =  ['test1', 'test2', 'test3']\n",
        "list_3 = [1,2,3,4,5]\n",
        "list_3.append(add_3)\n",
        "print(list_3)\n"
      ]
    },
    {
      "cell_type": "markdown",
      "metadata": {
        "colab_type": "text",
        "id": "DbxuqBqvUddD"
      },
      "source": [
        "The `.extend()` function solves this problem by adding each item one by one to the first list. So here it is:"
      ]
    },
    {
      "cell_type": "code",
      "execution_count": 10,
      "metadata": {
        "colab": {},
        "colab_type": "code",
        "id": "cM5SWdc9UddD",
        "outputId": "6a258bcf-16a0-40ce-8c7f-b0ee4c872285",
        "tags": []
      },
      "outputs": [
        {
          "name": "stdout",
          "output_type": "stream",
          "text": [
            "[1, 2, 3, 4, 5, 'test1', 'test2', 'test3']\n"
          ]
        }
      ],
      "source": [
        "# Add a list to the end of an other (concatenate)\n",
        "list_4 = [1,2,3,4,5]\n",
        "add_4 = ['test1', 'test2', 'test3']\n",
        "list_4 = list_4 + add_4\n",
        "print(list_4)"
      ]
    },
    {
      "cell_type": "code",
      "execution_count": 11,
      "metadata": {},
      "outputs": [
        {
          "name": "stdout",
          "output_type": "stream",
          "text": [
            "[1, 2, 3, 4, 5, 'test1', 'test2', 'test3']\n"
          ]
        }
      ],
      "source": [
        "list_5 = [1,2,3,4,5]\n",
        "add_5 = ['test1', 'test2', 'test3']\n",
        "list_5.extend(add_5)\n",
        "print(list_5)"
      ]
    },
    {
      "cell_type": "markdown",
      "metadata": {},
      "source": [
        "You may also do this with a + command. Python is an interpreted language, which means that all the commands that you run in python will start by interpreting the types of the elements on which you are working before calculating anything. Therefore the same operation will lead to different effects depending on your objects types e.g.: for lists the + operation will concatenate the lists:"
      ]
    },
    {
      "cell_type": "code",
      "execution_count": null,
      "metadata": {},
      "outputs": [
        {
          "name": "stdout",
          "output_type": "stream",
          "text": [
            "[1, 2, 3, 4, 5, 'test1', 'test2', 'test3']\n"
          ]
        }
      ],
      "source": [
        "# Add a list to the end of an other (concatenate)\n"
      ]
    },
    {
      "cell_type": "markdown",
      "metadata": {
        "colab_type": "text",
        "id": "9it3bhyYUddH"
      },
      "source": [
        "#### Remove items from a list\n",
        "\n",
        "The last thing you need to see is how to remove items from a list. There are three ways to do this:\n",
        "*   `del()`\n",
        "*   `.remove()`\n",
        "*   `pop()`\n",
        "\n",
        "In the same way, let's try to understand by example:"
      ]
    },
    {
      "cell_type": "code",
      "execution_count": 12,
      "metadata": {
        "colab": {},
        "colab_type": "code",
        "id": "OFwwnr7rUddI",
        "outputId": "0248073f-204f-488d-a988-ec8902dafd32",
        "tags": []
      },
      "outputs": [
        {
          "name": "stdout",
          "output_type": "stream",
          "text": [
            "[1, 4]\n"
          ]
        }
      ],
      "source": [
        "# remove item with del\n",
        "list_1 = [1,2,4]\n",
        "del(list_1[1])\n",
        "print(list_1)"
      ]
    },
    {
      "cell_type": "code",
      "execution_count": 13,
      "metadata": {
        "colab": {},
        "colab_type": "code",
        "id": "PDkiJNguUddL",
        "outputId": "97cd8017-f19a-4a37-c36b-085407d793c4",
        "tags": []
      },
      "outputs": [
        {
          "name": "stdout",
          "output_type": "stream",
          "text": [
            "[2, 4]\n"
          ]
        }
      ],
      "source": [
        "# remove item with the .remove method\n",
        "\n",
        "list_1 = [1,2,4]\n",
        "## remove 1 from the list\n",
        "list_1.remove(1)\n",
        "print(list_1)"
      ]
    },
    {
      "cell_type": "markdown",
      "metadata": {
        "colab_type": "text",
        "id": "YKObTiL6UddO"
      },
      "source": [
        "The main difference between `del()` and `remove()` is that the first function allows you to delete an element via its index, while the second function allows you to delete an element via the value of the element (in this case _1_). Depending on your issues, you may need one more than the other.\n",
        "\n",
        "Warning: the `remove()` function removes only one element at a time. If you have duplicates that you want to remove, use a `while` loop as in the following example:"
      ]
    },
    {
      "cell_type": "code",
      "execution_count": null,
      "metadata": {
        "colab": {},
        "colab_type": "code",
        "id": "SrRrtO2wUddP",
        "outputId": "1ab87766-9179-4eac-9fd6-dfc7b2fbe765",
        "tags": []
      },
      "outputs": [
        {
          "name": "stdout",
          "output_type": "stream",
          "text": [
            "[1, 2, 'to_remove', 4, 'to_remove', 'to_remove']\n",
            "1\n",
            "[1, 2, 'to_remove', 4, 'to_remove', 'to_remove']\n",
            "[1, 2, 'to_remove', 4, 'to_remove', 'to_remove']\n",
            "2\n",
            "[1, 2, 'to_remove', 4, 'to_remove', 'to_remove']\n",
            "[1, 2, 'to_remove', 4, 'to_remove', 'to_remove']\n",
            "to_remove\n",
            "[1, 2, 4, 'to_remove', 'to_remove']\n",
            "[1, 2, 4, 'to_remove', 'to_remove']\n",
            "to_remove\n",
            "[1, 2, 4, 'to_remove']\n"
          ]
        }
      ],
      "source": [
        "list_2 = [1,2, \"to_remove\", 4, \"to_remove\", \"to_remove\"]\n",
        "\n",
        "## remove the strings \"to_remove\" from the list\n",
        "\n",
        "for element in list_2:\n",
        "    print(list_2)\n",
        "    print(element)\n",
        "    if element == \"to_remove\":\n",
        "        list_2.remove(element)\n",
        "    print(list_2)\n",
        "\n",
        "\n",
        "## while vs for loops with null values"
      ]
    },
    {
      "cell_type": "code",
      "execution_count": 18,
      "metadata": {},
      "outputs": [
        {
          "data": {
            "text/plain": [
              "[1, 2, 4, 'to_remove']"
            ]
          },
          "execution_count": 18,
          "metadata": {},
          "output_type": "execute_result"
        }
      ],
      "source": [
        "list_2"
      ]
    },
    {
      "cell_type": "code",
      "execution_count": 16,
      "metadata": {},
      "outputs": [
        {
          "name": "stdout",
          "output_type": "stream",
          "text": [
            "[1, 2, 4]\n"
          ]
        }
      ],
      "source": [
        "list_2 = [1,2, \"to_remove\", 4, \"to_remove\", \"to_remove\"]\n",
        "\n",
        "\n",
        "while \"to_remove\" in list_2:\n",
        "    list_2.remove(\"to_remove\")\n",
        "\n",
        "print(list_2)"
      ]
    },
    {
      "cell_type": "markdown",
      "metadata": {
        "colab_type": "text",
        "id": "d7OokAS_UddS"
      },
      "source": [
        "The problem with these functions is that the item is deleted and cannot be retrieved. Indeed, it often happens to want to separate an item from a list to use it somewhere else, or even to want to move this item in the list. In this case, we will use the `pop()` function:"
      ]
    },
    {
      "cell_type": "code",
      "execution_count": 22,
      "metadata": {
        "colab": {},
        "colab_type": "code",
        "id": "4TMQoxJpUddT",
        "outputId": "7ea498a7-d0e2-4e95-ff05-6c0f44d6e401",
        "tags": []
      },
      "outputs": [
        {
          "name": "stdout",
          "output_type": "stream",
          "text": [
            "4\n"
          ]
        },
        {
          "data": {
            "text/plain": [
              "[1, 2]"
            ]
          },
          "execution_count": 22,
          "metadata": {},
          "output_type": "execute_result"
        }
      ],
      "source": [
        "# remove an item with the .pop method\n",
        "\n",
        "list_1 = [1,2,4]\n",
        "\n",
        "## number 4 out\n",
        "list_popped = list_1.pop(2)\n",
        "print(list_popped)\n",
        "list_1\n"
      ]
    },
    {
      "cell_type": "markdown",
      "metadata": {},
      "source": [
        "#### List comprehensions\n",
        "\n",
        "List comprehensions provide a concise way to create lists. Common applications are to make new lists where each element is the result of some operations applied to each element of another list, or a subset of another list satisfying a certain condition. \n",
        "\n",
        "Let's learn how to use list comprehensions by example:"
      ]
    },
    {
      "cell_type": "code",
      "execution_count": 30,
      "metadata": {
        "tags": []
      },
      "outputs": [
        {
          "name": "stdout",
          "output_type": "stream",
          "text": [
            "[2, 4, 6, 8, 10, 12, 14, 16, 18, 20]\n",
            "[3, 4, 5, 6, 7, 8, 9, 10]\n",
            "[2, 3, 4, 5, 6, 7]\n"
          ]
        }
      ],
      "source": [
        "# Define a list\n",
        "list_1 = [1, 2, 3, 4, 5, 6, 7, 8, 9, 10]\n",
        "\n",
        "# Create a new list, where each element is list_1's elements multiplied by 2\n",
        "list_2 = [2 * i for i in list_1]\n",
        "print(list_2)\n",
        "# Create a new list, where we keep only list_1's elements that are strictly above 2\n",
        "list_3 = [element for element in list_1 if element >2 ]\n",
        "print(list_3)\n",
        "\n",
        "# Create a new list, where we keep elements of list_1 that are below 7, and then add 1\n",
        "list_4 = [element + 1 for element in list_1 if element < 7 ]\n",
        "print(list_4)"
      ]
    },
    {
      "cell_type": "code",
      "execution_count": 28,
      "metadata": {},
      "outputs": [],
      "source": [
        "list_4 = []\n",
        "\n",
        "for element in list_1:\n",
        "    if element < 7:\n",
        "        list_4.append(element +1) "
      ]
    },
    {
      "cell_type": "code",
      "execution_count": 29,
      "metadata": {},
      "outputs": [
        {
          "data": {
            "text/plain": [
              "[2, 3, 4, 5, 6, 7]"
            ]
          },
          "execution_count": 29,
          "metadata": {},
          "output_type": "execute_result"
        }
      ],
      "source": [
        "list_4"
      ]
    },
    {
      "cell_type": "markdown",
      "metadata": {
        "colab_type": "text",
        "id": "Ilsnl8QkUddW"
      },
      "source": [
        "### Slices\n",
        "\n",
        "\n",
        "#### Fundamental Principal\n",
        "\n",
        "Very often you may not need a complete list but just a part of it. This is when slices become very useful. Here is an example:"
      ]
    },
    {
      "cell_type": "code",
      "execution_count": 31,
      "metadata": {},
      "outputs": [
        {
          "data": {
            "text/plain": [
              "[1, 2, 3, 4, 5, 6, 7, 8, 9, 10]"
            ]
          },
          "execution_count": 31,
          "metadata": {},
          "output_type": "execute_result"
        }
      ],
      "source": [
        "list_1"
      ]
    },
    {
      "cell_type": "code",
      "execution_count": 40,
      "metadata": {},
      "outputs": [
        {
          "data": {
            "text/plain": [
              "[8, 9, 10]"
            ]
          },
          "execution_count": 40,
          "metadata": {},
          "output_type": "execute_result"
        }
      ],
      "source": [
        "list_1[7:10]"
      ]
    },
    {
      "cell_type": "code",
      "execution_count": 39,
      "metadata": {},
      "outputs": [
        {
          "data": {
            "text/plain": [
              "[1, 2, 3]"
            ]
          },
          "execution_count": 39,
          "metadata": {},
          "output_type": "execute_result"
        }
      ],
      "source": [
        "list_1[0:3]\n",
        "\n",
        "# [1,2,3]"
      ]
    },
    {
      "cell_type": "code",
      "execution_count": 41,
      "metadata": {},
      "outputs": [
        {
          "data": {
            "text/plain": [
              "[1, 2, 3]"
            ]
          },
          "execution_count": 41,
          "metadata": {},
          "output_type": "execute_result"
        }
      ],
      "source": [
        "list_1[:3]\n"
      ]
    },
    {
      "cell_type": "code",
      "execution_count": null,
      "metadata": {
        "colab": {
          "base_uri": "https://localhost:8080/",
          "height": 34
        },
        "colab_type": "code",
        "id": "DVsOo8iNUddW",
        "outputId": "934ab30c-b90e-4b12-dec5-d620b8a3c352",
        "tags": []
      },
      "outputs": [
        {
          "name": "stdout",
          "output_type": "stream",
          "text": [
            "[8, 9, 10]\n"
          ]
        }
      ],
      "source": [
        "list_2"
      ]
    },
    {
      "cell_type": "markdown",
      "metadata": {
        "colab_type": "text",
        "id": "y3G9JK9aUddZ"
      },
      "source": [
        "The structure is therefore as follows:\n",
        "\n",
        "```\n",
        "slice[start_index : end_index]\n",
        "```\n",
        "\n",
        "As well as the `range()` function, `start_index` will be included and `end_index` will be excluded from the list.\n",
        "\n",
        "If you don't put anything as ```start_index```, the program will choose by default the index 0. Conversely, if you don't put anything as ```end_index```, the program will understand that it must go to the last index in the list:"
      ]
    },
    {
      "cell_type": "code",
      "execution_count": 43,
      "metadata": {
        "colab": {
          "base_uri": "https://localhost:8080/",
          "height": 51
        },
        "colab_type": "code",
        "id": "oabX83nEUdda",
        "outputId": "02b8e860-365e-42f3-8744-2ccd0cf315e3",
        "tags": []
      },
      "outputs": [
        {
          "name": "stdout",
          "output_type": "stream",
          "text": [
            "[8, 9, 10]\n",
            "[1, 2, 3]\n"
          ]
        }
      ],
      "source": [
        "three_last_items = list_1[7:]\n",
        "print(three_last_items)\n",
        "\n",
        "three_first_items = list_1[:3]\n",
        "print(three_first_items)"
      ]
    },
    {
      "cell_type": "markdown",
      "metadata": {
        "colab_type": "text",
        "id": "tftC5AOEUddd"
      },
      "source": [
        "#### Slices with negative index\n",
        "\n",
        "Negative indices are useful when you want to count from the end of the list :"
      ]
    },
    {
      "cell_type": "code",
      "execution_count": 44,
      "metadata": {},
      "outputs": [
        {
          "data": {
            "text/plain": [
              "[1, 2, 3, 4, 5, 6, 7, 8, 9, 10]"
            ]
          },
          "execution_count": 44,
          "metadata": {},
          "output_type": "execute_result"
        }
      ],
      "source": [
        "list_1"
      ]
    },
    {
      "cell_type": "code",
      "execution_count": 45,
      "metadata": {},
      "outputs": [
        {
          "name": "stdout",
          "output_type": "stream",
          "text": [
            "[8, 9, 10]\n"
          ]
        }
      ],
      "source": [
        "three_last_items = list_1[-3:]\n",
        "print(three_last_items)"
      ]
    },
    {
      "cell_type": "code",
      "execution_count": 46,
      "metadata": {},
      "outputs": [
        {
          "name": "stdout",
          "output_type": "stream",
          "text": [
            "[1, 2, 3, 4, 5, 6, 7]\n"
          ]
        }
      ],
      "source": [
        "three_last_items_excluded = list_1[: -3]\n",
        "print(three_last_items_excluded)"
      ]
    },
    {
      "cell_type": "code",
      "execution_count": 47,
      "metadata": {
        "colab": {
          "base_uri": "https://localhost:8080/",
          "height": 51
        },
        "colab_type": "code",
        "id": "hGH7MYQ4Udde",
        "outputId": "822b7e78-3613-4b4e-c01e-5f3b5f470e90",
        "tags": []
      },
      "outputs": [
        {
          "name": "stdout",
          "output_type": "stream",
          "text": [
            "[8, 9, 10]\n",
            "[1, 2, 3, 4, 5, 6, 7]\n"
          ]
        }
      ],
      "source": [
        "three_last_items = list_1[-3:]\n",
        "print(three_last_items)\n",
        "\n",
        "three_last_items_excluded = list_1[: -3]\n",
        "print(three_last_items_excluded)"
      ]
    },
    {
      "cell_type": "markdown",
      "metadata": {
        "colab_type": "text",
        "id": "f4xKaBKmUddh"
      },
      "source": [
        "## Dictionaries\n",
        "\n",
        "Dictionaries have a great deal of specificity, which is very useful. They have keys associated with one or more values. You can think of them as labelled \"drawers\". Dictionaries are a very common format, which you will encounter when using APIs for example. In a dictionary, it is therefore important to know how to manipulate the keys and the values associated with them."
      ]
    },
    {
      "cell_type": "code",
      "execution_count": 48,
      "metadata": {
        "colab": {},
        "colab_type": "code",
        "id": "xCq5yTvvUddi"
      },
      "outputs": [],
      "source": [
        "# let us create a first dictionary with the key \"first name\" and value \"Antoine\"\n",
        "\n",
        "dic1 = {\"first_name\": \"Antoine\"}"
      ]
    },
    {
      "cell_type": "code",
      "execution_count": 49,
      "metadata": {},
      "outputs": [
        {
          "data": {
            "text/plain": [
              "{'first_name': 'Antoine'}"
            ]
          },
          "execution_count": 49,
          "metadata": {},
          "output_type": "execute_result"
        }
      ],
      "source": [
        "dic1"
      ]
    },
    {
      "cell_type": "code",
      "execution_count": 50,
      "metadata": {},
      "outputs": [
        {
          "data": {
            "text/plain": [
              "'Antoine'"
            ]
          },
          "execution_count": 50,
          "metadata": {},
          "output_type": "execute_result"
        }
      ],
      "source": [
        "dic1[\"first_name\"]"
      ]
    },
    {
      "cell_type": "markdown",
      "metadata": {
        "colab_type": "text",
        "id": "7avptuQ2Uddl"
      },
      "source": [
        "The dictionary key is the equivalent of the index in the list. It can be used to access the different values:"
      ]
    },
    {
      "cell_type": "code",
      "execution_count": 51,
      "metadata": {
        "colab": {
          "base_uri": "https://localhost:8080/",
          "height": 34
        },
        "colab_type": "code",
        "id": "E49FA1E1Uddm",
        "outputId": "ae50fad7-13c2-4520-ae2a-076dd636c9b6"
      },
      "outputs": [
        {
          "data": {
            "text/plain": [
              "'Antoine'"
            ]
          },
          "execution_count": 51,
          "metadata": {},
          "output_type": "execute_result"
        }
      ],
      "source": [
        "dic1[\"first_name\"]"
      ]
    },
    {
      "cell_type": "markdown",
      "metadata": {
        "colab_type": "text",
        "id": "AbfHwS_xUddq"
      },
      "source": [
        "#### Modify / Add a key\n",
        "\n",
        "The way you will modify or add a key works the same way:"
      ]
    },
    {
      "cell_type": "code",
      "execution_count": 53,
      "metadata": {
        "colab": {
          "base_uri": "https://localhost:8080/",
          "height": 34
        },
        "colab_type": "code",
        "id": "zeeU8gNzUddq",
        "outputId": "41bcd96e-cbc7-4c72-e9d1-a928d13febc4",
        "tags": []
      },
      "outputs": [
        {
          "name": "stdout",
          "output_type": "stream",
          "text": [
            "{'first_name': 'Charles', 'name': 'Dupont', 'age': 36}\n"
          ]
        }
      ],
      "source": [
        "# We modify the already existing element to the key \"first_name\".\n",
        "dic1[\"first_name\"] = \"Charles\"\n",
        "dic1\n",
        "\n",
        "# New elements are added, with the keys 'name' and 'age'.\n",
        "dic1[\"name\"] = \"Dupont\"\n",
        "dic1[\"age\"] = 36\n",
        "print(dic1)"
      ]
    },
    {
      "cell_type": "markdown",
      "metadata": {
        "colab_type": "text",
        "id": "Ja9ds3q8Uddt"
      },
      "source": [
        "#### Delete a key\n",
        "\n",
        "A key can be removed using the `del()` function. In the same way as we have seen with the lists:"
      ]
    },
    {
      "cell_type": "code",
      "execution_count": 54,
      "metadata": {
        "colab": {
          "base_uri": "https://localhost:8080/",
          "height": 34
        },
        "colab_type": "code",
        "id": "fOuf5grDUddt",
        "outputId": "6edf7dbd-e517-459c-bda3-53741aea1bd8",
        "tags": []
      },
      "outputs": [
        {
          "name": "stdout",
          "output_type": "stream",
          "text": [
            "{'first_name': 'Charles', 'name': 'Dupont'}\n"
          ]
        }
      ],
      "source": [
        "del(dic1[\"age\"])\n",
        "print(dic1)"
      ]
    },
    {
      "cell_type": "markdown",
      "metadata": {
        "colab_type": "text",
        "id": "13Y_mq-mUddv"
      },
      "source": [
        "## Iterate on dictionaries"
      ]
    },
    {
      "cell_type": "markdown",
      "metadata": {
        "colab_type": "text",
        "id": "klIY8ZjyUddw"
      },
      "source": [
        "In a dictionary, you can iterate on keys, values associated with keys, or both. Here are some good methods to know.\n",
        "\n",
        "\n",
        "### Iterate on the keys of a dictionary"
      ]
    },
    {
      "cell_type": "code",
      "execution_count": 56,
      "metadata": {
        "colab": {
          "base_uri": "https://localhost:8080/",
          "height": 51
        },
        "colab_type": "code",
        "id": "lRJq-nUwUddw",
        "outputId": "8418c1fc-88df-4461-b0e8-b8daf393d831",
        "tags": []
      },
      "outputs": [
        {
          "name": "stdout",
          "output_type": "stream",
          "text": [
            "first_name\n",
            "name\n"
          ]
        }
      ],
      "source": [
        "# iterate on keys\n",
        "\n",
        "for key in dic1.keys():\n",
        "    print(key)\n"
      ]
    },
    {
      "cell_type": "markdown",
      "metadata": {
        "colab_type": "text",
        "id": "i0FNXJtMUddy"
      },
      "source": [
        "### Iterate on dictionary values\n",
        "\n",
        "To iterate on values in a dictionary, the easiest way is to use the `.values()` function:"
      ]
    },
    {
      "cell_type": "code",
      "execution_count": 57,
      "metadata": {
        "colab": {
          "base_uri": "https://localhost:8080/",
          "height": 51
        },
        "colab_type": "code",
        "id": "KFdrxsHeUddz",
        "outputId": "986ae60e-dd89-4d96-c74f-4b13ba7e14c1",
        "tags": []
      },
      "outputs": [
        {
          "name": "stdout",
          "output_type": "stream",
          "text": [
            "Charles\n",
            "Dupont\n"
          ]
        }
      ],
      "source": [
        "# iterate on values\n",
        "\n",
        "for value in dic1.values():\n",
        "    print(value)\n"
      ]
    },
    {
      "cell_type": "markdown",
      "metadata": {
        "colab_type": "text",
        "id": "toIo6F8lUdd1"
      },
      "source": [
        "### Iterate on keys and values\n",
        "\n",
        "You can also iterate on the key and the value associated with the key at the same time with the `.items()` function. This function will return the key and the value at the same time in the iteration:"
      ]
    },
    {
      "cell_type": "code",
      "execution_count": 58,
      "metadata": {
        "colab": {},
        "colab_type": "code",
        "id": "wmWb5ce0Udd2",
        "outputId": "9f4032b9-2824-40f5-aa9e-256095adf87a",
        "tags": []
      },
      "outputs": [
        {
          "name": "stdout",
          "output_type": "stream",
          "text": [
            "('first_name', 'Charles')\n",
            "('name', 'Dupont')\n"
          ]
        }
      ],
      "source": [
        "# iterate on keys and values\n",
        "\n",
        "for item in dic1.items():\n",
        "    print(item)\n"
      ]
    },
    {
      "cell_type": "markdown",
      "metadata": {
        "colab_type": "text",
        "id": "pYuenIpRUdd6"
      },
      "source": [
        "## Tuples\n",
        "\n",
        "Tuples are, unlike lists, immutable. It often happens that you come across them when you want to manipulate data that should not be changed during the execution of your code. Here's how they're built:"
      ]
    },
    {
      "cell_type": "code",
      "execution_count": 59,
      "metadata": {
        "colab": {
          "base_uri": "https://localhost:8080/",
          "height": 34
        },
        "colab_type": "code",
        "id": "0555R0UCUdd6",
        "outputId": "d1e782c1-82b6-4718-ab33-768918c65f12",
        "tags": []
      },
      "outputs": [
        {
          "name": "stdout",
          "output_type": "stream",
          "text": [
            "(1, 2, 3)\n"
          ]
        }
      ],
      "source": [
        "tuple_1 = (1,2,3)\n",
        "print(tuple_1)"
      ]
    },
    {
      "cell_type": "markdown",
      "metadata": {
        "colab_type": "text",
        "id": "Pxzzf0rEUdd9"
      },
      "source": [
        "The value of an item in a tuple can be accessed in the same way as the value of an item in a list:"
      ]
    },
    {
      "cell_type": "code",
      "execution_count": 60,
      "metadata": {
        "colab": {
          "base_uri": "https://localhost:8080/",
          "height": 34
        },
        "colab_type": "code",
        "id": "Di2sKDGmUdd9",
        "outputId": "5baf1c9f-f712-4bfc-8733-d3a5891d8992",
        "tags": []
      },
      "outputs": [
        {
          "data": {
            "text/plain": [
              "3"
            ]
          },
          "execution_count": 60,
          "metadata": {},
          "output_type": "execute_result"
        }
      ],
      "source": [
        "tuple_1[2]"
      ]
    },
    {
      "cell_type": "code",
      "execution_count": 63,
      "metadata": {},
      "outputs": [
        {
          "name": "stdout",
          "output_type": "stream",
          "text": [
            "[1, 2, 'Hello']\n"
          ]
        }
      ],
      "source": [
        "list_1 = [1,2,3]\n",
        "list_1[2] = \"Hello\"\n",
        "print(list_1)"
      ]
    },
    {
      "cell_type": "markdown",
      "metadata": {
        "colab_type": "text",
        "id": "5hfcXH5tUdd_"
      },
      "source": [
        "On the other hand, if you try to change the value for a tuple, you get an error:\n"
      ]
    },
    {
      "cell_type": "code",
      "execution_count": 64,
      "metadata": {
        "colab": {
          "base_uri": "https://localhost:8080/",
          "height": 181
        },
        "colab_type": "code",
        "id": "lTPOJK1VUdeA",
        "outputId": "629db205-2cf3-4c68-fbeb-279d7b3c3e40"
      },
      "outputs": [
        {
          "ename": "TypeError",
          "evalue": "'tuple' object does not support item assignment",
          "output_type": "error",
          "traceback": [
            "\u001b[31m---------------------------------------------------------------------------\u001b[39m",
            "\u001b[31mTypeError\u001b[39m                                 Traceback (most recent call last)",
            "\u001b[36mCell\u001b[39m\u001b[36m \u001b[39m\u001b[32mIn[64]\u001b[39m\u001b[32m, line 2\u001b[39m\n\u001b[32m      1\u001b[39m \u001b[38;5;66;03m# A tuple cannot be modified: the code below produces an error\u001b[39;00m\n\u001b[32m----> \u001b[39m\u001b[32m2\u001b[39m \u001b[43mtuple_1\u001b[49m\u001b[43m[\u001b[49m\u001b[32;43m2\u001b[39;49m\u001b[43m]\u001b[49m= \u001b[33m\"\u001b[39m\u001b[33mHello\u001b[39m\u001b[33m\"\u001b[39m\n",
            "\u001b[31mTypeError\u001b[39m: 'tuple' object does not support item assignment"
          ]
        }
      ],
      "source": [
        "# A tuple cannot be modified: the code below produces an error\n",
        "tuple_1[2]= \"Hello\""
      ]
    },
    {
      "cell_type": "markdown",
      "metadata": {
        "colab_type": "text",
        "id": "3ZjRPRr2UdeC"
      },
      "source": [
        "### Exchanging values with tuples\n",
        "\n",
        "The first interesting thing we can do is exchange values for tuples:"
      ]
    },
    {
      "cell_type": "code",
      "execution_count": 65,
      "metadata": {
        "colab": {},
        "colab_type": "code",
        "id": "1sTpiMsAUdeD"
      },
      "outputs": [],
      "source": [
        "# Exchanging values using tuples\n",
        "\n",
        "a = 100\n",
        "b = 1000\n",
        "\n",
        "(a,b) = (b,a)\n"
      ]
    },
    {
      "cell_type": "code",
      "execution_count": 66,
      "metadata": {
        "colab": {
          "base_uri": "https://localhost:8080/",
          "height": 34
        },
        "colab_type": "code",
        "id": "Q4FvZ3OoUdeG",
        "outputId": "a1a78519-1b6d-4e33-d307-4cd79e5de838",
        "tags": []
      },
      "outputs": [
        {
          "name": "stdout",
          "output_type": "stream",
          "text": [
            "100\n"
          ]
        }
      ],
      "source": [
        "print(b)"
      ]
    },
    {
      "cell_type": "code",
      "execution_count": 67,
      "metadata": {
        "colab": {
          "base_uri": "https://localhost:8080/",
          "height": 34
        },
        "colab_type": "code",
        "id": "W3MODT3aUdeK",
        "outputId": "6f87c24d-d45a-45d4-d2c4-d81b5571a3cc",
        "tags": []
      },
      "outputs": [
        {
          "name": "stdout",
          "output_type": "stream",
          "text": [
            "1000\n"
          ]
        }
      ],
      "source": [
        "print(a)"
      ]
    },
    {
      "cell_type": "markdown",
      "metadata": {
        "colab_type": "text",
        "id": "03kjGZRaUdeM"
      },
      "source": [
        "### Iterate over tuples\n",
        "\n",
        "Let's imagine that we have a list in which each element is a tuple, as in the example below:"
      ]
    },
    {
      "cell_type": "code",
      "execution_count": 68,
      "metadata": {
        "colab": {},
        "colab_type": "code",
        "id": "VZS6tx9ZUdeN"
      },
      "outputs": [],
      "source": [
        "list_tuples = [(\"antoine\", 24), (\"lea\", 22), (\"margaux\",20)]"
      ]
    },
    {
      "cell_type": "markdown",
      "metadata": {
        "colab_type": "text",
        "id": "cVpiD-UXUdeP"
      },
      "source": [
        "It is possible to iterate on each tuple and retrieve first names and ages separately in the following way:"
      ]
    },
    {
      "cell_type": "code",
      "execution_count": 71,
      "metadata": {
        "colab": {
          "base_uri": "https://localhost:8080/",
          "height": 170
        },
        "colab_type": "code",
        "id": "GDRC568xUdeP",
        "outputId": "2a443703-7fde-41fe-fa87-8d33916d764b",
        "tags": []
      },
      "outputs": [
        {
          "name": "stdout",
          "output_type": "stream",
          "text": [
            "first name: antoine\n",
            "age: 24\n",
            "--------------------\n",
            "first name: lea\n",
            "age: 22\n",
            "--------------------\n",
            "first name: margaux\n",
            "age: 20\n",
            "--------------------\n"
          ]
        }
      ],
      "source": [
        "for i in list_tuples: ## i is the tuple\n",
        "    print(\"first name:\" ,i[0] ) ## tuples`s first element\n",
        "    print(\"age:\", i[1]) ## tuples's second element\n",
        "    print(\"--------------------\")"
      ]
    },
    {
      "cell_type": "markdown",
      "metadata": {
        "colab_type": "text",
        "id": "W9KLxXpMUdeS"
      },
      "source": [
        "There is a more practical way of doing this, by giving names to each element of the tuple:"
      ]
    },
    {
      "cell_type": "code",
      "execution_count": 72,
      "metadata": {
        "colab": {
          "base_uri": "https://localhost:8080/",
          "height": 170
        },
        "colab_type": "code",
        "id": "o3nwH6CTUdeS",
        "outputId": "72c7c48b-35e4-4b53-f8c3-3b7de84d1a4d",
        "tags": []
      },
      "outputs": [
        {
          "name": "stdout",
          "output_type": "stream",
          "text": [
            "first_name: antoine\n",
            "age: 24\n",
            "---------------------------\n",
            "first_name: lea\n",
            "age: 22\n",
            "---------------------------\n",
            "first_name: margaux\n",
            "age: 20\n",
            "---------------------------\n"
          ]
        }
      ],
      "source": [
        "# Here, we give explicit names (first_name, age) to the elements on which we iterate:\n",
        "for first_name, age in list_tuples:\n",
        "    print(\"first_name:\", first_name)\n",
        "    print(\"age:\", age)\n",
        "    print(\"---------------------------\")"
      ]
    },
    {
      "cell_type": "markdown",
      "metadata": {},
      "source": [
        "# sets"
      ]
    },
    {
      "cell_type": "markdown",
      "metadata": {},
      "source": [
        " Python Sets - 20 Minute Lesson\n",
        "\n",
        "## What are Sets?\n",
        "Sets are unordered collections of unique elements. They're similar to mathematical sets and are perfect for removing duplicates and performing set operations.\n"
      ]
    },
    {
      "cell_type": "markdown",
      "metadata": {},
      "source": [
        "## Creating Sets\n"
      ]
    },
    {
      "cell_type": "code",
      "execution_count": 77,
      "metadata": {},
      "outputs": [
        {
          "name": "stdout",
          "output_type": "stream",
          "text": [
            "set()\n",
            "{'apple', 'orange', 'banana'}\n",
            "{1, 2, 3, 4, 5}\n",
            "{1, 2, 3, 4}\n"
          ]
        }
      ],
      "source": [
        "\n",
        "\n",
        "# Empty set\n",
        "#  Note: {} creates a dict, not a set!\n",
        "empty_set = set()\n",
        "print(empty_set)\n",
        "\n",
        "# Set with elements\n",
        "fruits = {\"apple\", \"banana\", \"orange\"}\n",
        "numbers = {1,2,3,4,5}\n",
        "print(fruits)\n",
        "print(numbers)\n",
        "\n",
        "\n",
        "# From a list (removes duplicates)\n",
        "  # {1, 2, 3, 4}\n",
        "list_duplicates = [1,2,2,3,3,3,3,4] \n",
        "list_duplicates \n",
        "set_from_the_list_above = set(list_duplicates)\n",
        "print(set_from_the_list_above)\n",
        "\n"
      ]
    },
    {
      "cell_type": "markdown",
      "metadata": {},
      "source": [
        "## Basic Set Operations\n"
      ]
    },
    {
      "cell_type": "code",
      "execution_count": 92,
      "metadata": {},
      "outputs": [
        {
          "name": "stdout",
          "output_type": "stream",
          "text": [
            "{'apple', 'orange', 'pear', 'kiwi', 'grape', 'melon'}\n",
            "apple\n",
            "Apple is in the set fruits which is false\n",
            "5\n"
          ]
        }
      ],
      "source": [
        "\n",
        "# Adding elements\n",
        "fruits = {\"apple\", \"banana\"}\n",
        "fruits.add(\"orange\")\n",
        "fruits.add(\"melon\")\n",
        "fruits.add(\"kiwi\")\n",
        "fruits.update([\"grape\", \"pear\"])\n",
        "\n",
        "\n",
        "\n",
        "# Removing elements\n",
        "fruits.remove(\"banana\")\n",
        "fruits.discard(\"mango\") ## even if mango is not here it will not raise value error\n",
        "print(fruits)\n",
        "\n",
        "popped = fruits.pop()\n",
        "print(popped)\n",
        "\n",
        "\n",
        "# Checking membership\n",
        "if \"kiwi\" in fruits:\n",
        "    print(\"Apple is in the set fruits which is false\")\n",
        "\n",
        "# Set size\n",
        "print(len(fruits))\n",
        "\n",
        "\n"
      ]
    },
    {
      "cell_type": "code",
      "execution_count": 99,
      "metadata": {},
      "outputs": [
        {
          "name": "stdout",
          "output_type": "stream",
          "text": [
            "{1, 2, 3, 4, 5, 6} {1, 2, 3, 4, 5, 6}\n",
            "{3, 4} {3, 4}\n",
            "{1, 2} {1, 2}\n",
            "{1, 2, 5, 6} {1, 2, 5, 6}\n"
          ]
        }
      ],
      "source": [
        "## Set Mathematical Operations\n",
        "set_a = {1,2,3,4}\n",
        "set_b = {3,4,5,6}\n",
        "# Union (all elements from both sets)\n",
        "## result  {1,2,3,4,5,6}\n",
        "union = set_a | set_b\n",
        "union_same = set_a.union(set_b)\n",
        "print(union, union_same)\n",
        "\n",
        "# Intersection (common elements)\n",
        "## result {3,4}\n",
        "intersection = set_a & set_b\n",
        "intersection_same = set_a.intersection(set_b)\n",
        "print(intersection, intersection_same) \n",
        "\n",
        "# Difference (elements in A but not in B)\n",
        "## result {1,2}\n",
        "difference = set_a - set_b\n",
        "difference_same = set_a.difference(set_b)\n",
        "print(difference, difference_same)\n",
        "\n",
        "# Symmetric difference (elements in either set, but not both)\n",
        "sym_difference = set_a ^set_b ## {1,2,5,6}\n",
        "sym_difference_same = set_a.symmetric_difference(set_b)\n",
        "print(sym_difference,sym_difference_same )\n"
      ]
    },
    {
      "cell_type": "code",
      "execution_count": 104,
      "metadata": {},
      "outputs": [
        {
          "name": "stdout",
          "output_type": "stream",
          "text": [
            "True True\n",
            "True True\n",
            "True False\n"
          ]
        }
      ],
      "source": [
        "## Set Relationships\n",
        "set_a = {1,2}\n",
        "set_b = {1,2,3,4}\n",
        "# Subset checking\n",
        "is_subset = set_a <= set_b # True\n",
        "is_subset_same = set_a.issubset(set_b)\n",
        "print(is_subset, is_subset_same)\n",
        "\n",
        "# Superset checking\n",
        "is_superset = set_b >= set_a # True\n",
        "is_superset_same = set_b.issuperset(set_a)\n",
        "print(is_superset, is_superset_same)\n",
        "\n",
        "\n",
        "# Disjoint sets (no common elements)\n",
        "## example_1 = {1,2,34}\n",
        "## example_2 = {6,7}\n",
        "## example_1.intersection(example_2) = set()\n",
        "\n",
        "set_c = {3,4}\n",
        "are_disjoint = set_a.isdisjoint(set_c)\n",
        "are_disjoint_example_2 = set_a.isdisjoint(set_b)\n",
        "print(are_disjoint, are_disjoint_example_2 )"
      ]
    },
    {
      "cell_type": "code",
      "execution_count": 118,
      "metadata": {},
      "outputs": [
        {
          "name": "stdout",
          "output_type": "stream",
          "text": [
            "[1, 2, 3, 4]\n"
          ]
        },
        {
          "data": {
            "text/plain": [
              "True"
            ]
          },
          "execution_count": 118,
          "metadata": {},
          "output_type": "execute_result"
        }
      ],
      "source": [
        "## Practical Examples\n",
        "\n",
        "# Remove duplicates from a list\n",
        "data = [1,2,2,3,4,4,4,]\n",
        "unique_data = list(set(data))\n",
        "print(unique_data)\n",
        "\n",
        "# Find common elements between lists\n",
        "# Find common elements between lists\n",
        "list1 = [\"a\", \"b\", \"c\", \"d\"]\n",
        "list2 = [\"c\", \"d\", \"e\", \"f\"]\n",
        "## [\"c\", \"d\"]\n",
        "## common elements we need use the intersection: &\n",
        "## need to transform the lists in sets\n",
        "set(list1) ## {\"a\", \"b\", \"c\", \"d\"}\n",
        "set (list2) ##  {\"c\", \"d\", \"e\", \"f\"}\n",
        "list(set(list1) & set(list2)) ## {\"c\", \"d\"}\n",
        "\n",
        "# Find unique elements across multiple lists\n",
        "unique_elements = list(set(list1) | set(list2))\n",
        "unique_elements\n",
        "\n",
        "# Check if all elements in one list are in another\n",
        "required = {\"username\", \"password\"} # subset\n",
        "provided = {\"username\", \"password\", \"email\"} # superset\n",
        "required <= provided"
      ]
    },
    {
      "cell_type": "code",
      "execution_count": 114,
      "metadata": {},
      "outputs": [
        {
          "data": {
            "text/plain": [
              "['d', 'c']"
            ]
          },
          "execution_count": 114,
          "metadata": {},
          "output_type": "execute_result"
        }
      ],
      "source": [
        "# Find common elements between lists\n",
        "list1 = [\"a\", \"b\", \"c\", \"d\"]\n",
        "list2 = [\"c\", \"d\", \"e\", \"f\"]\n",
        "## [\"c\", \"d\"]\n",
        "## common elements we need use the intersection: &\n",
        "## need to transform the lists in sets\n",
        "set(list1) ## {\"a\", \"b\", \"c\", \"d\"}\n",
        "set (list2) ##  {\"c\", \"d\", \"e\", \"f\"}\n",
        "list(set(list1) & set(list2)) ## {\"c\", \"d\"}\n",
        "#common_elements = "
      ]
    },
    {
      "cell_type": "code",
      "execution_count": 123,
      "metadata": {},
      "outputs": [
        {
          "data": {
            "text/plain": [
              "[32.0,\n",
              " 32.10526315789474,\n",
              " 32.21052631578947,\n",
              " 32.473684210526315,\n",
              " 32.589473684210525]"
            ]
          },
          "execution_count": 123,
          "metadata": {},
          "output_type": "execute_result"
        }
      ],
      "source": [
        "## Set Comprehensions\n",
        "\n",
        "# Create sets using comprehensions\n",
        "\n",
        "## create the sets of power 2 of all numbers less 10 =0,1,2,3,4,5,6,7,8,9 -- > range(0,10)= range(10)\n",
        "squares = { number**2 for number in range(10) }\n",
        "squares\n",
        "\n",
        "# With conditions\n",
        "## power 2 of the integers < 100 that are even numbers\n",
        "## %  4%2 =0, 3%2=1 because 3 = 2 + 1 \n",
        "\n",
        "even_squares ={x**2 for x in range(100) if x%2 ==0}\n",
        "even_squares\n",
        "\n",
        "\n",
        "# From strings\n",
        "\n",
        "vowels = {\"a\", \"e\", \"i\", \"o\", \"u\"}\n",
        "text = \"hello world\"\n",
        "## which vowels are in the text string: \"e\", \"o\"\n",
        "vowels_found = {character for character in text if character in vowels} ## \n",
        "vowels_found\n",
        "\n",
        "\n",
        "\n",
        "### exercise: convert temperatures from Celsius to Fahrenheit\n",
        "## f = c/95 + 32\n",
        "\n",
        "celsius_temperatures = [0,10,20,45,56]\n",
        "fahrenheit_from_list_above = [  x/95 + 32 for x in celsius_temperatures  ]\n",
        "fahrenheit_from_list_above\n",
        "\n",
        "\n",
        "\n",
        "\n"
      ]
    },
    {
      "cell_type": "markdown",
      "metadata": {},
      "source": [
        "```\n",
        "\n",
        "## When to Use Sets\n",
        "- Removing duplicates from collections\n",
        "- Fast membership testing (O(1) average case)\n",
        "- Mathematical set operations\n",
        "- Finding unique elements\n",
        "- Checking relationships between collections\n",
        "\n",
        "## Key Points to Remember\n",
        "- Sets are unordered and contain only unique elements\n",
        "- Sets are mutable (but frozenset is immutable)\n",
        "- Empty set: `set()`, not `{}`\n",
        "- Great for mathematical operations"
      ]
    },
    {
      "cell_type": "markdown",
      "metadata": {},
      "source": [
        "## EXERCISES"
      ]
    },
    {
      "cell_type": "code",
      "execution_count": 2,
      "metadata": {},
      "outputs": [
        {
          "name": "stdout",
          "output_type": "stream",
          "text": [
            "=== Exercise 1: Patient Data Management ===\n",
            "\n",
            "Our patient data:\n",
            "  ('Alice', 28, 'Treatment A')\n",
            "  ('Bob', 32, 'Treatment B')\n",
            "  ('Carol', 30, 'Treatment A')\n",
            "  ('David', 29, 'Treatment B')\n",
            "\n",
            "PART 1: Understanding Tuples\n",
            "------------------------------\n",
            "Task 1.1: Print patient information\n",
            "PART 2: Creating and Using Dictionaries\n",
            "----------------------------------------\n",
            "Task 2.1: Create patient dictionaries\n",
            "Task 2.3: Count patients by treatment type\n",
            "PART 3: Using Sets for Unique Items\n",
            "-----------------------------------\n",
            "Task 3.1: Find all unique procedures\n",
            "🌟 CHALLENGE TASKS 🌟\n",
            "--------------------\n",
            "Challenge 1: Patient lookup by treatment\n"
          ]
        }
      ],
      "source": [
        "# Exercise 1: Dictionaries, Tuples, and Sets\n",
        "# Working with Patient Data - Beginner Level\n",
        "\n",
        "# Let's work with some simple patient data to learn about Python data structures!\n",
        "\n",
        "print(\"=== Exercise 1: Patient Data Management ===\\n\")\n",
        "\n",
        "# Sample data - a list of patient information\n",
        "patients = [\n",
        "    (\"Alice\", 28, \"Treatment A\"),\n",
        "    (\"Bob\", 32, \"Treatment B\"), \n",
        "    (\"Carol\", 30, \"Treatment A\"),\n",
        "    (\"David\", 29, \"Treatment B\")\n",
        "]\n",
        "\n",
        "print(\"Our patient data:\")\n",
        "for patient in patients:\n",
        "    print(f\"  {patient}\")\n",
        "print()\n",
        "\n",
        "# === PART 1: Working with Tuples ===\n",
        "print(\"PART 1: Understanding Tuples\")\n",
        "print(\"-\" * 30)\n",
        "\n",
        "# Task 1.1: Access tuple elements\n",
        "# Complete the code to print each patient's information nicely\n",
        "print(\"Task 1.1: Print patient information\")\n",
        "\n",
        "    \n",
        "# Your turn: print in format \"Name: Alice, Age: 28, Treatment: Treatment A\"\n",
        "\n",
        "\n",
        "\n",
        "# Task 1.2: Find the oldest patient\n",
        "\n",
        "#print(f\"Oldest patient: {oldest_name} (age {oldest_age})\")\n",
        "#print()\n",
        "\n",
        "# === PART 2: Working with Dictionaries ===\n",
        "print(\"PART 2: Creating and Using Dictionaries\")\n",
        "print(\"-\" * 40)\n",
        "\n",
        "# Task 2.1: Convert patient tuples to dictionaries\n",
        "print(\"Task 2.1: Create patient dictionaries\")\n",
        "\n",
        "\n",
        "\n",
        "# Print the first patient dictionary as example\n",
        "\n",
        "\n",
        "# Task 2.2: Add new information to dictionaries\n",
        "\n",
        "# Let's add appointment dates to our patient dictionaries\n",
        "appointment_dates = [\"2024-01-15\", \"2024-01-16\", \"2024-01-17\", \"2024-01-18\"]\n",
        "\n",
        "\n",
        "\n",
        "# Print updated information\n",
        "\n",
        "\n",
        "# Task 2.3: Count patients by treatment\n",
        "print(\"Task 2.3: Count patients by treatment type\")\n",
        "\n",
        "\n",
        "\n",
        "# === PART 3: Working with Sets ===\n",
        "print(\"PART 3: Using Sets for Unique Items\")\n",
        "print(\"-\" * 35)\n",
        "\n",
        "# Sample data with procedures for each patient\n",
        "patient_procedures = {\n",
        "    \"Alice\": [\"consultation\", \"blood_test\", \"ultrasound\"],\n",
        "    \"Bob\": [\"consultation\", \"blood_test\"],\n",
        "    \"Carol\": [\"ultrasound\", \"blood_test\", \"consultation\"], \n",
        "    \"David\": [\"blood_test\", \"consultation\", \"x-ray\"]\n",
        "}\n",
        "\n",
        "\n",
        "# Task 3.1: Find all unique procedures\n",
        "print(\"Task 3.1: Find all unique procedures\")\n",
        "\n",
        "\n",
        "\n",
        "\n",
        "# Task 3.2: Find common procedures\n",
        "\n",
        "\n",
        "\n",
        "# Your code here: find procedures both patients have\n",
        "# Hint: use set intersection (&)\n",
        "\n",
        "\n",
        "\n",
        "# Task 3.3: Find unique procedures for each patient\n",
        "\n",
        "# Compare Alice and Bob\n",
        "\n",
        "\n",
        "# Your code here: find procedures only Alice has\n",
        "# Hint: use set difference (-)\n",
        "\n",
        "\n",
        "\n",
        "# === CHALLENGE TASKS ===\n",
        "print(\"🌟 CHALLENGE TASKS 🌟\")\n",
        "print(\"-\" * 20)\n",
        "\n",
        "# Challenge 1: Create a patient lookup system\n",
        "print(\"Challenge 1: Patient lookup by treatment\")\n",
        "\n",
        "\n",
        "\n",
        "# Challenge 2: Find patients with the most procedures\n"
      ]
    },
    {
      "cell_type": "code",
      "execution_count": 3,
      "metadata": {},
      "outputs": [
        {
          "data": {
            "text/plain": [
              "'\\nList Comprehensions: A Pythonic way to create lists\\nDuration: 10 minutes\\nPrerequisites: Basic Python lists, for loops, if statements\\n'"
            ]
          },
          "execution_count": 3,
          "metadata": {},
          "output_type": "execute_result"
        }
      ],
      "source": [
        "# List Comprehensions - 10 Minute Module\n",
        "# =====================================\n",
        "\n",
        "\"\"\"\n",
        "List Comprehensions: A Pythonic way to create lists\n",
        "Duration: 10 minutes\n",
        "Prerequisites: Basic Python lists, for loops, if statements\n",
        "\"\"\"\n",
        "\n",
        "# =============================================================================\n",
        "# 1. INTRODUCTION (2 minutes)\n",
        "# =============================================================================\n",
        "\n",
        "# Traditional way to create a list of squares\n",
        "\n",
        "\n",
        "# List comprehension way - same result, one line!\n",
        "\n",
        "# Why use list comprehensions?\n",
        "# 1. More concise and readable\n",
        "# 2. Generally faster than traditional loops\n",
        "# 3. Pythonic - the preferred way in Python\n",
        "# 4. Can combine mapping and filtering in one expression\n"
      ]
    },
    {
      "cell_type": "code",
      "execution_count": null,
      "metadata": {},
      "outputs": [],
      "source": [
        "# =============================================================================\n",
        "# 2. BASIC SYNTAX (2 minutes)\n",
        "# =============================================================================\n",
        "\n",
        "# Basic syntax: [expression for item in iterable]\n",
        "\n",
        "# Example 1: Create a list of even numbers\n",
        "\n",
        "# Example 2: Convert strings to uppercase\n",
        "\n",
        "\n",
        "# Example 3: Extract first letters\n",
        "\n",
        "# Example 4: Mathematical operations\n"
      ]
    },
    {
      "cell_type": "code",
      "execution_count": 4,
      "metadata": {},
      "outputs": [],
      "source": [
        "# =============================================================================\n",
        "# 3. WITH CONDITIONS (2 minutes)\n",
        "# =============================================================================\n",
        "\n",
        "# Syntax with condition: [expression for item in iterable if condition]\n",
        "\n",
        "# Filter positive numbers\n",
        "\n",
        "# Filter and transform\n",
        "# Get squares of positive numbers only\n",
        "\n",
        "\n",
        "# Multiple conditions\n",
        "# Numbers between 0 and 50 that are divisible by both 2 and 3\n",
        "\n",
        "\n",
        "# String filtering\n",
        "\n",
        "\n",
        "\n"
      ]
    },
    {
      "cell_type": "code",
      "execution_count": null,
      "metadata": {},
      "outputs": [],
      "source": [
        "# =============================================================================\n",
        "# 4. NESTED LIST COMPREHENSIONS (2 minutes)\n",
        "# =============================================================================\n",
        "\n",
        "# Creating a matrix\n",
        "\n",
        "\n",
        "# Flattening a list of lists\n",
        "\n",
        "# Cartesian product\n",
        "\n",
        "# With conditions in nested comprehensions\n",
        "# Get all even numbers from a matrix\n"
      ]
    },
    {
      "cell_type": "code",
      "execution_count": null,
      "metadata": {},
      "outputs": [],
      "source": [
        "# =============================================================================\n",
        "# 5. PRACTICAL EXAMPLES & EXERCISES (2 minutes)\n",
        "# =============================================================================\n",
        "\n",
        "# Example 1: Processing data\n",
        "grades = [85, 92, 78, 95, 88, 70, 60]\n",
        "# Get grades that are A's (90 and above)\n",
        "\n",
        "\n",
        "# Example 2: String processing\n",
        "sentence = \"The quick brown fox jumps over the lazy dog\"\n",
        "# Get words longer than 3 characters\n",
        "\n",
        "\n",
        "# Example 3: Dictionary comprehension bonus\n",
        "# Create a dictionary of squares\n",
        "\n",
        "\n"
      ]
    },
    {
      "cell_type": "code",
      "execution_count": null,
      "metadata": {},
      "outputs": [],
      "source": [
        "# EXERCISES - Try these yourself!\n",
        "print(\"\\n--- EXERCISES ---\")\n",
        "\n",
        "# Exercise 1: Create a list of the first 10 cube numbers (n³)\n",
        "c\n",
        "\n",
        "# Exercise 2: Extract all vowels from a string\n",
        "\n",
        "\n",
        "# Exercise 3: Get all numbers from 1-100 that are divisible by 7\n",
        "\n",
        "\n",
        "# Exercise 4: Convert temperatures from Celsius to Fahrenheit\n",
        "\n",
        "\n",
        "# Exercise 5: Create a list of tuples (number, square, cube) for numbers 1-5\n",
        "\n"
      ]
    },
    {
      "cell_type": "markdown",
      "metadata": {},
      "source": [
        "## Resources 📚📚\n",
        "\n",
        "* [Practical Introduction to Python Programming](https://drive.google.com/file/d/1ZKsxCX5lxbibEMKF-hvk5nWkfCMIA9_N/view?usp=drive_link)"
      ]
    }
  ],
  "metadata": {
    "colab": {
      "name": "02-Data_types.ipynb",
      "provenance": []
    },
    "kernelspec": {
      "display_name": "venv",
      "language": "python",
      "name": "python3"
    },
    "language_info": {
      "codemirror_mode": {
        "name": "ipython",
        "version": 3
      },
      "file_extension": ".py",
      "mimetype": "text/x-python",
      "name": "python",
      "nbconvert_exporter": "python",
      "pygments_lexer": "ipython3",
      "version": "3.13.1"
    }
  },
  "nbformat": 4,
  "nbformat_minor": 0
}
