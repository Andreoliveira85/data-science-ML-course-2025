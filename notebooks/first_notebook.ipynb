{
 "cells": [
  {
   "cell_type": "markdown",
   "id": "38eb5ae7",
   "metadata": {},
   "source": [
    "# This is my first notebook"
   ]
  },
  {
   "cell_type": "markdown",
   "id": "a6da4181",
   "metadata": {},
   "source": [
    "## Table of contents"
   ]
  },
  {
   "cell_type": "code",
   "execution_count": 2,
   "id": "61183cd8",
   "metadata": {},
   "outputs": [
    {
     "name": "stdout",
     "output_type": "stream",
     "text": [
      "Hello world!\n"
     ]
    }
   ],
   "source": [
    "print(\"Hello world!\")"
   ]
  },
  {
   "cell_type": "markdown",
   "id": "3b3529fe",
   "metadata": {},
   "source": [
    "print(\"Hello world!)"
   ]
  },
  {
   "cell_type": "code",
   "execution_count": 6,
   "id": "4bf9ed45",
   "metadata": {},
   "outputs": [],
   "source": [
    "## here I am making the objects inside of the folder (package) src available\n",
    "import sys\n",
    "\n",
    "sys.path.append(\"../src\")"
   ]
  },
  {
   "cell_type": "code",
   "execution_count": 7,
   "id": "528924c9",
   "metadata": {},
   "outputs": [],
   "source": [
    "from hello2 import greet_chef, prepare_workspace"
   ]
  },
  {
   "cell_type": "markdown",
   "id": "6071f743",
   "metadata": {},
   "source": [
    "from hello2 import greet_chef, prepare_workspace"
   ]
  },
  {
   "cell_type": "code",
   "execution_count": 9,
   "id": "b5b92120",
   "metadata": {},
   "outputs": [
    {
     "name": "stdout",
     "output_type": "stream",
     "text": [
      "=== Setting up our kitchen ===\n",
      "👋 Hello, Chef Data Science Student! Welcome to the kitchen!\n",
      "\n",
      "🧹 Cleaning the kitchen...\n",
      "🔪 Sharpening knives...\n",
      "🍽️ Setting up plates...\n",
      "✅ Kitchen is ready for cooking!\n",
      "\n",
      "🎉 Kitchen setup complete!\n"
     ]
    }
   ],
   "source": [
    "print(\"=== Setting up our kitchen ===\")\n",
    "message = greet_chef(\"Data Science Student\")\n",
    "print(message)\n",
    "print()\n",
    "\n",
    "prepare_workspace()\n",
    "print()\n",
    "print(\"🎉 Kitchen setup complete!\")"
   ]
  },
  {
   "cell_type": "code",
   "execution_count": null,
   "id": "07e02e72",
   "metadata": {},
   "outputs": [],
   "source": []
  }
 ],
 "metadata": {
  "kernelspec": {
   "display_name": "venv",
   "language": "python",
   "name": "python3"
  },
  "language_info": {
   "codemirror_mode": {
    "name": "ipython",
    "version": 3
   },
   "file_extension": ".py",
   "mimetype": "text/x-python",
   "name": "python",
   "nbconvert_exporter": "python",
   "pygments_lexer": "ipython3",
   "version": "3.13.5"
  }
 },
 "nbformat": 4,
 "nbformat_minor": 5
}
