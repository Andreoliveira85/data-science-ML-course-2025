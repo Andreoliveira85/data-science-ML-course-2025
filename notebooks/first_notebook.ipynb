{
 "cells": [
  {
   "cell_type": "markdown",
   "id": "6b2fb2fc",
   "metadata": {},
   "source": [
    "This is my frist notebook"
   ]
  },
  {
   "cell_type": "markdown",
   "id": "b52b8b5d",
   "metadata": {},
   "source": [
    "## Table of contents "
   ]
  },
  {
   "cell_type": "code",
   "execution_count": 1,
   "id": "28f0db37",
   "metadata": {},
   "outputs": [
    {
     "name": "stdout",
     "output_type": "stream",
     "text": [
      "Hello World!\n"
     ]
    }
   ],
   "source": [
    "print(\"Hello World!\" )"
   ]
  },
  {
   "cell_type": "code",
   "execution_count": 5,
   "id": "b322f53d",
   "metadata": {},
   "outputs": [],
   "source": [
    "## here I am making the objects inside of the folder (package) src available\n",
    "import sys\n",
    "\n",
    "sys.path.append(\"../src\")\n"
   ]
  },
  {
   "cell_type": "code",
   "execution_count": 6,
   "id": "7cd9004f",
   "metadata": {},
   "outputs": [],
   "source": [
    "from hello2 import greet_chef, prepare_workspace\n"
   ]
  },
  {
   "cell_type": "code",
   "execution_count": 7,
   "id": "cbdfece8",
   "metadata": {},
   "outputs": [
    {
     "name": "stdout",
     "output_type": "stream",
     "text": [
      "=== Setting up our kitchen ===\n",
      "👋 Hello, Chef Data Science Student! Welcome to the kitchen!\n",
      "\n",
      "🧹 Cleaning the kitchen...\n",
      "🔪 Sharpening knives...\n",
      "🍽️ Setting up plates...\n",
      "✅ Kitchen is ready for cooking!\n",
      "one more time\n",
      "\n",
      "🎉 Kitchen setup complete!\n"
     ]
    }
   ],
   "source": [
    "print(\"=== Setting up our kitchen ===\")\n",
    "message = greet_chef(\"Data Science Student\")\n",
    "print(message)\n",
    "print()\n",
    "\n",
    "prepare_workspace()\n",
    "print()\n",
    "print(\"🎉 Kitchen setup complete!\")"
   ]
  },
  {
   "cell_type": "code",
   "execution_count": null,
   "id": "774dcf78",
   "metadata": {},
   "outputs": [],
   "source": []
  }
 ],
 "metadata": {
  "kernelspec": {
   "display_name": "venv",
   "language": "python",
   "name": "python3"
  },
  "language_info": {
   "codemirror_mode": {
    "name": "ipython",
    "version": 3
   },
   "file_extension": ".py",
   "mimetype": "text/x-python",
   "name": "python",
   "nbconvert_exporter": "python",
   "pygments_lexer": "ipython3",
   "version": "3.12.7"
  }
 },
 "nbformat": 4,
 "nbformat_minor": 5
}
