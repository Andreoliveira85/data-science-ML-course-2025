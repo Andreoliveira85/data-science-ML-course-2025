{
 "cells": [
  {
   "cell_type": "markdown",
   "id": "2fa8b2de",
   "metadata": {},
   "source": [
    "## Simulations"
   ]
  },
  {
   "cell_type": "code",
   "execution_count": 1,
   "id": "db3bd00f",
   "metadata": {},
   "outputs": [],
   "source": [
    "import pandas as pd\n",
    "import numpy as np\n",
    "import math\n",
    "import matplotlib.pyplot as plt\n",
    "import random\n",
    "from scipy.stats import bernoulli\n",
    "from scipy.stats import binom\n",
    "from scipy.stats import geom\n",
    "from scipy.stats import poisson\n",
    "from scipy.stats import uniform\n",
    "from scipy.stats import expon\n",
    "from scipy.stats import norm"
   ]
  },
  {
   "cell_type": "code",
   "execution_count": 2,
   "id": "3e7f1f7a",
   "metadata": {},
   "outputs": [],
   "source": [
    "## we create an experiment of throwing 1000 pairs of dices and we are interested in getting \n",
    "## the sum of the outcomes\n",
    "# since the outcomes of each dice will have the same probability\n",
    "# we will sample a uniform distribution on {1,2,3,4,5,6}\n",
    "\n",
    "\n",
    "experiment_1000trials = [random.randint(1,6) + random.randint(1,6) for trial in range(1000)]"
   ]
  },
  {
   "cell_type": "code",
   "execution_count": 3,
   "id": "99936613",
   "metadata": {},
   "outputs": [],
   "source": [
    "# possible set outcomes\n",
    "\n",
    "counting_result ={2:0, 3:0, 4:0, 5:0, 6:0 , 7:0, 8:0, 9:0, 10:0, 11:0, 12:0}\n",
    "for result in experiment_1000trials:\n",
    "    counting_result[result] +=1 # counting_result[result] = counting_result[result] + 1"
   ]
  },
  {
   "cell_type": "code",
   "execution_count": 5,
   "id": "0c506f74",
   "metadata": {},
   "outputs": [
    {
     "data": {
      "text/html": [
       "<div>\n",
       "<style scoped>\n",
       "    .dataframe tbody tr th:only-of-type {\n",
       "        vertical-align: middle;\n",
       "    }\n",
       "\n",
       "    .dataframe tbody tr th {\n",
       "        vertical-align: top;\n",
       "    }\n",
       "\n",
       "    .dataframe thead th {\n",
       "        text-align: right;\n",
       "    }\n",
       "</style>\n",
       "<table border=\"1\" class=\"dataframe\">\n",
       "  <thead>\n",
       "    <tr style=\"text-align: right;\">\n",
       "      <th></th>\n",
       "      <th>count</th>\n",
       "    </tr>\n",
       "  </thead>\n",
       "  <tbody>\n",
       "    <tr>\n",
       "      <th>2</th>\n",
       "      <td>30</td>\n",
       "    </tr>\n",
       "    <tr>\n",
       "      <th>3</th>\n",
       "      <td>42</td>\n",
       "    </tr>\n",
       "    <tr>\n",
       "      <th>4</th>\n",
       "      <td>82</td>\n",
       "    </tr>\n",
       "    <tr>\n",
       "      <th>5</th>\n",
       "      <td>118</td>\n",
       "    </tr>\n",
       "    <tr>\n",
       "      <th>6</th>\n",
       "      <td>141</td>\n",
       "    </tr>\n",
       "    <tr>\n",
       "      <th>7</th>\n",
       "      <td>176</td>\n",
       "    </tr>\n",
       "    <tr>\n",
       "      <th>8</th>\n",
       "      <td>112</td>\n",
       "    </tr>\n",
       "    <tr>\n",
       "      <th>9</th>\n",
       "      <td>132</td>\n",
       "    </tr>\n",
       "    <tr>\n",
       "      <th>10</th>\n",
       "      <td>81</td>\n",
       "    </tr>\n",
       "    <tr>\n",
       "      <th>11</th>\n",
       "      <td>59</td>\n",
       "    </tr>\n",
       "    <tr>\n",
       "      <th>12</th>\n",
       "      <td>27</td>\n",
       "    </tr>\n",
       "  </tbody>\n",
       "</table>\n",
       "</div>"
      ],
      "text/plain": [
       "    count\n",
       "2      30\n",
       "3      42\n",
       "4      82\n",
       "5     118\n",
       "6     141\n",
       "7     176\n",
       "8     112\n",
       "9     132\n",
       "10     81\n",
       "11     59\n",
       "12     27"
      ]
     },
     "execution_count": 5,
     "metadata": {},
     "output_type": "execute_result"
    }
   ],
   "source": [
    "count_df = pd.DataFrame(pd.Series(counting_result), columns=[\"count\"])\n",
    "count_df"
   ]
  },
  {
   "cell_type": "code",
   "execution_count": 6,
   "id": "bc7a49c7",
   "metadata": {},
   "outputs": [
    {
     "data": {
      "text/plain": [
       "<Axes: >"
      ]
     },
     "execution_count": 6,
     "metadata": {},
     "output_type": "execute_result"
    },
    {
     "data": {
      "image/png": "[encoded data removed]",
      "text/plain": [
       "<Figure size 640x480 with 1 Axes>"
      ]
     },
     "metadata": {},
     "output_type": "display_data"
    }
   ],
   "source": [
    "count_df.plot(kind=\"bar\", y=\"count\")\n",
    "# this is the distribution of my experiment"
   ]
  },
  {
   "cell_type": "code",
   "execution_count": 7,
   "id": "bd13e2e4",
   "metadata": {},
   "outputs": [],
   "source": [
    "def experiment(number_trials):\n",
    "    experiment_1000trials = [random.randint(1,6) + random.randint(1,6) for trial in range(number_trials)]\n",
    "    counting_result ={2:0, 3:0, 4:0, 5:0, 6:0 , 7:0, 8:0, 9:0, 10:0, 11:0, 12:0}\n",
    "    for result in experiment_1000trials:\n",
    "        counting_result[result] +=1 # counting_result[result] = counting_result[result] + 1\n",
    "    count_df = pd.DataFrame(pd.Series(counting_result), columns=[\"count\"])\n",
    "    return count_df.plot(kind=\"bar\", y=\"count\")\n"
   ]
  },
  {
   "cell_type": "code",
   "execution_count": 8,
   "id": "2ee98d24",
   "metadata": {},
   "outputs": [
    {
     "data": {
      "text/plain": [
       "<Axes: >"
      ]
     },
     "execution_count": 8,
     "metadata": {},
     "output_type": "execute_result"
    },
    {
     "data": {
      "image/png": "[encoded data removed]",
      "text/plain": [
       "<Figure size 640x480 with 1 Axes>"
      ]
     },
     "metadata": {},
     "output_type": "display_data"
    }
   ],
   "source": [
    "experiment(1000000)"
   ]
  },
  {
   "cell_type": "code",
   "execution_count": 9,
   "id": "3a752b5a",
   "metadata": {},
   "outputs": [
    {
     "data": {
      "text/html": [
       "<div>\n",
       "<style scoped>\n",
       "    .dataframe tbody tr th:only-of-type {\n",
       "        vertical-align: middle;\n",
       "    }\n",
       "\n",
       "    .dataframe tbody tr th {\n",
       "        vertical-align: top;\n",
       "    }\n",
       "\n",
       "    .dataframe thead th {\n",
       "        text-align: right;\n",
       "    }\n",
       "</style>\n",
       "<table border=\"1\" class=\"dataframe\">\n",
       "  <thead>\n",
       "    <tr style=\"text-align: right;\">\n",
       "      <th></th>\n",
       "      <th>count</th>\n",
       "      <th>frequency</th>\n",
       "      <th>cum_frequency</th>\n",
       "    </tr>\n",
       "  </thead>\n",
       "  <tbody>\n",
       "    <tr>\n",
       "      <th>2</th>\n",
       "      <td>30</td>\n",
       "      <td>0.030</td>\n",
       "      <td>0.030</td>\n",
       "    </tr>\n",
       "    <tr>\n",
       "      <th>3</th>\n",
       "      <td>42</td>\n",
       "      <td>0.042</td>\n",
       "      <td>0.072</td>\n",
       "    </tr>\n",
       "    <tr>\n",
       "      <th>4</th>\n",
       "      <td>82</td>\n",
       "      <td>0.082</td>\n",
       "      <td>0.154</td>\n",
       "    </tr>\n",
       "    <tr>\n",
       "      <th>5</th>\n",
       "      <td>118</td>\n",
       "      <td>0.118</td>\n",
       "      <td>0.272</td>\n",
       "    </tr>\n",
       "    <tr>\n",
       "      <th>6</th>\n",
       "      <td>141</td>\n",
       "      <td>0.141</td>\n",
       "      <td>0.413</td>\n",
       "    </tr>\n",
       "    <tr>\n",
       "      <th>7</th>\n",
       "      <td>176</td>\n",
       "      <td>0.176</td>\n",
       "      <td>0.589</td>\n",
       "    </tr>\n",
       "    <tr>\n",
       "      <th>8</th>\n",
       "      <td>112</td>\n",
       "      <td>0.112</td>\n",
       "      <td>0.701</td>\n",
       "    </tr>\n",
       "    <tr>\n",
       "      <th>9</th>\n",
       "      <td>132</td>\n",
       "      <td>0.132</td>\n",
       "      <td>0.833</td>\n",
       "    </tr>\n",
       "    <tr>\n",
       "      <th>10</th>\n",
       "      <td>81</td>\n",
       "      <td>0.081</td>\n",
       "      <td>0.914</td>\n",
       "    </tr>\n",
       "    <tr>\n",
       "      <th>11</th>\n",
       "      <td>59</td>\n",
       "      <td>0.059</td>\n",
       "      <td>0.973</td>\n",
       "    </tr>\n",
       "    <tr>\n",
       "      <th>12</th>\n",
       "      <td>27</td>\n",
       "      <td>0.027</td>\n",
       "      <td>1.000</td>\n",
       "    </tr>\n",
       "  </tbody>\n",
       "</table>\n",
       "</div>"
      ],
      "text/plain": [
       "    count  frequency  cum_frequency\n",
       "2      30      0.030          0.030\n",
       "3      42      0.042          0.072\n",
       "4      82      0.082          0.154\n",
       "5     118      0.118          0.272\n",
       "6     141      0.141          0.413\n",
       "7     176      0.176          0.589\n",
       "8     112      0.112          0.701\n",
       "9     132      0.132          0.833\n",
       "10     81      0.081          0.914\n",
       "11     59      0.059          0.973\n",
       "12     27      0.027          1.000"
      ]
     },
     "execution_count": 9,
     "metadata": {},
     "output_type": "execute_result"
    }
   ],
   "source": [
    "count_df[\"frequency\"] = count_df[\"count\"]/count_df[\"count\"].sum()\n",
    "count_df[\"frequency\"].sum()\n",
    "\n",
    "count_df[\"cum_frequency\"] = count_df[\"frequency\"].cumsum()\n",
    "count_df"
   ]
  },
  {
   "cell_type": "code",
   "execution_count": 10,
   "id": "81471354",
   "metadata": {},
   "outputs": [
    {
     "data": {
      "text/plain": [
       "<Axes: >"
      ]
     },
     "execution_count": 10,
     "metadata": {},
     "output_type": "execute_result"
    },
    {
     "data": {
      "image/png": "[encoded data removed]",
      "text/plain": [
       "<Figure size 640x480 with 1 Axes>"
      ]
     },
     "metadata": {},
     "output_type": "display_data"
    }
   ],
   "source": [
    "count_df[\"cum_frequency\"].plot(kind=\"bar\", y= \"cum_frequency\")"
   ]
  },
  {
   "cell_type": "code",
   "execution_count": 11,
   "id": "fcf88644",
   "metadata": {},
   "outputs": [
    {
     "data": {
      "text/plain": [
       "np.float64(0.8605744116808268)"
      ]
     },
     "execution_count": 11,
     "metadata": {},
     "output_type": "execute_result"
    }
   ],
   "source": [
    "## example:\n",
    "\n",
    "## a plane with 240 seats. Each individual passenger has a 3% chance of missing the flight.\n",
    "## airplanes sell more tickets than the seats that are available. this is called overbooking.\n",
    "## if the company routinely sells 245 tickets, what is the chance that they have a seat for every passenger?\n",
    "\n",
    "\n",
    "## P(X <= 240)\n",
    "## X: number of tickets / number people seated (in theory) in the plane\n",
    "## Binomial(n,p): n=245, p=0.97 = 1-0.03 (prob sucess)\n",
    "\n",
    "binomial_distribution = binom(245, 0.97)\n",
    "binomial_distribution.cdf(240) ## P(X <=240)"
   ]
  },
  {
   "cell_type": "markdown",
   "id": "0418d95e",
   "metadata": {},
   "source": [
    "# Confidence Intervals \n",
    "\n",
    "As you are learning statistics, you start to realise that just because you had calculate one metric does not mean it is statistically significant. For example, you calculated the average revenue of a sample of users on a platform. Do you think this average represents the actual average of your whole user's database? Maybe yes, maybe not 🤷‍♀️\n",
    "\n",
    "What if there was a way to actual tell for sure? Well this can be done using **confidence intervals**. \n",
    "\n",
    "## What you're going to learn in this class 🧐🧐\n",
    "\n",
    "- What is a confidence interval\n",
    "- How to build them\n",
    "- Understand the difference between precision and accuracy\n",
    "- Create a confidence interval for a mean and for a proportion\n",
    "- Calculate the minimum sample size based on your population parameters\n",
    "\n",
    "## Why do we need a confidence interval? \n",
    "\n",
    "One of the most common problems encountered when conducting an experiment is knowing when **enough data has been collected to make an informed decision**. Although time constraints always come into play, it is vital to understand the consequences of making decisions with a low confidence level. The concept of **statistical significance** is a widely used tool among statisticians to address this very problem.\n",
    "\n",
    "Whenever we have a sample and calculate statistics, they can be used as a parameter for our population. For example, if you collect data on the age and gender of 100 randomly selected employees at Google, you will have a good idea of the age and gender of the entire population of Google employees. However, these results are inherently imperfect because the population is never perfectly represented. It is to quantify this inaccuracy that the concept of confidence intervals was created.\n",
    "\n",
    "After today's lesson, you will be able to present results in a format that will allow your colleagues to see exactly how accurate your measurements are. Let's look at an example:\n",
    "\n",
    "We can say with 95% certainty that:\n",
    "\n",
    "1. Between 40% and 80% of Google's employees are men\n",
    "2. The average age of employees is between 20 and 40 years old.\n",
    "\n",
    "(NB: This data is completely made-up and does not represent the real Google population 😘)\n",
    "\n",
    "## What's a confidence interval ✨\n",
    "\n",
    "In the example above, the 95% confidence level means that each time you take a new sample of individuals, there will be a 95% chance that their age is within the defined interval (between 20 and 40 years old). In fact, you also have a 5% chance that the age is outside this interval.\n",
    "\n",
    "So why not try to have a confidence interval of 99% or even 99.99%? Well, because the higher your confidence level, the wider your interval will be. To continue with the example above. You are 95% certain that the average age is between 20 and 40 years old, you will be as 99% certain that the average age is between 10 and 60 years old. You will have understood it, the whole in statistics is to arbitrate and balance the confidence rate and the confidence interval according to your constraints.\n",
    "\n",
    "### How to choose the right confidence interval\n",
    "\n",
    "The desired confidence level (or confidence rating) will depend on **the industry in which you work**. For example, for marketing decisions, a confidence level of 80% is more than sufficient. On the other hand, for the pharmaceutical industry, your confidence level will be higher at 95 or even 99%."
   ]
  },
  {
   "cell_type": "markdown",
   "id": "acf41e18",
   "metadata": {},
   "source": [
    "## Central Limit Theorem\n",
    "\n",
    "### Definition\n",
    "\n",
    "The Central Limit Theorem makes all these statistical calculations possible. This theorem states that the larger the samples, the closer the average of all these samples will be to the population average. Moreover, the more samples there are, the closer they will get to a normal distribution **no matter what distribution the sample followed initially**. \n",
    "\n",
    "Since we are dealing with averages when building confidence intervals, this theorem is extremely useful since we can take **any samples** of **any population**, calculate means of each of these samples and **these means will follow a normal distribution**. \n",
    "\n",
    "### Sample size\n",
    "\n",
    "As you add more sample means to your dataset, your distribution will converge toward to Normal Distribution:\n",
    "\n",
    "<img src=\"https://essentials-assets.s3.eu-west-3.amazonaws.com/M03-Python_programming_and_statistics/D02-A_B_testing_and_web_analytics/TCL_animated_V2.gif\"/>\n",
    "\n",
    "In terms of sample size, the Central Limit Theorem is considered to take effect from a sample of 30-40 individuals. (In our above example, we took random sample of size 100)\n",
    "\n",
    "Thus, this theorem allows us to approximate that any sample of more than 30-40 individuals follows a normal distribution."
   ]
  },
  {
   "cell_type": "markdown",
   "id": "6cf477f6",
   "metadata": {},
   "source": [
    "# How to calculate your confidence interval?\n",
    "\n",
    "Now that you've seen the fundamental theory behind confidence interval, how do we calculate them? Here are the steps you will need to follow. \n",
    "\n",
    "1. Calculate Mean or proportion of your sample \n",
    "2. Determine a confidence level $\\alpha$\n",
    "3. Calculate Margin of Error $E$ \n",
    "4. Build confidence interval \n",
    "\n",
    "For step `1.` you already know how to calculate a mean or a proportion using `pandas` librairie in Python. Let's cover the next steps. "
   ]
  },
  {
   "cell_type": "markdown",
   "id": "ba373ee9",
   "metadata": {},
   "source": [
    "## Confidence Level \n",
    "\n",
    "Your confidence level \\$alpha$ is simply the threshold which you consider high enough to accept your confidence interval. \n",
    "\n",
    "Let's take a simple example: \n",
    "\n",
    "> * Let's say you want to know the average spendings in a grocery store. Based on a sample of spendings, you want to know the actual average spendings of the whole population. Therefore you would build a confidence interval. \n",
    "\n",
    "> * You want to be 95% sure that your actual mean will lie within your confidence interval. \n",
    "\n",
    "> * This means you want to set an $\\alpha = 0.95$ \n",
    "\n",
    "\n",
    "The higher $\\alpha$ the wider your confidence interval (refer to our example in the *What's a confidence interval?* section if you want to understand the idea why)."
   ]
  },
  {
   "cell_type": "markdown",
   "id": "0464a261",
   "metadata": {},
   "source": [
    "## Margin of Error\n",
    "\n",
    "Now how would you calculate your confidence interval? \n",
    "\n",
    "One can use the standard deviation of the sample to determine the **margin of error (E)**. This margin of error can be estimated by dividing the standard deviation of your sample by the square root of its size:\n",
    "\n",
    "$$\n",
    "E = t \\frac{s}{\\sqrt{n}}\n",
    "$$\n",
    "\n",
    "$E$ represents the error we are _probably_ making by estimating the average of a measurement on a sample instead of studying the whole population. In other words, if we repeated the study once again on a different sample, we would probably get a mean value that is distant by $E$ from the previous study.\n",
    "\n",
    "**The margin of error is always associated with a given confidence level.** : \"I measured an average value $\\overline{X}$ on my sample, and I'm 90% sure that the real average lies between $\\overline{X} - E$ and $\\overline{X} + E$\". The interval $[\\overline{X} - E, \\overline{X} + E]$ is called the _confidence interval_.\n",
    "\n",
    "### Determining the t-value (or z-value)\n",
    "\n",
    "The t-value is determined from statistical distributions, depending on the confidence level that has been chosen for the study. You will never have to compute it by hand. To know which value to use, go to [http://statdistributions.com/t/](http://statdistributions.com/t/). Then follow the steps below :\n",
    "\n",
    "- Choose a confidence level $\\alpha$ (for example : 90%)\n",
    "- If you're working with a small sample size (n < 30-40) you'll have to use _Student's distribution_ to determine the t-value. Set the p-value to $1 - \\alpha$ (for example : 0.1) and the degrees of freedom $d.f. = n - 1$\n",
    "- If you're working with a \"big\" sample size (n > 30-40), then you'll have to use the _Normal distribution_. In this case, the t-value is denoted as $z-value$ and it only depends on the p-value. Below are listed the usual z-values:\n",
    "\n",
    "<center>\n",
    "  <table style={{\n",
    "  border: \"1px solid black\",\n",
    "  textAlign: \"center\"\n",
    "}}>\n",
    "    <tr>\n",
    "    <td><strong>Confidence Level</strong>\n",
    "    </td>\n",
    "    <td><strong>Z Critical Value</strong>\n",
    "    </td>\n",
    "    </tr>\n",
    "    <tr>\n",
    "    <td>80%\n",
    "    </td>\n",
    "    <td>1.28\n",
    "    </td>\n",
    "    </tr>\n",
    "    <tr>\n",
    "    <td>90%\n",
    "    </td>\n",
    "    <td>1.645\n",
    "    </td>\n",
    "    </tr>\n",
    "    <tr>\n",
    "    <td>95%\n",
    "    </td>\n",
    "    <td>1.96\n",
    "    </td>\n",
    "    </tr>\n",
    "    <tr>\n",
    "    <td>98%\n",
    "    </td>\n",
    "    <td>2.33\n",
    "    </td>\n",
    "    </tr>\n",
    "    <tr>\n",
    "    <td>99%\n",
    "    </td>\n",
    "    <td>2.58\n",
    "    </td>\n",
    "    </tr>\n",
    "    <tr>\n",
    "    <td>99.8%\n",
    "    </td>\n",
    "    <td>3.09\n",
    "    </td>\n",
    "    </tr>\n",
    "    <tr>\n",
    "    <td>99.9%\n",
    "    </td>\n",
    "    <td>3.29\n",
    "    </td>\n",
    "    </tr>\n",
    "  </table>\n",
    "</center>\n",
    "\n",
    "\n",
    "### Using the margin of error to compute the minimal sample size\n",
    "\n",
    "One can compute the minimal sample size $n$ that is needed to get a margin of error that is below a certain value :\n",
    "\n",
    "$$\n",
    "n = (\\frac{t \\times s}{E})^2\n",
    "$$\n",
    "\n",
    "## Confidence interval for proportions\n",
    "\n",
    "If you're working with ratios instead of average values, it's also possible to determine the confidence interval. The steps are the same as before, only the formula of the margin of error is different :\n",
    "\n",
    "$$\n",
    "E = t \\sqrt{\\frac{p(1-p)}{n}}\n",
    "$$\n",
    "\n",
    "Then, the formula to compute the minimal sample size is:\n",
    "\n",
    "$$\n",
    "n = p(1-p)(\\frac{t}{E})^2\n",
    "$$"
   ]
  },
  {
   "cell_type": "markdown",
   "id": "83def92c",
   "metadata": {},
   "source": [
    "## Resources 📚📚\n",
    "\n",
    "- Normal Law - [https://bit.ly/2JLmjov](https://bit.ly/2JLmjov)\n",
    "- Student's Law - [https://bit.ly/2rgyfqu](https://bit.ly/2rgyfqu)\n",
    "- Stat Distribution - [http://bit.ly/2y00EnU](http://bit.ly/2y00EnU)\n",
    "- Accuracy VS Precision - [http://bit.ly/2lid4TS](http://bit.ly/2lid4TS)\n",
    "- Central Limit Theorem - [http://bit.ly/2ld2hbx](http://bit.ly/2ld2hbx)"
   ]
  },
  {
   "cell_type": "markdown",
   "id": "9858ca3b",
   "metadata": {},
   "source": [
    "# Build confidence intervals\n",
    "\n",
    "We will use Python for all the exercises. Let's find the confidence interval:\n",
    "\n",
    "* Facebook would like to know the average time spent on their site. To do so, they launched a study on 100 people and asked them how much time they spend on Facebook per day:\n",
    "    1. Open the `Hours spent on Facebook.xlsx` file. \n",
    "    2. Calculate the mean and standard deviation of the dataset.\n",
    "    3. We would like to know the mean of the total population. Calculate the 95% confidence interval.\n",
    "<br/>\n",
    "\n",
    "* Google would like to know the mean monthly revenue generated per client on their Adwords platform. Due to lack of time, they have launched a questionnaire on only 30 people.  \n",
    "    1. Open the `monthly_spending_adwords.xlsx` file.\n",
    "    2. Calculate the mean and standard deviation of the dataset.\n",
    "    3. We would like to know the mean of the total population. Calculate the 95% confidence interval.  \n",
    "<br/>\n",
    "\n",
    "* Nintendo is building their new console. However, the last console they launched was a disaster because no one bought it. This time, Nintendo would like to know how many cities they would have to survey to be 95% sure that they will build the right number of systems. The company will accept an error of 5000 consoles.  \n",
    "    1. Open the `Number of switch sold.xlsx` file.\n",
    "    2. Calculate the mean and standard deviation of the dataset.\n",
    "    3. Set the margin of error to 5000.\n",
    "    4. Find the minimum number of cities to study.  \n",
    "<br/>\n",
    "\n",
    "* Apple has just launched their new IOS for Iphone and would like to know if customers are satisfied with this version or not. They asked 40 people about their satisfaction with the OS and collected their answers. For educational purposes, we have marked the satisfied with a `1` and the dissatisfied with a `0`.\n",
    "    1. Open the `satisfaction apple release.xlsx` file.\n",
    "    2. Set the number n of people in the sample.\n",
    "    3. Calculate $k$, the number of people satisfied with the OS.\n",
    "    4. Calculate $p$, the proportion of people satisfied with the OS.\n",
    "    5. Calculate the confidence interval of the proportion of the population.\n",
    "<br/>\n",
    "\n",
    "* A laboratory has created a new drug and would like to test its effectiveness. Based on tests done on rats, experts estimate that it should have an efficiency rate of about 90%. They would like to know the number of individuals that would have to be tested to confirm its 95% effectiveness with a Error margin $E$ of 1%.\n",
    "    1. Set $p$, the estimated proportion.\n",
    "    2. Set $z$, the $z-value$ for a 95% confidence level.\n",
    "    3. Set your margin of Error, $E$.\n",
    "    4. Calculate $n$."
   ]
  },
  {
   "cell_type": "code",
   "execution_count": null,
   "id": "bbdb7d66",
   "metadata": {},
   "outputs": [],
   "source": [
    "## Exercise number 1: FACEBOOK\n",
    "\n",
    "df = pd.read_excel(\"datasets/Hours spent on Facebook.xlsx\")\n",
    "df\n",
    "df.describe(include=\"all\")\n",
    "## Thm: sqrt(n)*(TRUE MEAN - mean_dataset(X))/(std(X)) sim t_{alpha_level, df}\n",
    "\n",
    "## TRUE MEAN approximated by mean_dataset(X) + t_ * s/(sqrt(n))\n",
    "## CI =(mean - error, mean + error)\n",
    "\n",
    "## mean = df.feature.mean()\n",
    "\n",
    "## error = t * s/(sqrt(n))\n",
    "\n",
    "n = len(df)\n",
    "mean = df[\"Hours spent on Facebook on Mobile\"].mean()\n",
    "t =stats.t.ppf(0.975, df= len(df)-1) ## 97,5% because the Gaussian is symmetric \n",
    "## there is 2,5% on left side and 2,5% right side (pls check the picture of Normal distribution)\n",
    "s = df[\"Hours spent on Facebook on Mobile\"].std()\n",
    "\n",
    "error = s/m.sqrt(n) * t\n",
    "confidence_interval = [mean - error, mean + error]"
   ]
  },
  {
   "cell_type": "code",
   "execution_count": null,
   "id": "918a0142",
   "metadata": {},
   "outputs": [],
   "source": [
    "## apple exercise\n",
    "df = pd.read_excel(\"datasets/satisfaction apple release.xlsx\")\n",
    "df\n",
    "df.columns\n",
    "# $$\n",
    "# E = t \\sqrt{\\frac{p(1-p)}{n}}\n",
    "# $$\n",
    "# number of people in the study\n",
    "n = len(df)\n",
    "#number satisfied people\n",
    "k = df[\"Satisfied customer\"].sum()\n",
    "# let us do a CI with 95% confidence\n",
    "t = stats.t.ppf(0.975, n-1)\n",
    "# error\n",
    "# proportion of people that are satisfied\n",
    "p = k/n\n",
    "\n",
    "error = t * m.sqrt(p * (1-p)/n) \n",
    "\n",
    "CI = [p - error, p + error]\n",
    "print(CI)\n",
    "def confidence_interval_proportion(confidence_level):\n",
    "    n = len(df)\n",
    "    p = df[\"Satisfied customer\"].sum()/n\n",
    "    t = stats.t.ppf(confidence_level + (1- confidence_level)/2, n-1)\n",
    "    error = t * m.sqrt(p * (1-p)/n) \n",
    "    CI = [p - error, p + error]\n",
    "    return CI\n",
    "\n",
    "## EXPLANATION OF confidence level on the function\n",
    "# 97,5 = 95 + (1-95)/2\n",
    "\n",
    "#confidence_level + (1- confidence_level)/2\n",
    "confidence_interval_proportion(0.95)\n",
    "confidence_interval_proportion(0.9)\n",
    "confidence_interval_proportion(0.8)\n",
    "confidence_interval_proportion(0.5)\n",
    "confidence_interval_proportion(0.99)"
   ]
  },
  {
   "cell_type": "markdown",
   "id": "b53c9f44",
   "metadata": {},
   "source": []
  }
 ],
 "metadata": {
  "kernelspec": {
   "display_name": "venv",
   "language": "python",
   "name": "python3"
  },
  "language_info": {
   "codemirror_mode": {
    "name": "ipython",
    "version": 3
   },
   "file_extension": ".py",
   "mimetype": "text/x-python",
   "name": "python",
   "nbconvert_exporter": "python",
   "pygments_lexer": "ipython3",
   "version": "3.13.5"
  }
 },
 "nbformat": 4,
 "nbformat_minor": 5
}
