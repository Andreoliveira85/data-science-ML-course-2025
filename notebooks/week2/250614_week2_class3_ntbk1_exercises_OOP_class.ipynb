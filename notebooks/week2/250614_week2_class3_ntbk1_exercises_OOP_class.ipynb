{
 "cells": [
  {
   "cell_type": "markdown",
   "id": "de54eb47",
   "metadata": {},
   "source": [
    "# OOP exercises"
   ]
  },
  {
   "cell_type": "markdown",
   "id": "3b14c382",
   "metadata": {},
   "source": [
    "# Mathematically Oriented Programming\n",
    "\n",
    "_Mathematics, in general, we don't like to do it. Especially when it involves repeating operations, over and over again. Let's be real lazy and create a class that will do the operations we want for us._\n",
    "\n",
    "1. _Create a class to be called \"math.\"_\n",
    "2. _This class will have no internal attributes, so you don't need to define an init() _\n",
    "3. _Create a method that will compute the square root of any number._\n",
    "4. _Create a method that will calculate the average of any list of numbers._\n",
    "5. _Create a method to find out if a number is even or odd_.\n",
    "6. _Finally, create a method that will give the total sum of a list of numbers._\n"
   ]
  },
  {
   "cell_type": "markdown",
   "id": "8765f6bb",
   "metadata": {},
   "source": [
    "* A static method in Python is just a way to put a function “inside” a class without having it rely on any instance (self) or class (cls) data. In our previous solution, we wrote:\n"
   ]
  },
  {
   "cell_type": "code",
   "execution_count": 2,
   "id": "783465d4",
   "metadata": {},
   "outputs": [],
   "source": [
    "class math:\n",
    "    @staticmethod\n",
    "    def sqrt(x):\n",
    "        return x**0.5\n",
    "    # …etc…"
   ]
  },
  {
   "cell_type": "markdown",
   "id": "dadc819d",
   "metadata": {},
   "source": [
    "* Using @staticmethod makes it clear that sqrt(x) doesn’t use self or cls—it’s simply a function that lives under the math namespace.\n",
    "\t•\tIt also lets you call it as math.sqrt(9) without ever writing m = math().\n"
   ]
  },
  {
   "cell_type": "markdown",
   "id": "f31b2ea6",
   "metadata": {},
   "source": [
    "However, if you find that confusing, you can simplify the whole thing by dropping @staticmethod entirely and just writing normal (instance) methods that ignore self. Then you simply create one object and call its methods. For example:"
   ]
  },
  {
   "cell_type": "markdown",
   "id": "9243dff5",
   "metadata": {},
   "source": [
    "#### Why “static method” at all?\n",
    "* \tNo self needed:\n",
    "  \n",
    "If a method does not use any data from the instance or class, you can mark it @staticmethod. That way Python won’t force you to write a dummy self parameter, and you can call it directly on the class:"
   ]
  },
  {
   "cell_type": "markdown",
   "id": "d3bfd212",
   "metadata": {},
   "source": [
    "* \tKeeps things organized:\n",
    "  \n",
    "Sometimes you want to group a bunch of “pure‐function” utilities under one class name (e.g. math), even though they don’t share state. Using @staticmethod is a signal: “This method is just a standalone helper; no self or cls needed.”\n",
    "\n",
    "If you’re in a hurry or prefer simplicity, you can skip @staticmethod and just write instance methods that ignore self (as shown above). Both versions work; it’s just a matter of whether you want to force callers to do m = math(); m.sqrt(9) (instance version) or allow math.sqrt(9) (static version)."
   ]
  },
  {
   "cell_type": "markdown",
   "id": "7fb01150",
   "metadata": {},
   "source": [
    "# Imputer"
   ]
  },
  {
   "cell_type": "markdown",
   "id": "aa00feb3",
   "metadata": {},
   "source": [
    "_In data science, it's common for there to be missing values in a dataset. Let's see how we can create a class that will allow us to replace this missing value by the average of the values in the list_\n",
    "\n",
    "1. _Create a class that we will call Imputer_.\n",
    "2. _To simplify the exercise, we will only deal with lists for the moment._\n",
    "3. _Our class will take an attribute that we will call list_.\n",
    "4. _Create an avg() function that will first remove the missing value and then replace it with the average of the list._\n"
   ]
  },
  {
   "cell_type": "code",
   "execution_count": null,
   "id": "1c120bc6",
   "metadata": {},
   "outputs": [],
   "source": []
  }
 ],
 "metadata": {
  "kernelspec": {
   "display_name": "venv",
   "language": "python",
   "name": "python3"
  },
  "language_info": {
   "codemirror_mode": {
    "name": "ipython",
    "version": 3
   },
   "file_extension": ".py",
   "mimetype": "text/x-python",
   "name": "python",
   "nbconvert_exporter": "python",
   "pygments_lexer": "ipython3",
   "version": "3.13.1"
  }
 },
 "nbformat": 4,
 "nbformat_minor": 5
}
