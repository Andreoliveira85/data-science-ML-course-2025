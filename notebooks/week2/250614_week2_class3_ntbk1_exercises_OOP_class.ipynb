{
 "cells": [
  {
   "cell_type": "markdown",
   "id": "de54eb47",
   "metadata": {},
   "source": [
    "# OOP exercises"
   ]
  },
  {
   "cell_type": "markdown",
   "id": "3b14c382",
   "metadata": {},
   "source": [
    "# Mathematically Oriented Programming\n",
    "\n",
    "_Mathematics, in general, we don't like to do it. Especially when it involves repeating operations, over and over again. Let's be real lazy and create a class that will do the operations we want for us._\n",
    "\n",
    "1. _Create a class to be called \"math.\"_\n",
    "2. _This class will have no internal attributes, so you don't need to define an init() _\n",
    "3. _Create a method that will compute the square root of any number._\n",
    "4. _Create a method that will calculate the average of any list of numbers._\n",
    "5. _Create a method to find out if a number is even or odd_.\n",
    "6. _Finally, create a method that will give the total sum of a list of numbers._\n"
   ]
  },
  {
   "cell_type": "markdown",
   "id": "8765f6bb",
   "metadata": {},
   "source": [
    "* A static method in Python is just a way to put a function “inside” a class without having it rely on any instance (self) or class (cls) data. In our previous solution, we wrote:\n"
   ]
  },
  {
   "cell_type": "code",
   "execution_count": null,
   "id": "3db72a9a",
   "metadata": {},
   "outputs": [],
   "source": [
    "## static methods\n",
    "\n",
    "import math as _builtin_math\n",
    "\n",
    "class Math:\n",
    "    \"\"\"a utility class for basic mathematical operations\"\"\"\n",
    "\n",
    "    @staticmethod\n",
    "    def sqrt(x):\n",
    "        \"\"\"\n",
    "        Compute the square root of a number.\n",
    "        Raises an error if x in negative\n",
    "        \"\"\"\n",
    "        if x < 0:\n",
    "            raise ValueError(f\"Cannot take the square root of a negative number: {x}\")\n",
    "        return _builtin_math.sqrt(x)"
   ]
  },
  {
   "cell_type": "code",
   "execution_count": 5,
   "id": "4d308f5b",
   "metadata": {},
   "outputs": [
    {
     "name": "stdout",
     "output_type": "stream",
     "text": [
      "sqrt(16)= 4.0\n",
      "sqrt(9)= 3.0\n"
     ]
    },
    {
     "ename": "ValueError",
     "evalue": "Cannot take the square root of a negative number: -25",
     "output_type": "error",
     "traceback": [
      "\u001b[31m---------------------------------------------------------------------------\u001b[39m",
      "\u001b[31mValueError\u001b[39m                                Traceback (most recent call last)",
      "\u001b[36mCell\u001b[39m\u001b[36m \u001b[39m\u001b[32mIn[5]\u001b[39m\u001b[32m, line 5\u001b[39m\n\u001b[32m      3\u001b[39m \u001b[38;5;28mprint\u001b[39m(\u001b[33m\"\u001b[39m\u001b[33msqrt(16)=\u001b[39m\u001b[33m\"\u001b[39m, Math.sqrt(\u001b[32m16\u001b[39m))\n\u001b[32m      4\u001b[39m \u001b[38;5;28mprint\u001b[39m(\u001b[33m\"\u001b[39m\u001b[33msqrt(9)=\u001b[39m\u001b[33m\"\u001b[39m, Math.sqrt(\u001b[32m9\u001b[39m))\n\u001b[32m----> \u001b[39m\u001b[32m5\u001b[39m \u001b[38;5;28mprint\u001b[39m(\u001b[33m\"\u001b[39m\u001b[33msqrt(-25)=\u001b[39m\u001b[33m\"\u001b[39m, \u001b[43mMath\u001b[49m\u001b[43m.\u001b[49m\u001b[43msqrt\u001b[49m\u001b[43m(\u001b[49m\u001b[43m-\u001b[49m\u001b[32;43m25\u001b[39;49m\u001b[43m)\u001b[49m)\n",
      "\u001b[36mCell\u001b[39m\u001b[36m \u001b[39m\u001b[32mIn[1]\u001b[39m\u001b[32m, line 15\u001b[39m, in \u001b[36mMath.sqrt\u001b[39m\u001b[34m(x)\u001b[39m\n\u001b[32m     10\u001b[39m \u001b[38;5;250m\u001b[39m\u001b[33;03m\"\"\"\u001b[39;00m\n\u001b[32m     11\u001b[39m \u001b[33;03mCompute the square root of a number.\u001b[39;00m\n\u001b[32m     12\u001b[39m \u001b[33;03mRaises an error if x in negative\u001b[39;00m\n\u001b[32m     13\u001b[39m \u001b[33;03m\"\"\"\u001b[39;00m\n\u001b[32m     14\u001b[39m \u001b[38;5;28;01mif\u001b[39;00m x < \u001b[32m0\u001b[39m:\n\u001b[32m---> \u001b[39m\u001b[32m15\u001b[39m     \u001b[38;5;28;01mraise\u001b[39;00m \u001b[38;5;167;01mValueError\u001b[39;00m(\u001b[33mf\u001b[39m\u001b[33m\"\u001b[39m\u001b[33mCannot take the square root of a negative number: \u001b[39m\u001b[38;5;132;01m{\u001b[39;00mx\u001b[38;5;132;01m}\u001b[39;00m\u001b[33m\"\u001b[39m)\n\u001b[32m     16\u001b[39m \u001b[38;5;28;01mreturn\u001b[39;00m _builtin_math.sqrt(x)\n",
      "\u001b[31mValueError\u001b[39m: Cannot take the square root of a negative number: -25"
     ]
    }
   ],
   "source": [
    "## test cases\n",
    "\n",
    "print(\"sqrt(16)=\", Math.sqrt(16))\n",
    "print(\"sqrt(9)=\", Math.sqrt(9))\n",
    "print(\"sqrt(-25)=\", Math.sqrt(-25))"
   ]
  },
  {
   "cell_type": "code",
   "execution_count": 2,
   "id": "783465d4",
   "metadata": {},
   "outputs": [],
   "source": [
    "class math:\n",
    "    @staticmethod\n",
    "    def sqrt(x):\n",
    "        return x**0.5\n",
    "    # …etc…"
   ]
  },
  {
   "cell_type": "markdown",
   "id": "dadc819d",
   "metadata": {},
   "source": [
    "* Using @staticmethod makes it clear that sqrt(x) doesn’t use self or cls—it’s simply a function that lives under the math namespace.\n",
    "\t•\tIt also lets you call it as math.sqrt(9) without ever writing m = math().\n"
   ]
  },
  {
   "cell_type": "markdown",
   "id": "f31b2ea6",
   "metadata": {},
   "source": [
    "However, if you find that confusing, you can simplify the whole thing by dropping @staticmethod entirely and just writing normal (instance) methods that ignore self. Then you simply create one object and call its methods. For example:"
   ]
  },
  {
   "cell_type": "markdown",
   "id": "9243dff5",
   "metadata": {},
   "source": [
    "#### Why “static method” at all?\n",
    "* \tNo self needed:\n",
    "  \n",
    "If a method does not use any data from the instance or class, you can mark it @staticmethod. That way Python won’t force you to write a dummy self parameter, and you can call it directly on the class:"
   ]
  },
  {
   "cell_type": "markdown",
   "id": "d3bfd212",
   "metadata": {},
   "source": [
    "* \tKeeps things organized:\n",
    "  \n",
    "Sometimes you want to group a bunch of “pure‐function” utilities under one class name (e.g. math), even though they don’t share state. Using @staticmethod is a signal: “This method is just a standalone helper; no self or cls needed.”\n",
    "\n",
    "If you’re in a hurry or prefer simplicity, you can skip @staticmethod and just write instance methods that ignore self (as shown above). Both versions work; it’s just a matter of whether you want to force callers to do m = math(); m.sqrt(9) (instance version) or allow math.sqrt(9) (static version)."
   ]
  },
  {
   "cell_type": "markdown",
   "id": "7fb01150",
   "metadata": {},
   "source": [
    "# Imputer"
   ]
  },
  {
   "cell_type": "markdown",
   "id": "aa00feb3",
   "metadata": {},
   "source": [
    "_In data science, it's common for there to be missing values in a dataset. Let's see how we can create a class that will allow us to replace this missing value by the average of the values in the list_\n",
    "\n",
    "1. _Create a class that we will call Imputer_.\n",
    "2. _To simplify the exercise, we will only deal with lists for the moment._\n",
    "3. _Our class will take an attribute that we will call list_.\n",
    "4. _Create an avg() function that will first remove the missing value and then replace it with the average of the list._\n"
   ]
  },
  {
   "cell_type": "code",
   "execution_count": null,
   "id": "5dc5c4b3",
   "metadata": {},
   "outputs": [
    {
     "data": {
      "text/plain": [
       "5.58"
      ]
     },
     "execution_count": 6,
     "metadata": {},
     "output_type": "execute_result"
    }
   ],
   "source": [
    "data_list = [2,4,5,8, 8.9, None, None]\n",
    "\n",
    "# 1. Build a list of non missing entries\n",
    "non_missing = [2,4,5,8, 8.9]\n",
    "# 3. Calculate the average\n",
    "average = sum(non_missing)/len(non_missing)\n",
    "average\n",
    "# 4. new list with None ->> 5.58 (average)\n",
    "new_list = [2,4,5,8, 8.9, 5.58, 5.58]\n",
    "\n"
   ]
  },
  {
   "cell_type": "code",
   "execution_count": null,
   "id": "1c120bc6",
   "metadata": {},
   "outputs": [],
   "source": [
    "class Imputer:\n",
    "    \"\"\"\n",
    "    Imputer for a list containing numerical values and None as the missing value marker.\n",
    "    Supports both average based and median based imputation\n",
    "    \"\"\"\n",
    "    def __init__(self, data_list):\n",
    "        #self.parameter = parameter\n",
    "        # store the original list (which may contain None values)\n",
    "        self.data_list = data_list\n",
    "\n",
    "    def avg(self):\n",
    "        \"\"\"\n",
    "        Compute the mean of non missing entries and replace them with that mean\n",
    "        \"\"\"\n",
    "        # 1. Build a list of non missing entries\n",
    "        non_missing = [x for x in self.data_list if x is not None]\n",
    "        # 2. If no valid numbers raise Value Error\n",
    "        if len(non_missing)==0:\n",
    "            raise ValueError(\"Cannot calculate the average: all entries are missing\")\n",
    "        # 3. Calculate the average\n",
    "        mean_value = sum(non_missing)/len(non_missing)\n",
    "        # 4. Construct a new list where the nan values are replaced by the average\n",
    "        filled = [mean_value if x is None else x for x in self.data_list ]\n",
    "        return filled \n",
    "    \n",
    "    def median(self):\n",
    "        \"\"\"\n",
    "        Computing the median of the list and replacing the nan values with that median\n",
    "        \"\"\"\n",
    "        # 1. Build a sorted list of non missing entries\n",
    "        non_missing = sorted(x for x in self.data_list if x is not None)\n",
    "        # 2. If no valid numbers raise a Value Error\n",
    "        if len(non_missing) ==0:\n",
    "            raise ValueError(\"Cannot compute the median value because all entries are missing\")\n",
    "        # 3. Computing the median value\n",
    "        n = len(non_missing)\n",
    "        mid = n//2\n",
    "        if n % 2 == 1:\n",
    "            median_value = non_missing[mid]\n",
    "        else:\n",
    "            median_value = (non_missing[mid-1] + non_missing[mid])/2\n",
    "        # 4. Creating a new list with the nan values replaced by the median\n",
    "        filled = [(median_value if x is None else x) for x in self.data_list]\n",
    "        return filled"
   ]
  },
  {
   "cell_type": "code",
   "execution_count": 19,
   "id": "35cf9495",
   "metadata": {},
   "outputs": [
    {
     "data": {
      "text/plain": [
       "(6.89, 7)"
      ]
     },
     "execution_count": 19,
     "metadata": {},
     "output_type": "execute_result"
    }
   ],
   "source": [
    "mid= 7//2 # 7 = 3*2 +1\n",
    "mid\n",
    "#3, 5, 6.89, 7, 67, 678 ---> (6.89+7)/2\n",
    "non_missing = [3, 5, 6.89, 7, 67, 678]\n",
    "n = len(non_missing)\n",
    "mid = n//2\n",
    "mid\n",
    "non_missing[mid-1], non_missing[mid]\n",
    "#median = 6.89 + 7"
   ]
  },
  {
   "cell_type": "code",
   "execution_count": 20,
   "id": "e3038b5e",
   "metadata": {},
   "outputs": [
    {
     "name": "stdout",
     "output_type": "stream",
     "text": [
      "[5, 12.5, 10, 15, 12.5, 20] [5, 12.5, 10, 15, 12.5, 20]\n"
     ]
    }
   ],
   "source": [
    "# test case\n",
    "\n",
    "data = [5,None, 10,15,None,20]\n",
    "impt = Imputer(data)\n",
    "filled_average = impt.avg()\n",
    "filled_median = impt.median()\n",
    "print(filled_average, filled_median)"
   ]
  },
  {
   "cell_type": "code",
   "execution_count": 21,
   "id": "bc0b7c8a",
   "metadata": {},
   "outputs": [
    {
     "name": "stdout",
     "output_type": "stream",
     "text": [
      "[3, 6.333333333333333, 7, 6.333333333333333, 9] [3, 7, 7, 7, 9]\n"
     ]
    }
   ],
   "source": [
    "## another test cade\n",
    "\n",
    "data2 = [3, None, 7, None,9]\n",
    "imp2 = Imputer(data2)\n",
    "filled_average = imp2.avg()\n",
    "filled_median = imp2.median()\n",
    "print(filled_average, filled_median)\n"
   ]
  },
  {
   "cell_type": "code",
   "execution_count": null,
   "id": "8bda62fb",
   "metadata": {},
   "outputs": [],
   "source": [
    "# filled = [(mean_value if x is None else x) for x in self.data_list ]\n",
    "data_list = [2,3,4,5,6.89, None, 7 ,9]\n",
    "avg = 67 # hardcoded\n",
    "new_list = []\n",
    "for x in data_list:\n",
    "    if x == None:\n",
    "        x = avg\n",
    "    else:\n",
    "        x\n",
    "    new_list.append(x)\n"
   ]
  },
  {
   "cell_type": "code",
   "execution_count": 8,
   "id": "2476a5fc",
   "metadata": {},
   "outputs": [
    {
     "data": {
      "text/plain": [
       "[2, 3, 4, 5, 6.89, 67, 7, 9]"
      ]
     },
     "execution_count": 8,
     "metadata": {},
     "output_type": "execute_result"
    }
   ],
   "source": [
    "new_list"
   ]
  },
  {
   "cell_type": "code",
   "execution_count": null,
   "id": "8e380f58",
   "metadata": {},
   "outputs": [
    {
     "data": {
      "text/plain": [
       "[2, 3, 4, 5, 6.89, 5.2700000000000005, 7, 9]"
      ]
     },
     "execution_count": 10,
     "metadata": {},
     "output_type": "execute_result"
    }
   ],
   "source": [
    "#test case\n",
    "imputer =Imputer(data_list)\n",
    "clean_data = imputer.avg()\n",
    "clean_data"
   ]
  },
  {
   "cell_type": "code",
   "execution_count": null,
   "id": "220debd8",
   "metadata": {},
   "outputs": [],
   "source": [
    "data_list = [67,3,678,5,6.89, None, 7 ,9]\n",
    "## take the none values out\n",
    "## sort the list: 3, 5, 6.89, 7 ,9, 67, 678\n",
    "## median -->  (3, 5, 6.89) 7 (9, 67, 678)\n",
    "## median --> 7 \n",
    "\n",
    "\n",
    "data_list = [67,3,678,5,6.89, None, 7]\n",
    "## take the none values out\n",
    "# sort the list: 3, 5, 6.89, 7, 67, 678\n",
    "## median:  (3, 5) 6.89, 7, (67, 678) --> (6.89 + 7)/2 \n"
   ]
  }
 ],
 "metadata": {
  "kernelspec": {
   "display_name": "venv",
   "language": "python",
   "name": "python3"
  },
  "language_info": {
   "codemirror_mode": {
    "name": "ipython",
    "version": 3
   },
   "file_extension": ".py",
   "mimetype": "text/x-python",
   "name": "python",
   "nbconvert_exporter": "python",
   "pygments_lexer": "ipython3",
   "version": "3.13.1"
  }
 },
 "nbformat": 4,
 "nbformat_minor": 5
}
