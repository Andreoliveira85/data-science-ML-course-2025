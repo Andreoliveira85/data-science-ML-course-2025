{
  "cells": [
    {
      "cell_type": "markdown",
      "metadata": {},
      "source": [
        "# Regular Expressions Workshop (45 min)\n",
        "\n",
        "**Instructor:**  \n",
        "**Date:**  \n",
        "\n",
        "---\n",
        "\n",
        "**In this session, you will learn:**\n",
        "- What Regular Expressions (regex) are and why they’re useful  \n",
        "- Basic regex syntax and common metacharacters  \n",
        "- Python’s `re` module: `search`, `match`, `findall`, `sub`  \n",
        "- Grouping and capturing  \n",
        "- Simple demos and hands‐on exercises\n",
        "\n",
        "**Agenda (45 min):**\n",
        "1. Introduction to Regex (5 min)  \n",
        "2. Basic Syntax & Metacharacters (10 min)  \n",
        "3. Python `re` Functions & Demos (10 min)  \n",
        "4. Grouping & Capturing (5 min)  \n",
        "5. Exercises (15 min)  \n",
        "6. Wrap‐up (if time remains)\n"
      ]
    },
    {
      "cell_type": "markdown",
      "metadata": {},
      "source": [
        "## Table of Contents\n",
        "\n",
        "1. [Introduction to Regex](#intro)  \n",
        "2. [Basic Syntax & Metacharacters](#syntax)  \n",
        "3. [Python `re` Functions & Demos](#functions)  \n",
        "4. [Grouping & Capturing](#groups)  \n",
        "5. [Exercises](#exercises)  \n",
        "6. [Next Steps](#next)\n"
      ]
    },
    {
      "cell_type": "markdown",
      "metadata": {},
      "source": [
        "<a id=\"intro\"></a>  \n",
        "## 1. Introduction to Regex (5 min)\n",
        "\n",
        "- **What is a Regular Expression?**  \n",
        "  A concise way to describe patterns in text (strings).  \n",
        "  Used for searching, validating, and manipulating text.  \n",
        "\n",
        "- **Why learn regex?**  \n",
        "  - Quickly find phone numbers, email addresses, or dates in large text.  \n",
        "  - Validate user input (e.g. “is this a valid email?”).  \n",
        "  - Perform search‐and‐replace based on patterns rather than fixed substrings.  \n",
        "\n",
        "- **Regex in Python** lives in the built‐in `re` module.  \n",
        "  Common workflow:  \n",
        "  1. Import `re`.  \n",
        "  2. Write a pattern (as a raw string: `r\"...\"`).  \n",
        "  3. Use functions like `re.search`, `re.match`, `re.findall`, `re.sub`."
      ]
    },
    {
      "cell_type": "code",
      "execution_count": 10,
      "id": "525bec88",
      "metadata": {},
      "outputs": [
        {
          "name": "stdout",
          "output_type": "stream",
          "text": [
            "No phone number found\n"
          ]
        }
      ],
      "source": [
        "import re \n",
        "\n",
        "## example\n",
        "text = \"My phone number is 123-699-789990\"\n",
        "## pattern for a US style phone number\n",
        "\n",
        "## Scan through string looking for the first location where the regular expression pattern produces a match, and return a corresponding Match.\n",
        "## check regular expressions Python documentation\n",
        "\n",
        "pattern = r\"-\\d{3}-d{3}}-\\d{4}\"\n",
        "match = re.search(pattern,text)\n",
        "if match:\n",
        "    print(\"Found phone number\", match.group())\n",
        "else:\n",
        "    print(\"No phone number found\")\n",
        "\n"
      ]
    },
    {
      "cell_type": "code",
      "execution_count": 11,
      "id": "eb5b0a02",
      "metadata": {},
      "outputs": [],
      "source": [
        "match \n"
      ]
    },
    {
      "cell_type": "markdown",
      "metadata": {},
      "source": [
        "<a id=\"syntax\"></a>  \n",
        "## 2. Basic Syntax & Metacharacters (10 min)\n",
        "\n",
        "Below are the most common building blocks:\n",
        "\n",
        "1. **Literal Characters**  \n",
        "   - Letters, digits, punctuation appear literally.  \n",
        "     e.g. `\"cat\"` matches the substring `\"cat\"`.\n",
        "\n",
        "2. **Metacharacters** (special symbols):\n",
        "   - `.`   : Matches any single character except newline.  \n",
        "   - `^`   : Start of string (or start of a line in multiline mode).  \n",
        "   - `$`   : End of string (or end of a line in multiline mode).  \n",
        "   - `*`   : 0 or more of the preceding element.  \n",
        "   - `+`   : 1 or more of the preceding element.  \n",
        "   - `?`   : 0 or 1 of the preceding element (makes it optional).  \n",
        "   - `{m,n}` : Between m and n of the preceding element.  \n",
        "   - `[]`   : Character class (match any one inside).  \n",
        "   - `|`   : Alternation (either/or).  \n",
        "   - `\\`   : Escape or introduce shorthand (see below).\n",
        "\n",
        "3. **Character Classes & Shorthands**  \n",
        "   - `[abc]`   : matches `a` or `b` or `c`.  \n",
        "   - `[0-9]`   : matches any digit.  \n",
        "   - `\\d`   : same as `[0-9]`.  \n",
        "   - `\\D`   : non‐digit (anything except `[0-9]`).  \n",
        "   - `\\w`   : word character (letter, digit, or underscore).  \n",
        "   - `\\W`   : non‐word character.  \n",
        "   - `\\s`   : whitespace (space, tab, newline).  \n",
        "   - `\\S`   : non‐whitespace.\n",
        "\n",
        "4. **Quantifiers**  \n",
        "   - `a*`  : zero or more `a`.  \n",
        "   - `a+`  : one or more `a`.  \n",
        "   - `a?`  : zero or one `a`.  \n",
        "   - `a{3}`: exactly three `a`’s.  \n",
        "   - `a{2,5}`: between 2 and 5 `a`’s.\n",
        "\n",
        "5. **Anchors**  \n",
        "   - `^abc` : matches `\"abc\"` at the very start of the string.  \n",
        "   - `xyz$` : matches `\"xyz\"` at the very end of the string."
      ]
    },
    {
      "cell_type": "code",
      "execution_count": 12,
      "id": "f5ca4508",
      "metadata": {},
      "outputs": [
        {
          "name": "stdout",
          "output_type": "stream",
          "text": [
            "['cat', 'bat', 'hat', 'eat']\n"
          ]
        }
      ],
      "source": [
        "print(re.findall(r\".at\", \"cat, bat, hat, eat\"))     # finds any 2 chars + 'at'\n"
      ]
    },
    {
      "cell_type": "code",
      "execution_count": 13,
      "id": "282448d2",
      "metadata": {},
      "outputs": [
        {
          "name": "stdout",
          "output_type": "stream",
          "text": [
            "True\n"
          ]
        }
      ],
      "source": [
        "print(bool(re.search(r\"^Hello\", \"Hello world\")))     # True (starts with Hello)"
      ]
    },
    {
      "cell_type": "code",
      "execution_count": 14,
      "id": "f51aaaa4",
      "metadata": {},
      "outputs": [
        {
          "name": "stdout",
          "output_type": "stream",
          "text": [
            "True\n"
          ]
        }
      ],
      "source": [
        "print(bool(re.search(r\"world!$\", \"Hello world!\")))   # True (ends with world!)\n"
      ]
    },
    {
      "cell_type": "code",
      "execution_count": 16,
      "id": "0c609913",
      "metadata": {},
      "outputs": [
        {
          "name": "stdout",
          "output_type": "stream",
          "text": [
            "['a', 'ab', 'abb', 'abbb', 'a', 'a']\n"
          ]
        }
      ],
      "source": [
        "print(re.findall(r\"ab*\", \"a, ab, abb, abbb, b, aa\"))     # 'a', 'ab', 'abb', 'abbb'\n"
      ]
    },
    {
      "cell_type": "code",
      "execution_count": 17,
      "id": "9d82bc41",
      "metadata": {},
      "outputs": [
        {
          "name": "stdout",
          "output_type": "stream",
          "text": [
            "['ab', 'abb', 'abbb']\n"
          ]
        }
      ],
      "source": [
        "print(re.findall(r\"ab+\", \"a, ab, abb, abbb, b\"))     # 'ab', 'abb', 'abbb'\n"
      ]
    },
    {
      "cell_type": "code",
      "execution_count": 18,
      "id": "075ad5e1",
      "metadata": {},
      "outputs": [
        {
          "name": "stdout",
          "output_type": "stream",
          "text": [
            "['Hello', 'world']\n"
          ]
        }
      ],
      "source": [
        "print(re.findall(r\"[A-Za-z]+\", \"Hello, 123 world!\")) # ['Hello', 'world']\n"
      ]
    },
    {
      "cell_type": "code",
      "execution_count": 22,
      "id": "349096f6",
      "metadata": {},
      "outputs": [
        {
          "name": "stdout",
          "output_type": "stream",
          "text": [
            "['aaaa', 'aaa', 'aaaa']\n"
          ]
        }
      ],
      "source": [
        "print(re.findall(r\"a{3,4}\", \"a  aa aaaa aaa aaaaa\"))      # ['aa', 'aaaa', 'aaaa']"
      ]
    },
    {
      "cell_type": "code",
      "execution_count": null,
      "id": "a0c01cca",
      "metadata": {},
      "outputs": [],
      "source": [
        "import re\n",
        "\n",
        "# 1. '.' wildcard\n",
        "print(re.findall(r\".at\", \"cat, bat, hat, eat\"))     # finds any 2 chars + 'at'\n",
        "\n",
        "# 2. '^' and '$'\n",
        "print(bool(re.search(r\"^Hello\", \"Hello world\")))     # True (starts with Hello)\n",
        "print(bool(re.search(r\"world!$\", \"Hello world!\")))   # True (ends with world!)\n",
        "\n",
        "# 3. '*', '+', '?'\n",
        "print(re.findall(r\"ab*\", \"a, ab, abb, abbb, b\"))     # 'a', 'ab', 'abb', 'abbb'\n",
        "print(re.findall(r\"ab+\", \"a, ab, abb, abbb, b\"))     # 'ab', 'abb', 'abbb'\n",
        "print(re.findall(r\"ab?\", \"a, ab, abb, abbb, b\"))     # 'a', 'ab', 'a' (the lone 'a' matches 'ab?' with b optional)\n",
        "\n",
        "# 4. Character classes & shorthands\n",
        "print(re.findall(r\"\\d+\", \"Order 66, 007, 42\"))       # ['66', '007', '42']\n",
        "print(re.findall(r\"[A-Za-z]+\", \"Hello, 123 world!\")) # ['Hello', 'world']\n",
        "print(re.findall(r\"\\w+\", \"hi_there! 42 times\"))      # ['hi_there', '42', 'times']\n",
        "print(re.findall(r\"\\s+\", \"Hello   world \\n new\"))   # ['   ', ' ', '\\n ']\n",
        "\n",
        "# 5. Quantifiers {m,n}\n",
        "print(re.findall(r\"a{2,4}\", \"a aa aaaa aaaaa\"))      # ['aa', 'aaaa', 'aaaa']"
      ]
    },
    {
      "cell_type": "markdown",
      "metadata": {},
      "source": [
        "<a id=\"functions\"></a>  \n",
        "## 3. Python `re` Functions & Demos (10 min)\n",
        "\n",
        "- `re.search(pattern, string)`  \n",
        "  → Searches entire string, returns first `Match` or `None`.\n",
        "\n",
        "- `re.match(pattern, string)`  \n",
        "  → Attempts match at the beginning of `string` only.\n",
        "\n",
        "- `re.findall(pattern, string)`  \n",
        "  → Returns a list of **all** (non-overlapping) matches.\n",
        "\n",
        "- `re.finditer(pattern, string)`  \n",
        "  → Returns an iterator of `Match` objects (useful for positions or groups).\n",
        "\n",
        "- `re.sub(pattern, repl, string)`  \n",
        "  → Replaces all occurrences of `pattern` in `string` with `repl`.\n",
        "\n",
        "- **Flags** (pass as e.g. `re.IGNORECASE`):  \n",
        "  - `re.IGNORECASE` (or `re.I`): case-insensitive.  \n",
        "  - `re.MULTILINE` (or `re.M`): `^`/`$` match start/end of **each line**.  \n",
        "  - `re.DOTALL` (or `re.S`): `.` also matches newline."
      ]
    },
    {
      "cell_type": "code",
      "execution_count": null,
      "id": "a4fb535a",
      "metadata": {},
      "outputs": [],
      "source": [
        "import re\n",
        "\n",
        "text = \"\"\"Alice:  alice@example.com\n",
        "Bob:    bob123@domain.net\n",
        "Eve:    eve@website.org\n",
        "\"\"\"\n",
        "\n",
        "# 1. re.search\n",
        "m = re.search(r\"\\w+@\\w+\\.\\w+\", text)  \n",
        "print(\"First email found:\", m.group())  # first occurrence\n",
        "\n",
        "# 2. re.match\n",
        "print(\"Match at start?\", bool(re.match(r\"Alice\", text)))  # True\n",
        "print(\"Match ‘Bob’ at start?\", bool(re.match(r\"Bob\", text)))  # False\n",
        "\n",
        "# 3. re.findall (all email addresses)\n",
        "emails = re.findall(r\"\\w+@\\w+\\.\\w+\", text)\n",
        "print(\"All emails:\", emails)\n",
        "\n",
        "# 4. re.finditer (positions and groups)\n",
        "for match in re.finditer(r\"(\\w+)@(\\w+)\\.(\\w+)\", text):\n",
        "    print(\"Local part:\", match.group(1), \"| Domain:\", match.group(2), \"| TLD:\", match.group(3))\n",
        "\n",
        "# 5. re.sub (anonymize usernames)\n",
        "anonymized = re.sub(r\"(\\w+)@(\\w+\\.\\w+)\", r\"***REMOVED***@\\2\", text)\n",
        "print(\"\\nAnonymized text:\\n\", anonymized)\n",
        "\n",
        "# 6. Flags example: Case-insensitive search\n",
        "print(\"Find 'alice' (case-insensitive):\", bool(re.search(r\"alice\", \"ALICE@example.com\", flags=re.I)))"
      ]
    },
    {
      "cell_type": "code",
      "execution_count": 23,
      "id": "fdfade57",
      "metadata": {},
      "outputs": [
        {
          "name": "stdout",
          "output_type": "stream",
          "text": [
            "Find 'alice' (case-insensitive): True\n"
          ]
        }
      ],
      "source": [
        "import re\n",
        "\n",
        "text = \"\"\"Alice:  alice@example.com\n",
        "Bob:    bob123@domain.net\n",
        "Eve:    eve@website.org\n",
        "\"\"\"\n",
        "\n",
        "\n",
        "# 6. Flags example: Case-insensitive search\n",
        "print(\"Find 'alice' (case-insensitive):\", bool(re.search(r\"alice\", \"ALICE@example.com\", flags=re.I)))"
      ]
    },
    {
      "cell_type": "code",
      "execution_count": 27,
      "id": "a2fbf4d0",
      "metadata": {},
      "outputs": [
        {
          "data": {
            "text/plain": [
              "True"
            ]
          },
          "execution_count": 27,
          "metadata": {},
          "output_type": "execute_result"
        }
      ],
      "source": [
        "bool(re.search(r\"alice\", \"ALICE@example.com\", flags=re.I))"
      ]
    },
    {
      "cell_type": "markdown",
      "metadata": {},
      "source": [
        "<a id=\"groups\"></a>  \n",
        "## 4. Grouping & Capturing (5 min)\n",
        "\n",
        "- **Parentheses** `( … )` create a **capturing group**.  \n",
        "  - The text matched by the group is accessible via `.group(i)` or in `findall()` as tuples.\n",
        "\n",
        "- **Non‐capturing group** `(?: … )` matches without capturing.  \n",
        "  - Useful when you need grouping for quantifiers, but don’t need the contents.\n",
        "\n",
        "- **Examples**:  \n",
        "  - `r\"(foo|bar)\"` → matches “foo” or “bar” and captures which one.  \n",
        "  - `r\"(?:foo|bar)\"` → matches “foo” or “bar” without capturing for later.\n",
        "\n",
        "- **Accessing Group Data**:  \n",
        "  ```python\n",
        "  m = re.search(r\"(\\d{3})-(\\d{2})-(\\d{4})\", \"SSN: 123-45-6789\")\n",
        "  m.group(1)  # \"123\"\n",
        "  m.group(2)  # \"45\"\n",
        "  m.group(3)  # \"6789\"\n",
        "  m.group(0)  # full match: \"123-45-6789\"\n",
        "  ```"
      ]
    },
    {
      "cell_type": "code",
      "execution_count": null,
      "id": "32df6726",
      "metadata": {},
      "outputs": [],
      "source": [
        "import re\n",
        "\n",
        "text = \"SSN: 123-45-6789, Other: 987-65-4321\"\n",
        "\n",
        "pattern = r\"(\\d{3})-(\\d{2})-(\\d{4})\"\n",
        "for m in re.finditer(pattern, text):\n",
        "    print(\"Full match:\", m.group(0))\n",
        "    print(\"  Area:\", m.group(1))\n",
        "    print(\"  Group:\", m.group(2))\n",
        "    print(\"  Number:\", m.group(3))\n",
        "    print(\"---\")\n",
        "\n",
        "# Non-capturing example: match “Mr.” or “Ms.” but don’t capture the prefix\n",
        "names = \"Mr. Smith, Ms. Johnson, Mrs. Davis\"\n",
        "pattern_nc = r\"(?:Mr|Ms)\\. \\w+\"\n",
        "print(\"Titles matched (non-capturing):\", re.findall(pattern_nc, names))"
      ]
    },
    {
      "cell_type": "markdown",
      "metadata": {},
      "source": [
        "<a id=\"exercises\"></a>  \n",
        "## 5. Exercises (15 min)\n",
        "\n",
        "Try these short, easy exercises on your own. After you’ve attempted them, scroll down for the solutions.\n",
        "\n",
        "---\n",
        "\n",
        "### Exercise 1: Find All Phone Numbers\n",
        "\n",
        "- **Prompt:**  \n",
        "  Given the list of strings below, write a regex to extract all US‐style phone numbers of the form `XXX-XXX-XXXX`.\n",
        "\n",
        "```python\n",
        "lines = [\n",
        "    \"Call me at 555-123-4567 tomorrow.\",\n",
        "    \"Emergency: 911 is for police, but 800-555-1212 for toll-free.\",\n",
        "    \"No number here.\",\n",
        "    \"Alternate: (555) 765-4321 or 555.987.6543\"\n",
        "]\n",
        "```\n",
        "\n",
        "- **Task:**  \n",
        "  1. Extract only the dash‐separated numbers (`555-123-4567`, `800-555-1212`).  \n",
        "  2. Ignore formats with parentheses or dots.\n",
        "\n",
        "---\n",
        "\n",
        "### Exercise 2: Validate Simple Email Addresses\n",
        "\n",
        "- **Prompt:**  \n",
        "  Write a regex that matches an email address if it has:\n",
        "  - One or more word characters (`\\w+`)  \n",
        "  - The `@` symbol  \n",
        "  - One or more word characters (`\\w+`)  \n",
        "  - A dot `.`  \n",
        "  - A two‐ or three‐letter TLD (`[a-zA-Z]{2,3}`)\n",
        "\n",
        "```python\n",
        "candidates = [\n",
        "    \"alice@example.com\",\n",
        "    \"bob@site.org\",\n",
        "    \"invalid@no-tld\",\n",
        "    \"john.smith@company.co\",\n",
        "    \"@missinguser.com\",\n",
        "    \"jane@domain.c\"\n",
        "]\n",
        "```\n",
        "\n",
        "- **Task:**  \n",
        "  1. Use `re.match` or `re.fullmatch` so that the entire string must fit the pattern.  \n",
        "  2. Print which candidates are “valid” and which are not.\n",
        "\n",
        "---\n",
        "\n",
        "### Exercise 3: Replace Whitespace Sequences\n",
        "\n",
        "- **Prompt:**  \n",
        "  Given a messy string that has multiple spaces, tabs, and newlines, replace **any sequence** of whitespace characters with a single space.\n",
        "\n",
        "```python\n",
        "messy = \"This   is\\t\\tan example.\\nNew     lines and    spaces.\\n\\tEnd.\"\n",
        "```\n",
        "\n",
        "- **Task:**  \n",
        "  1. Write a regex to match one or more whitespace (`\\s+`).  \n",
        "  2. Use `re.sub` to turn every whitespace sequence into a single `\" \"`.  \n",
        "  3. Print the cleaned‐up string.\n",
        "\n",
        "---"
      ]
    },
    {
      "cell_type": "markdown",
      "id": "d2016086",
      "metadata": {},
      "source": [
        "### Exercise 1: Find All Phone Numbers\n",
        "\n",
        "- **Prompt:**  \n",
        "  Given the list of strings below, write a regex to extract all US‐style phone numbers of the form `XXX-XXX-XXXX`.\n",
        "\n",
        "```python\n",
        "lines = [\n",
        "    \"Call me at 555-123-4567 tomorrow.\",\n",
        "    \"Emergency: 911 is for police, but 800-555-1212 for toll-free.\",\n",
        "    \"No number here.\",\n",
        "    \"Alternate: (555) 765-4321 or 555.987.6543\"\n",
        "]\n",
        "```\n",
        "\n",
        "- **Task:**  \n",
        "  1. Extract only the dash‐separated numbers (`555-123-4567`, `800-555-1212`).  \n",
        "  2. Ignore formats with parentheses or dots.\n"
      ]
    },
    {
      "cell_type": "code",
      "execution_count": 33,
      "id": "a6427f12",
      "metadata": {},
      "outputs": [
        {
          "name": "stdout",
          "output_type": "stream",
          "text": [
            "Dash separated phone numbers found ['555-123-4567', '800-555-1212']\n"
          ]
        }
      ],
      "source": [
        "\n",
        "## solution exercise 1\n",
        "\n",
        "lines = [\n",
        "    \"Call me at 555-123-4567 tomorrow.\",\n",
        "    \"Emergency: 911 is for police, but 800-555-1212 for toll-free.\",\n",
        "    \"No number here.\",\n",
        "    \"Alternate: (555) 765-4321 or 555.987.6543\"\n",
        "]\n",
        "\n",
        "pattern = r\"\\b\\d{3}-\\d{3}-\\d{4}\\b\" ## 909-987-1247\n",
        "\n",
        "found = []\n",
        "for line in lines:\n",
        "    matches = re.findall(pattern, line)\n",
        "    if matches:\n",
        "        found.extend(matches)\n",
        "\n",
        "print(\"Dash separated phone numbers found\", found)"
      ]
    },
    {
      "cell_type": "markdown",
      "metadata": {},
      "source": [
        "<a id=\"next\"></a>  \n",
        "## 6. Next Steps & Wrap‐up\n",
        "\n",
        "- **Key Takeaways:**  \n",
        "  - Regex is a powerful way to describe text patterns.  \n",
        "  - Learn and memorize common metacharacters: `. ^ $ * + ? {m,n} [ ] \\d \\w \\s`  \n",
        "  - Use Python’s `re` module:  \n",
        "    - `search`, `match`, `findall`, `finditer`, `sub`  \n",
        "    - Remember to use raw strings (`r\"...\"`) so backslashes aren’t eaten by Python.\n",
        "\n",
        "- **Practice More:**  \n",
        "  - Validate phone numbers in different formats (e.g., with parentheses, dots).  \n",
        "  - Extract URLs (e.g., `https?://\\S+`).  \n",
        "  - Work with log files to parse timestamps.  \n",
        "  - Explore lookahead/lookbehind: `(?=...)`, `(?<=...)`—advanced topic for next time.\n",
        "\n",
        "**Congratulations!** You’ve completed a 45-minute introduction to Python Regular Expressions.  \n",
        "Feel free to revisit the exercises or try out your own patterns on real datasets."
      ]
    },
    {
      "cell_type": "markdown",
      "id": "182c0247",
      "metadata": {},
      "source": []
    },
    {
      "cell_type": "markdown",
      "id": "6da53841",
      "metadata": {},
      "source": []
    },
    {
      "cell_type": "markdown",
      "id": "1892e241",
      "metadata": {},
      "source": []
    }
  ],
  "metadata": {
    "kernelspec": {
      "display_name": "venv",
      "language": "python",
      "name": "python3"
    },
    "language_info": {
      "codemirror_mode": {
        "name": "ipython",
        "version": 3
      },
      "file_extension": ".py",
      "mimetype": "text/x-python",
      "name": "python",
      "nbconvert_exporter": "python",
      "pygments_lexer": "ipython3",
      "version": "3.13.1"
    }
  },
  "nbformat": 4,
  "nbformat_minor": 5
}
