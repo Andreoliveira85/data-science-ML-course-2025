{
 "cells": [
  {
   "cell_type": "markdown",
   "metadata": {},
   "source": [
    "# Functions"
   ]
  },
  {
   "cell_type": "markdown",
   "metadata": {},
   "source": [
    "## What you'll learn in this course 🧐🧐\n",
    "\n",
    "Another extremely important concept are functions. In this course, you will learn:\n",
    "\n",
    "* What are functions \n",
    "* Create functions \n",
    "* Use Try / Except "
   ]
  },
  {
   "cell_type": "markdown",
   "metadata": {},
   "source": [
    "## *Why use them ?*\n",
    "\n",
    "In code, we respect the principle of being DRY. This acronym means \"Don't Repeat Yourself\". In general, think that if you have two lines of code that repeat exactly, there must surely be another way to write your program more elegantly.\n",
    "\n",
    "Don't forget that you will be reading code more often than you will be writing it. So it is good to follow standards and write elegantly. Just as you wouldn't like to read a novel that has been badly written, no one likes to read badly structured code.\n",
    "\n",
    "That's why functions are very useful. You will be able to write once and for all a sequence of instructions that you \"store\" in a function. Then you can call that function whenever you need to execute that sequence of instructions.\n",
    "\n",
    "\n",
    "## How to write a function ?\n",
    "\n",
    "This is how they are structured:"
   ]
  },
  {
   "cell_type": "code",
   "execution_count": 1,
   "metadata": {},
   "outputs": [],
   "source": [
    "def name_of_the_function(arguments):\n",
    "    instructions \n",
    "    return result # optional: allows to reuse the result of a calculation outside the function"
   ]
  },
  {
   "cell_type": "markdown",
   "metadata": {},
   "source": [
    "A function always starts with a `def` followed by the `name of the function`, and ends with the `arguments` of the function, which represent the variables that will be passed to the function for execution. Then, in the same way as a loop or a condition, you will have to make an indentation and add your code containing the different instructions to be executed when the function is called.\n",
    "\n",
    "Once the function is implemented, you can use it as many times as you want. In the example below, we declare a `square_number()` function that calculates the square of a number and then displays the result on the screen. This function is then called three times, allowing you to re-execute the same instruction sequence without having to rewrite the same code three times. This is usually more readable:"
   ]
  },
  {
   "cell_type": "code",
   "execution_count": 3,
   "metadata": {},
   "outputs": [
    {
     "name": "stdout",
     "output_type": "stream",
     "text": [
      "The square of  3  is 9\n",
      "The square of  4  is 16\n",
      "The square of  12  is 144\n"
     ]
    }
   ],
   "source": [
    "# output: The square of  3  is  9\n",
    "\n",
    "print(\"The square of  3  is\", 3**2 )\n",
    "print(\"The square of  4  is\", 4**2 )\n",
    "print(\"The square of  12  is\", 12**2 )\n",
    "\n"
   ]
  },
  {
   "cell_type": "code",
   "execution_count": 11,
   "metadata": {
    "tags": []
   },
   "outputs": [],
   "source": [
    "# Declaration of the function\n",
    "def square_number(number):\n",
    "    result = number**2\n",
    "    print(\"The square of \", number, \"is\", result)\n",
    "    return result\n",
    "\n",
    "# Calls to the function: The code contained in the function is executed in this step.\n"
   ]
  },
  {
   "cell_type": "code",
   "execution_count": 7,
   "metadata": {},
   "outputs": [
    {
     "name": "stdout",
     "output_type": "stream",
     "text": [
      "The square of  2 is 4\n",
      "The square of  4 is 16\n",
      "The square of  10000 is 100000000\n"
     ]
    }
   ],
   "source": [
    "square_number(2)\n",
    "square_number(4)\n",
    "square_number(10000)"
   ]
  },
  {
   "cell_type": "code",
   "execution_count": 12,
   "metadata": {},
   "outputs": [
    {
     "name": "stdout",
     "output_type": "stream",
     "text": [
      "The square of  3 is 9\n",
      "I CAN REUSE THE CALCULATION OF THE FUNCTION ABOVE FOR EXAMPLE BY ADDING 1 10\n"
     ]
    }
   ],
   "source": [
    "res = square_number(3)\n",
    "print(\"I CAN REUSE THE CALCULATION OF THE FUNCTION ABOVE FOR EXAMPLE BY ADDING 1\", res +1)"
   ]
  },
  {
   "cell_type": "markdown",
   "metadata": {},
   "source": [
    "Optionally, the declaration of the function can end with a `return` instruction, which allows the result of the calculation to be retrieved from the function and reused later in the code. \n",
    "\n",
    "If your function declaration ends with a `return`, then you can retrieve the returned variable by writing, when calling the:\n",
    "\n",
    "```\n",
    "res = function_name(argument)\n",
    "```"
   ]
  },
  {
   "cell_type": "code",
   "execution_count": null,
   "metadata": {
    "tags": []
   },
   "outputs": [
    {
     "name": "stdout",
     "output_type": "stream",
     "text": [
      "The square of  4  is  16\n",
      "I can reuse the result of the calculation outside the function, for example by adding 1 :  17\n"
     ]
    }
   ],
   "source": [
    "# If you want to retrieve the result of the calculation to reuse it later, you have to add a \"return\".\n"
   ]
  },
  {
   "cell_type": "markdown",
   "metadata": {},
   "source": [
    "## Multi-argument function\n",
    "\n",
    "A function can take several arguments. We will then write :\n"
   ]
  },
  {
   "cell_type": "markdown",
   "metadata": {},
   "source": []
  },
  {
   "cell_type": "code",
   "execution_count": 13,
   "metadata": {},
   "outputs": [],
   "source": [
    "def name_function(x,y,z):\n",
    "    ## CODE\n",
    "    return x,y,z"
   ]
  },
  {
   "cell_type": "code",
   "execution_count": 17,
   "metadata": {
    "tags": []
   },
   "outputs": [],
   "source": [
    "# A function taking two arguments \"number\" and \"power\"\n",
    "def compute_power(number, power):\n",
    "    result = number**power\n",
    "    print(\"The power {} of {} is {}\".format(power, number, result))\n",
    "\n",
    "# Calling the function: pay attention to the order in which you pass the arguments\n"
   ]
  },
  {
   "cell_type": "code",
   "execution_count": 18,
   "metadata": {},
   "outputs": [
    {
     "name": "stdout",
     "output_type": "stream",
     "text": [
      "The power 6 of 5 is 15625\n"
     ]
    }
   ],
   "source": [
    "compute_power(5, 6)"
   ]
  },
  {
   "cell_type": "markdown",
   "metadata": {},
   "source": [
    "## Add a default argument\n",
    "\n",
    "Sometimes it is useful to have a default argument in your function. That is, if the user has not specified a value for the argument, the function will still take into account a value that you specified before when you built your function."
   ]
  },
  {
   "cell_type": "code",
   "execution_count": 20,
   "metadata": {},
   "outputs": [
    {
     "name": "stdout",
     "output_type": "stream",
     "text": [
      "The power 3 of 2 is 8\n"
     ]
    }
   ],
   "source": [
    "# The argument \"power\" will be worth 2 by default if the user does not specify a value :\n",
    "\n",
    "## freeze the number\n",
    "compute_power(number=2, power =3)"
   ]
  },
  {
   "cell_type": "code",
   "execution_count": 21,
   "metadata": {},
   "outputs": [
    {
     "name": "stdout",
     "output_type": "stream",
     "text": [
      "The square of  2 is 4\n"
     ]
    },
    {
     "data": {
      "text/plain": [
       "4"
      ]
     },
     "execution_count": 21,
     "metadata": {},
     "output_type": "execute_result"
    }
   ],
   "source": [
    "square_number(2)"
   ]
  },
  {
   "cell_type": "code",
   "execution_count": 22,
   "metadata": {},
   "outputs": [
    {
     "ename": "TypeError",
     "evalue": "unsupported operand type(s) for ** or pow(): 'str' and 'int'",
     "output_type": "error",
     "traceback": [
      "\u001b[31m---------------------------------------------------------------------------\u001b[39m",
      "\u001b[31mTypeError\u001b[39m                                 Traceback (most recent call last)",
      "\u001b[36mCell\u001b[39m\u001b[36m \u001b[39m\u001b[32mIn[22]\u001b[39m\u001b[32m, line 1\u001b[39m\n\u001b[32m----> \u001b[39m\u001b[32m1\u001b[39m \u001b[43msquare_number\u001b[49m\u001b[43m(\u001b[49m\u001b[33;43m\"\u001b[39;49m\u001b[33;43mHello\u001b[39;49m\u001b[33;43m\"\u001b[39;49m\u001b[43m)\u001b[49m\n",
      "\u001b[36mCell\u001b[39m\u001b[36m \u001b[39m\u001b[32mIn[11]\u001b[39m\u001b[32m, line 3\u001b[39m, in \u001b[36msquare_number\u001b[39m\u001b[34m(number)\u001b[39m\n\u001b[32m      2\u001b[39m \u001b[38;5;28;01mdef\u001b[39;00m\u001b[38;5;250m \u001b[39m\u001b[34msquare_number\u001b[39m(number):\n\u001b[32m----> \u001b[39m\u001b[32m3\u001b[39m     result = \u001b[43mnumber\u001b[49m\u001b[43m*\u001b[49m\u001b[43m*\u001b[49m\u001b[32;43m2\u001b[39;49m\n\u001b[32m      4\u001b[39m     \u001b[38;5;28mprint\u001b[39m(\u001b[33m\"\u001b[39m\u001b[33mThe square of \u001b[39m\u001b[33m\"\u001b[39m, number, \u001b[33m\"\u001b[39m\u001b[33mis\u001b[39m\u001b[33m\"\u001b[39m, result)\n\u001b[32m      5\u001b[39m     \u001b[38;5;28;01mreturn\u001b[39;00m result\n",
      "\u001b[31mTypeError\u001b[39m: unsupported operand type(s) for ** or pow(): 'str' and 'int'"
     ]
    }
   ],
   "source": [
    "square_number(\"Hello\")"
   ]
  },
  {
   "cell_type": "code",
   "execution_count": null,
   "metadata": {
    "tags": []
   },
   "outputs": [
    {
     "name": "stdout",
     "output_type": "stream",
     "text": [
      "The power 2 of 2 is 4 \n",
      "The power 2 of 2 is 4 \n",
      "The power 3 of 2 is 8 \n",
      "The power 3 of 2 is 8 \n"
     ]
    }
   ],
   "source": [
    "# Different calls to the function\n",
    "\n",
    "# Call using the default argument power = 2\n",
    "\n",
    "# If you wish to change the value of power :\n"
   ]
  },
  {
   "cell_type": "markdown",
   "metadata": {},
   "source": [
    "## Manage exceptions\n",
    "\n",
    "The last thing you need to know about functions are exceptions. In other words: _what do I do when my user does something they're not supposed to do?_\n",
    "\n",
    "Let's take an example of an exception to our square_number() function.  If the user passes a string instead of a number as an argument, python will obviously not be able to calculate the square of a string and this will produce an error:"
   ]
  },
  {
   "cell_type": "code",
   "execution_count": null,
   "metadata": {},
   "outputs": [
    {
     "ename": "TypeError",
     "evalue": "unsupported operand type(s) for ** or pow(): 'str' and 'int'",
     "output_type": "error",
     "traceback": [
      "\u001b[31m---------------------------------------------------------------------------\u001b[39m",
      "\u001b[31mTypeError\u001b[39m                                 Traceback (most recent call last)",
      "\u001b[36mCell\u001b[39m\u001b[36m \u001b[39m\u001b[32mIn[8]\u001b[39m\u001b[32m, line 6\u001b[39m\n\u001b[32m      3\u001b[39m     \u001b[38;5;28;01mreturn\u001b[39;00m result\n\u001b[32m      5\u001b[39m \u001b[38;5;66;03m# This will produce an error :\u001b[39;00m\n\u001b[32m----> \u001b[39m\u001b[32m6\u001b[39m \u001b[43msquare_number\u001b[49m\u001b[43m(\u001b[49m\u001b[33;43m\"\u001b[39;49m\u001b[33;43mHello\u001b[39;49m\u001b[33;43m\"\u001b[39;49m\u001b[43m)\u001b[49m\n\u001b[32m      8\u001b[39m \u001b[38;5;66;03m# As the code has bugged, the following instructions in the cell will never be executed :\u001b[39;00m\n\u001b[32m      9\u001b[39m \u001b[38;5;28mprint\u001b[39m(\u001b[33m\"\u001b[39m\u001b[33mthis will not display\u001b[39m\u001b[33m\"\u001b[39m)\n",
      "\u001b[36mCell\u001b[39m\u001b[36m \u001b[39m\u001b[32mIn[8]\u001b[39m\u001b[32m, line 2\u001b[39m, in \u001b[36msquare_number\u001b[39m\u001b[34m(number)\u001b[39m\n\u001b[32m      1\u001b[39m \u001b[38;5;28;01mdef\u001b[39;00m\u001b[38;5;250m \u001b[39m\u001b[34msquare_number\u001b[39m(number):\n\u001b[32m----> \u001b[39m\u001b[32m2\u001b[39m     result = \u001b[43mnumber\u001b[49m\u001b[43m*\u001b[49m\u001b[43m*\u001b[49m\u001b[32;43m2\u001b[39;49m\n\u001b[32m      3\u001b[39m     \u001b[38;5;28;01mreturn\u001b[39;00m result\n",
      "\u001b[31mTypeError\u001b[39m: unsupported operand type(s) for ** or pow(): 'str' and 'int'"
     ]
    }
   ],
   "source": [
    "d\n",
    "\n",
    "# This will produce an error :\n",
    "\n",
    "# As the code has bugged, the following instructions in the cell will never be executed :\n"
   ]
  },
  {
   "cell_type": "markdown",
   "metadata": {},
   "source": [
    "You may want to \"handle\" this error (or exception) to prevent it from creating a bug in your code. This is possible in python with the try/except clause:\n",
    "\n",
    "```python\n",
    "try:\n",
    "    error-prone instructions\n",
    "except:\n",
    "    instructions to execute if error (instead of bugging)\n",
    "else:\n",
    "    instructions to be executed if no error\n",
    "```\n",
    "\n",
    "In our example with `square_number()`, this translates as follows:"
   ]
  },
  {
   "cell_type": "code",
   "execution_count": null,
   "metadata": {
    "tags": []
   },
   "outputs": [],
   "source": [
    "\n",
    "# Now, calling the function with a wrong argument will no longer produce a bug. :\n",
    "\n",
    "def square_number(number):\n",
    "    try:\n",
    "        result = number**2\n",
    "    except:\n",
    "        # if there is an error, display the sentence instead of bugging:\n",
    "        print(\"This value is not valid. Please enter a number.\")\n",
    "    else:\n",
    "        # if there was no error we can display the result\n",
    "        print(\"The square of\", number, \"is\", result)\n",
    "        return result\n"
   ]
  },
  {
   "cell_type": "code",
   "execution_count": 25,
   "metadata": {},
   "outputs": [
    {
     "name": "stdout",
     "output_type": "stream",
     "text": [
      "This value is not valid. Please enter a number.\n"
     ]
    }
   ],
   "source": [
    "square_number(\"Hello\")"
   ]
  },
  {
   "cell_type": "markdown",
   "metadata": {},
   "source": [
    "### Manage multiple exceptions\n",
    "\n",
    "It is quite possible that there are several types of errors in your code. All you need to know is the type of errors that can occur and the different blocks of code that need to be executed depending on the error in question.\n",
    "\n",
    "Let's look at an example with a program that will be used to share an addition in equal parts according to the number of people. Take a few minutes to look at the code below the _try_ block:"
   ]
  },
  {
   "cell_type": "code",
   "execution_count": 35,
   "metadata": {},
   "outputs": [],
   "source": [
    "def share_addition():\n",
    "    try:\n",
    "        ## return bill/total_persons\n",
    "        total_addition = float(input(\"what is the total amount of the bill?\"))\n",
    "        total_persons = int(input(\"What is the total number of guests?\"))\n",
    "        amount_person = total_addition / total_persons\n",
    "        return amount_person\n",
    "    except ValueError: ## happens if the user types something other than numbers\n",
    "        print(\"Please recall the function and only give positive numbers\")\n",
    "    except ZeroDivisionError:\n",
    "        print(\"Please call back the function and give the number guests >0\")\n",
    "    else:\n",
    "        print(\"The amount per person {:4,2f}\".format(amount_person))\n",
    "    \n"
   ]
  },
  {
   "cell_type": "code",
   "execution_count": 36,
   "metadata": {},
   "outputs": [
    {
     "name": "stdout",
     "output_type": "stream",
     "text": [
      "Please call back the function and give the number guests >0\n"
     ]
    }
   ],
   "source": [
    "share_addition()"
   ]
  },
  {
   "cell_type": "markdown",
   "metadata": {},
   "source": [
    "Here you see that the user is asked to give the total amount of the bill and the total number of people. If the user has to enter values, there are bound to be errors. For example, he can put something other than a number in the bill or in the total number of people or he can put 0 guests in the total number of people.\n",
    "\n",
    "So here are two possible errors called `ValueError` and `ZeroDivisionError.` Hence the code you see. There are, of course, many other types of possible errors in addition to these two. We refer you to the book _Practical Introduction to Python_ to see them all."
   ]
  },
  {
   "cell_type": "code",
   "execution_count": null,
   "metadata": {},
   "outputs": [
    {
     "name": "stdout",
     "output_type": "stream",
     "text": [
      "Please recall the function and only give positive numbers.\n"
     ]
    }
   ],
   "source": []
  },
  {
   "cell_type": "code",
   "execution_count": null,
   "metadata": {},
   "outputs": [
    {
     "name": "stdout",
     "output_type": "stream",
     "text": [
      "Please recall the function and only give positive numbers.\n"
     ]
    }
   ],
   "source": []
  },
  {
   "cell_type": "code",
   "execution_count": null,
   "metadata": {},
   "outputs": [
    {
     "name": "stdout",
     "output_type": "stream",
     "text": [
      "Please recall the function and only give positive numbers.\n"
     ]
    }
   ],
   "source": [
    "\n"
   ]
  },
  {
   "cell_type": "markdown",
   "metadata": {},
   "source": [
    "### Giving an alias to exceptions\n",
    "You can give an alias to your exceptions so that you can get the standard console message in addition to a custom code for your function. Here is an example:"
   ]
  },
  {
   "cell_type": "code",
   "execution_count": null,
   "metadata": {},
   "outputs": [],
   "source": [
    "def share_addition():\n",
    "    "
   ]
  },
  {
   "cell_type": "code",
   "execution_count": 37,
   "metadata": {},
   "outputs": [],
   "source": [
    "def share_addition():\n",
    "    try:\n",
    "        ## return bill/total_persons\n",
    "        total_addition = float(input(\"what is the total amount of the bill?\"))\n",
    "        total_persons = int(input(\"What is the total number of guests?\"))\n",
    "        amount_person = total_addition / total_persons\n",
    "        return amount_person\n",
    "    except ValueError as e: ## happens if the user types something other than numbers\n",
    "        print(e)\n",
    "    except ZeroDivisionError:\n",
    "        print(\"Please call back the function and give the number guests >0\")\n",
    "    else:\n",
    "        print(\"The amount per person {:4,2f}\".format(amount_person))\n",
    "    \n"
   ]
  },
  {
   "cell_type": "code",
   "execution_count": 38,
   "metadata": {},
   "outputs": [
    {
     "name": "stdout",
     "output_type": "stream",
     "text": [
      "invalid literal for int() with base 10: 'hello'\n"
     ]
    }
   ],
   "source": [
    "share_addition()\n"
   ]
  },
  {
   "cell_type": "markdown",
   "metadata": {},
   "source": [
    "### Create your own exceptions\n",
    "\n",
    "Finally, you can create your own exception when a user can enter values that are not technically wrong in the program but do not make sense for your application. For example, with the addition share function, it should not be possible to enter negative values, even if the program as built above would accept them. In this case, you can use the `raise` statement:\n",
    "\n",
    "```python\n",
    "if (condition_which_must_create_the_mistake):\n",
    "    raise Exception(\"message\")\n",
    "```"
   ]
  },
  {
   "cell_type": "code",
   "execution_count": 41,
   "metadata": {
    "tags": []
   },
   "outputs": [],
   "source": [
    "# As it stands, our function accepts negative values, which makes no sense. :\n",
    "def share_addition():\n",
    "    try:\n",
    "        total_addition = float(input(\"what is the total amount of the bill?\"))\n",
    "        total_persons = int(input(\"What is the total number of guests?\"))\n",
    "        if (total_addition < 0) or (total_persons <0):\n",
    "            raise ValueError()\n",
    "        \n",
    "        amount_person = total_addition/ total_persons\n",
    "\n",
    "    except ValueError:\n",
    "        print(\"Please recall the function and only give positive numbers\")\n",
    "    except ZeroDivisionError:\n",
    "        print(\"Please call back the function and give a number guests >0\")\n",
    "    else:\n",
    "        print(\"The amount per person isb{:4, 2f}\".format(amount_person))\n",
    "\n",
    "    "
   ]
  },
  {
   "cell_type": "code",
   "execution_count": 42,
   "metadata": {},
   "outputs": [
    {
     "name": "stdout",
     "output_type": "stream",
     "text": [
      "Please recall the function and only give positive numbers\n"
     ]
    }
   ],
   "source": [
    "# We use \"raise\" combine to a if statement to avoid entering negative values\n",
    "share_addition()"
   ]
  },
  {
   "cell_type": "code",
   "execution_count": null,
   "metadata": {},
   "outputs": [
    {
     "name": "stdout",
     "output_type": "stream",
     "text": [
      "Please recall the function and only give positive numbers.\n"
     ]
    }
   ],
   "source": [
    "# Now, we can no longer enter negative values\n"
   ]
  },
  {
   "cell_type": "code",
   "execution_count": null,
   "metadata": {},
   "outputs": [],
   "source": []
  },
  {
   "cell_type": "code",
   "execution_count": null,
   "metadata": {},
   "outputs": [],
   "source": []
  },
  {
   "cell_type": "code",
   "execution_count": null,
   "metadata": {},
   "outputs": [],
   "source": []
  },
  {
   "cell_type": "markdown",
   "metadata": {},
   "source": [
    "## Resources 📚📚\n",
    "\n",
    "* [Practical Introduction to Python Programming](https://drive.google.com/file/d/1ZKsxCX5lxbibEMKF-hvk5nWkfCMIA9_N/view?usp=drive_link)"
   ]
  },
  {
   "cell_type": "markdown",
   "metadata": {},
   "source": []
  }
 ],
 "metadata": {
  "kernelspec": {
   "display_name": "venv",
   "language": "python",
   "name": "python3"
  },
  "language_info": {
   "codemirror_mode": {
    "name": "ipython",
    "version": 3
   },
   "file_extension": ".py",
   "mimetype": "text/x-python",
   "name": "python",
   "nbconvert_exporter": "python",
   "pygments_lexer": "ipython3",
   "version": "3.13.1"
  },
  "orig_nbformat": 2
 },
 "nbformat": 4,
 "nbformat_minor": 2
}
