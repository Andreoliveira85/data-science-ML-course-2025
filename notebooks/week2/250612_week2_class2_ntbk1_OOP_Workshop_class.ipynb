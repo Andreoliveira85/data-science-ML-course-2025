{
  "cells": [
    {
      "cell_type": "markdown",
      "id": "ZENaYmQc3RP2",
      "metadata": {
        "id": "ZENaYmQc3RP2"
      },
      "source": [
        "# Python Object-Oriented Programming Workshop (3 Hours)\n",
        "\n",
        "* Instructor: Andre de Oliveira Gomes\n",
        "* Date: 12-06-2025\n",
        "\n",
        "---\n",
        "\n",
        "**What you’ll learn in this workshop:**\n",
        "- Fundamentals of Object-Oriented Programming (OOP)\n",
        "- Defining and instantiating Python classes\n",
        "- Attributes (instance vs. class) and methods\n",
        "- Constructors (`__init__`), default arguments, and encapsulation\n",
        "- Class methods, static methods, and special methods (dunder methods)\n",
        "- Inheritance, polymorphism, and composition\n",
        "- Advanced features: `@property`, operator overloading, and best practices\n",
        "\n",
        "**Prerequisites:**  \n",
        "- Basic familiarity with Python syntax (variables, functions, control flow)\n",
        "- Experience writing simple scripts in Python\n",
        "\n",
        "**Workshop Outline (3 Hours):**\n",
        "1. Introduction to OOP (15 min)  \n",
        "2. Python Classes & Objects (20 min)  \n",
        "3. Attributes vs. Methods (20 min)  \n",
        "4. Constructors & Default Arguments (15 min)  \n",
        "5. Class Variables & Methods (15 min)  \n",
        "6. Inheritance & Polymorphism (25 min)  \n",
        "7. Encapsulation & Special Methods (25 min)  \n",
        "8. Composition & Advanced Features (20 min)  \n",
        "9. Exercises & Solutions (45 min)  \n",
        "10. Q&A and Next Steps (10 min)\n",
        "\n",
        "---\n"
      ]
    },
    {
      "cell_type": "markdown",
      "id": "W2ukBSee3RP4",
      "metadata": {
        "id": "W2ukBSee3RP4"
      },
      "source": [
        "## Table of Contents\n",
        "\n",
        "1. [Introduction to OOP](#introduction)  \n",
        "2. [Classes & Objects](#classes)  \n",
        "3. [Attributes vs. Methods](#attributes)  \n",
        "4. [Constructors & Default Arguments](#constructors)  \n",
        "5. [Class Variables & Class/Static Methods](#class_variables)  \n",
        "6. [Inheritance & Polymorphism](#inheritance)  \n",
        "7. [Encapsulation & Special Methods](#encapsulation)  \n",
        "8. [Composition & Advanced Features](#composition)  \n",
        "9. [Exercises & Solutions](#exercises)  \n",
        "10. [Next Steps](#next_steps)  \n"
      ]
    },
    {
      "cell_type": "markdown",
      "id": "GoHt12643RP5",
      "metadata": {
        "id": "GoHt12643RP5"
      },
      "source": [
        "<a id=\"introduction\"></a>  \n",
        "## 1. Introduction to OOP (15 min)\n",
        "\n",
        "**What is OOP?**  \n",
        "Object-Oriented Programming is a paradigm that models software as a collection of “objects,” each encapsulating data (attributes) and operations on that data (methods).  \n",
        "\n",
        "**Key Pillars of OOP:**  \n",
        "- **Encapsulation:** Bundling of data and methods operating on that data.  \n",
        "- **Abstraction:** Hiding internal details; exposing only necessary interfaces.  \n",
        "- **Inheritance:** Mechanism by which one class (child) shares properties and behaviors of another (parent).  \n",
        "- **Polymorphism:** Ability to treat different classes through a common interface.  \n",
        "\n",
        "**Why use OOP?**  \n",
        "- Improves code organization and reusability.  \n",
        "- Facilitates modeling of real-world entities.  \n",
        "- Encourages separation of concerns (each class has a single responsibility).  \n",
        "- Makes large codebases easier to maintain and extend.\n"
      ]
    },
    {
      "cell_type": "markdown",
      "id": "5QVdd4LP3RP5",
      "metadata": {
        "id": "5QVdd4LP3RP5"
      },
      "source": [
        "### 1.1 Procedural vs. Object-Oriented Solution (Conceptual)\n",
        "\n",
        "Below is a simple example: managing information about dogs.  \n",
        "\n",
        "- **Procedural approach:** We store data in separate variables or dictionaries, and write functions to operate on them.  \n",
        "- **OOP approach:** We define a `Dog` class, create dog instances, and call methods on those instances.\n"
      ]
    },
    {
      "cell_type": "code",
      "execution_count": null,
      "id": "1517f8cb",
      "metadata": {},
      "outputs": [],
      "source": []
    },
    {
      "cell_type": "code",
      "execution_count": null,
      "id": "3d767579",
      "metadata": {},
      "outputs": [],
      "source": []
    },
    {
      "cell_type": "code",
      "execution_count": null,
      "id": "c3WHcEHd3RP5",
      "metadata": {
        "id": "c3WHcEHd3RP5",
        "outputId": "7fe04a88-7f97-4fbb-e624-716716478d00"
      },
      "outputs": [
        {
          "name": "stdout",
          "output_type": "stream",
          "text": [
            "Buddy is a 3-year-old Labrador.\n",
            "Lucy is a 5-year-old Beagle.\n",
            "\n",
            "---\n",
            "\n",
            "Buddy is a 3-year-old Labrador.\n",
            "Lucy is a 5-year-old Beagle.\n"
          ]
        }
      ],
      "source": [
        "\n",
        "dog1 = {\"name\": \"Buddy\", \"age\": 3, \"breed\": \"Labrador\"}\n",
        "dog2 = {\"name\": \"Lucy\", \"age\": 5, \"breed\": \"Beagle\"}\n",
        "\n",
        "def describe_dog(dog):\n",
        "    print(f\"{dog[name]} is a {dog[\"age\"]}-year-old {dog[\"breed\"]}\")\n",
        "\n",
        "describe_dog(dog1)\n",
        "describe_dog(dog2)"
      ]
    },
    {
      "cell_type": "code",
      "execution_count": 1,
      "id": "297e999d",
      "metadata": {},
      "outputs": [],
      "source": [
        "# Object oriented programming \n",
        "\n",
        "class Dog:\n",
        "    \"\"\"A simple Dog class\"\"\"\n",
        "    def __init__(self, name, age, breed):\n",
        "        # there are the instance attributes\n",
        "        self.name = name\n",
        "        self.age = age\n",
        "        self.breed = breed\n",
        "\n",
        "    def describe_dog(self):\n",
        "        print(f\"{self.name} is a {self.age}-year old {self.breed}.\")"
      ]
    },
    {
      "cell_type": "code",
      "execution_count": 2,
      "id": "c1c3e1ef",
      "metadata": {},
      "outputs": [],
      "source": [
        "buddy = Dog(name = \"Buddy\", age = 3, breed = \"Labrador\")\n",
        "lucy = Dog(name = \"Lucy\", age = 5, breed = \"Beagle\")"
      ]
    },
    {
      "cell_type": "code",
      "execution_count": 8,
      "id": "766f946e",
      "metadata": {},
      "outputs": [
        {
          "data": {
            "text/plain": [
              "'Buddy'"
            ]
          },
          "execution_count": 8,
          "metadata": {},
          "output_type": "execute_result"
        }
      ],
      "source": [
        "buddy.name"
      ]
    },
    {
      "cell_type": "code",
      "execution_count": 10,
      "id": "62d18d6c",
      "metadata": {},
      "outputs": [
        {
          "data": {
            "text/plain": [
              "5"
            ]
          },
          "execution_count": 10,
          "metadata": {},
          "output_type": "execute_result"
        }
      ],
      "source": [
        "lucy.age"
      ]
    },
    {
      "cell_type": "code",
      "execution_count": 9,
      "id": "b7e41daf",
      "metadata": {},
      "outputs": [
        {
          "name": "stdout",
          "output_type": "stream",
          "text": [
            "Buddy is a 3-year old Labrador.\n"
          ]
        }
      ],
      "source": [
        "buddy.describe_dog()"
      ]
    },
    {
      "cell_type": "code",
      "execution_count": 4,
      "id": "6041de07",
      "metadata": {},
      "outputs": [
        {
          "name": "stdout",
          "output_type": "stream",
          "text": [
            "Lucy is a 5-year old Beagle.\n"
          ]
        }
      ],
      "source": [
        "lucy.describe_dog()"
      ]
    },
    {
      "cell_type": "markdown",
      "id": "a7G1gKmY3RP6",
      "metadata": {
        "id": "a7G1gKmY3RP6"
      },
      "source": [
        "<a id=\"classes\"></a>  \n",
        "## 2. Python Classes & Objects (20 min)\n",
        "\n",
        "### 2.1 Defining a Class\n",
        "\n",
        "- Use the `class` keyword followed by the class name (by convention, PascalCase).  \n",
        "- Inside, define methods (functions) and attributes (data).  \n",
        "- The first argument of any instance method is `self`, which refers to the instance.\n",
        "\n",
        "```python\n",
        "class MyClass:\n",
        "    def __init__(self, x):\n",
        "        self.x = x\n",
        "    \n",
        "    def do_something(self):\n",
        "        return self.x * 2\n",
        "```\n",
        "\n",
        "- `MyClass` is a blueprint; to use it, we **instantiate** it:\n",
        "  ```python\n",
        "  obj = MyClass(10)\n",
        "  print(obj.x)           # 10\n",
        "  print(obj.do_something())  # 20\n",
        "  ```\n"
      ]
    },
    {
      "cell_type": "code",
      "execution_count": 5,
      "id": "g5_wjcGG3RP6",
      "metadata": {
        "id": "g5_wjcGG3RP6",
        "outputId": "f918cb83-519f-4a1c-e6eb-66e0a7991747"
      },
      "outputs": [],
      "source": [
        "## example: a very basic with no attributes or methods\n",
        "\n",
        "class Empty:\n",
        "    pass\n",
        "\n",
        "e = Empty()"
      ]
    },
    {
      "cell_type": "code",
      "execution_count": 6,
      "id": "de0c4717",
      "metadata": {},
      "outputs": [
        {
          "name": "stdout",
          "output_type": "stream",
          "text": [
            "<class '__main__.Empty'>\n"
          ]
        }
      ],
      "source": [
        "print(type(e))"
      ]
    },
    {
      "cell_type": "code",
      "execution_count": 7,
      "id": "245368ab",
      "metadata": {},
      "outputs": [
        {
          "name": "stdout",
          "output_type": "stream",
          "text": [
            "Anonymous 42\n"
          ]
        }
      ],
      "source": [
        "## bad coding\n",
        "\n",
        "# add attributes to the class\n",
        "e.name = \"Anonymous\"\n",
        "e.value = 42\n",
        "print(e.name, e.value)"
      ]
    },
    {
      "cell_type": "markdown",
      "id": "yUZi7JcM3RP6",
      "metadata": {
        "id": "yUZi7JcM3RP6"
      },
      "source": [
        "```markdown\n",
        "### 2.2 The `__init__` Method & Instance Attributes\n",
        "\n",
        "`__init__(self, ...)` is the constructor. It runs when you create a new instance.  \n",
        "Use it to set up instance attributes.\n",
        "\n",
        "```python\n",
        "class Person:\n",
        "    def __init__(self, name, age):\n",
        "        self.name = name    # instance attribute\n",
        "        self.age = age      # instance attribute\n",
        "    \n",
        "    def greet(self):\n",
        "        print(f\"Hello, I'm {self.name} and I'm {self.age} years old.\")\n",
        "```\n",
        "\n",
        "- **Instantiating:**\n",
        "  ```python\n",
        "  p = Person(\"Alice\", 30)\n",
        "  print(p.name)   # Alice\n",
        "  print(p.age)    # 30\n",
        "  p.greet()       # Hello, I'm Alice and I'm 30 years old.\n",
        "  ```\n",
        "```"
      ]
    },
    {
      "cell_type": "markdown",
      "id": "wsdwMkyV3RP7",
      "metadata": {
        "id": "wsdwMkyV3RP7"
      },
      "source": [
        "<a id=\"attributes\"></a>  \n",
        "## 3. Attributes vs. Methods (20 min)\n",
        "\n",
        "### 3.1 Instance Attributes\n",
        "\n",
        "- Defined inside `__init__` via `self`.  \n",
        "- Unique to each instance.  \n",
        "- Accessed via `instance.attribute_name`.\n",
        "\n",
        "### 3.2 Methods\n",
        "\n",
        "- Functions defined inside a class.  \n",
        "- Always take `self` as the first parameter (unless using `@staticmethod` or `@classmethod`).  \n",
        "- Called via `instance.method_name()`.\n",
        "\n",
        "### 3.3 Class Attributes\n",
        "\n",
        "- Defined directly in the class block (outside of any method).  \n",
        "- Shared among all instances of the class.\n",
        "\n",
        "```python\n",
        "class Circle:\n",
        "    pi = 3.14159   # class attribute\n",
        "\n",
        "    def __init__(self, radius):\n",
        "        self.radius = radius  # instance attribute\n",
        "\n",
        "    def area(self):\n",
        "        return Circle.pi * (self.radius ** 2)\n",
        "```\n",
        "\n",
        "- All `Circle` instances share the same `pi`, but each has its own `radius`.\n"
      ]
    },
    {
      "cell_type": "markdown",
      "id": "bbd874e6",
      "metadata": {},
      "source": [
        "$A = \\pi \\times r^2$"
      ]
    },
    {
      "cell_type": "code",
      "execution_count": null,
      "id": "c-QcND0E3RP7",
      "metadata": {
        "id": "c-QcND0E3RP7",
        "outputId": "a0dfc444-dff3-4592-a243-f0f8f7ae5687"
      },
      "outputs": [],
      "source": [
        "\n",
        "## model what is a circle and give us the area of the circle\n",
        "\n",
        "class Circle:\n",
        "    pi = 3.14159 # class constant attribute\n",
        "    def __init__(self, radius):\n",
        "        self.radius = radius\n",
        "\n",
        "    @property\n",
        "    def area(self):\n",
        "        return Circle.pi * self.radius **2"
      ]
    },
    {
      "cell_type": "code",
      "execution_count": 21,
      "id": "374b34c0",
      "metadata": {},
      "outputs": [],
      "source": [
        "c1 = Circle(2)\n",
        "c2 = Circle(5)\n"
      ]
    },
    {
      "cell_type": "code",
      "execution_count": 22,
      "id": "38b0810b",
      "metadata": {},
      "outputs": [
        {
          "data": {
            "text/plain": [
              "(2, 5)"
            ]
          },
          "execution_count": 22,
          "metadata": {},
          "output_type": "execute_result"
        }
      ],
      "source": [
        "c1.radius, c2.radius"
      ]
    },
    {
      "cell_type": "code",
      "execution_count": 24,
      "id": "f8a56fd5",
      "metadata": {},
      "outputs": [
        {
          "name": "stdout",
          "output_type": "stream",
          "text": [
            "the area of c1 is  12.56636\n",
            "the area of c2 is  78.53975\n"
          ]
        }
      ],
      "source": [
        "print(\"the area of c1 is \", c1.area())\n",
        "print(\"the area of c2 is \", c2.area())"
      ]
    },
    {
      "cell_type": "markdown",
      "id": "QFSw88YG3RP7",
      "metadata": {
        "id": "QFSw88YG3RP7"
      },
      "source": [
        "<a id=\"constructors\"></a>  \n",
        "## 4. Constructors & Default Arguments (15 min)\n",
        "\n",
        "- The `__init__` method can have default arguments so that users don’t always have to provide every parameter.\n",
        "\n",
        "```python\n",
        "class Garage:\n",
        "    def __init__(self, name=\"My Garage\", capacity=10):\n",
        "        self.name = name\n",
        "        self.capacity = capacity\n",
        "\n",
        "    def info(self):\n",
        "        print(f\"Garage '{self.name}' can hold up to {self.capacity} cars.\")\n",
        "```\n",
        "\n",
        "- **Examples:**\n",
        "  ```python\n",
        "  g1 = Garage()             # uses defaults: name=\"My Garage\", capacity=10\n",
        "  g2 = Garage(\"SuperCars\", 5)\n",
        "  g1.info()  # Garage 'My Garage' can hold up to 10 cars.\n",
        "  g2.info()  # Garage 'SuperCars' can hold up to 5 cars.\n",
        "  ```\n"
      ]
    },
    {
      "cell_type": "code",
      "execution_count": 37,
      "id": "vJ4gGwr-3RP7",
      "metadata": {
        "id": "vJ4gGwr-3RP7",
        "outputId": "416d5f19-39ab-42d7-c8c2-f2a11f0f6a1e"
      },
      "outputs": [],
      "source": [
        "## model what is a Garage\n",
        "\n",
        "## Garage is going to have a name, capacity, number of cars\n",
        "## Garage has two methods, one to park cars and another one to see if a car left the Garage\n",
        "\n",
        "class Garage:\n",
        "    def __init__(self, name = \"Generic Garage\", capacity =5):\n",
        "        self.name = name\n",
        "        self.capacity = capacity\n",
        "        self.cars = [] # list to store the parked car names\n",
        "\n",
        "    def park(self, car_name):\n",
        "        if len(self.cars) < self.capacity:\n",
        "            self.cars.append(car_name)\n",
        "            print(f\"Parked {car_name}. Current cars: {self.cars}\")\n",
        "        else:\n",
        "            print(\"The garage is full!!\")\n",
        "    \n",
        "    def leave(self, car_name):\n",
        "        if car_name in self.cars:\n",
        "            self.cars.remove(car_name)\n",
        "            print(f\"{car_name} left. Current cars: {self.cars}\")\n",
        "        else:\n",
        "            print(f\"{car_name} not found in the garage\")\n",
        "\n",
        "    def info(self):\n",
        "        print(f\"Garage '{self.name}' ({len(self.cars)}/{self.capacity})\" )\n",
        "        \n"
      ]
    },
    {
      "cell_type": "code",
      "execution_count": 38,
      "id": "bd3fe849",
      "metadata": {},
      "outputs": [
        {
          "name": "stdout",
          "output_type": "stream",
          "text": [
            "Garage 'Generic Garage' (0/5)\n",
            "Garage 'Elite Park' (0/2)\n"
          ]
        }
      ],
      "source": [
        "default_garage= Garage()\n",
        "custom_garage = Garage(\"Elite Park\", 2)\n",
        "\n",
        "default_garage.info()\n",
        "custom_garage.info()"
      ]
    },
    {
      "cell_type": "code",
      "execution_count": 39,
      "id": "95bd1e38",
      "metadata": {},
      "outputs": [
        {
          "name": "stdout",
          "output_type": "stream",
          "text": [
            "Parked Honda Civic. Current cars: ['Honda Civic']\n"
          ]
        }
      ],
      "source": [
        "default_garage.park(\"Honda Civic\")"
      ]
    },
    {
      "cell_type": "code",
      "execution_count": 40,
      "id": "fb8d548c",
      "metadata": {},
      "outputs": [
        {
          "name": "stdout",
          "output_type": "stream",
          "text": [
            "Parked Mercedes. Current cars: ['Honda Civic', 'Mercedes']\n"
          ]
        }
      ],
      "source": [
        "default_garage.park(\"Mercedes\")"
      ]
    },
    {
      "cell_type": "code",
      "execution_count": 41,
      "id": "749e963b",
      "metadata": {},
      "outputs": [
        {
          "name": "stdout",
          "output_type": "stream",
          "text": [
            "Toyota not found in the garage\n"
          ]
        }
      ],
      "source": [
        "default_garage.leave(\"Toyota\")"
      ]
    },
    {
      "cell_type": "code",
      "execution_count": 42,
      "id": "f1d13689",
      "metadata": {},
      "outputs": [
        {
          "name": "stdout",
          "output_type": "stream",
          "text": [
            "Parked Ferrari. Current cars: ['Ferrari']\n",
            "Parked Lamborghini. Current cars: ['Ferrari', 'Lamborghini']\n"
          ]
        }
      ],
      "source": [
        "custom_garage.park(\"Ferrari\")\n",
        "custom_garage.park(\"Lamborghini\")"
      ]
    },
    {
      "cell_type": "code",
      "execution_count": 43,
      "id": "4530f138",
      "metadata": {},
      "outputs": [
        {
          "name": "stdout",
          "output_type": "stream",
          "text": [
            "The garage is full!!\n"
          ]
        }
      ],
      "source": [
        "custom_garage.park(\"Porsche\")"
      ]
    },
    {
      "cell_type": "code",
      "execution_count": null,
      "id": "cdfd9796",
      "metadata": {},
      "outputs": [],
      "source": [
        "# deafult Garage vs custom garage\n",
        "\n",
        "default_garage= Garage()\n",
        "custom_garage = Garage(\"Elite Park\", 2)"
      ]
    },
    {
      "cell_type": "code",
      "execution_count": 31,
      "id": "741b6501",
      "metadata": {},
      "outputs": [
        {
          "name": "stdout",
          "output_type": "stream",
          "text": [
            "Parked Honda Civic. Current cars: ['Honda Civic', 'Honda Civic']\n",
            "Parked Honda Civic 2. Current cars: ['Honda Civic', 'Honda Civic', 'Honda Civic 2']\n"
          ]
        }
      ],
      "source": [
        "default_garage.park(\"Honda Civic\")\n",
        "default_garage.park(\"Honda Civic 2\")"
      ]
    },
    {
      "cell_type": "code",
      "execution_count": 34,
      "id": "8f20c64b",
      "metadata": {},
      "outputs": [
        {
          "name": "stdout",
          "output_type": "stream",
          "text": [
            "The garage is full!!\n"
          ]
        }
      ],
      "source": [
        "default_garage.park(\"Honda Civic 3\")"
      ]
    },
    {
      "cell_type": "markdown",
      "id": "npBUr4LQ3RP7",
      "metadata": {
        "id": "npBUr4LQ3RP7"
      },
      "source": [
        "<a id=\"class_variables\"></a>  \n",
        "## 5. Class Variables & Class/Static Methods (15 min)\n",
        "\n",
        "### 5.1 Class Variables (Review)\n",
        "\n",
        "- Declared in the class body, outside any method.\n",
        "- Shared among all instances.\n",
        "- Useful for counting instances, default settings, etc.\n",
        "\n",
        "```python\n",
        "class Product:\n",
        "    total_products = 0  # class variable\n",
        "\n",
        "    def __init__(self, name, price):\n",
        "        self.name = name\n",
        "        self.price = price\n",
        "        Product.total_products += 1\n",
        "```\n",
        "\n",
        "- Every time a new `Product` is created, `total_products` increments.\n",
        "\n",
        "### 5.2 Class Methods (`@classmethod`)\n",
        "\n",
        "- Receives the class itself as the first argument (`cls`), instead of an instance (`self`).\n",
        "- Use for factory methods or operations that affect the class as a whole.\n",
        "\n",
        "```python\n",
        "class Product:\n",
        "    total_products = 0\n",
        "\n",
        "    def __init__(self, name, price):\n",
        "        self.name = name\n",
        "        self.price = price\n",
        "        Product.total_products += 1\n",
        "\n",
        "    @classmethod\n",
        "    def get_total_products(cls):\n",
        "        return cls.total_products\n",
        "```\n",
        "\n",
        "- Call via `Product.get_total_products()` or `instance.get_total_products()`.\n",
        "\n",
        "### 5.3 Static Methods (`@staticmethod`)\n",
        "\n",
        "- Does not receive `self` or `cls`.  \n",
        "- Behaves like a regular function but lives in the class namespace.\n",
        "\n",
        "```python\n",
        "class MathUtils:\n",
        "    @staticmethod\n",
        "    def add(a, b):\n",
        "        return a + b\n",
        "\n",
        "MathUtils.add(3, 5)  # 8\n",
        "```\n"
      ]
    },
    {
      "cell_type": "code",
      "execution_count": 46,
      "id": "yfm86Dnw3RP7",
      "metadata": {
        "id": "yfm86Dnw3RP7",
        "outputId": "45e3a5da-d66f-492f-a1e0-b9b4b786100b"
      },
      "outputs": [],
      "source": [
        "class Product:\n",
        "    total_products = 0\n",
        "\n",
        "    def __init__(self, name, price):\n",
        "        self.name = name\n",
        "        self.price = price\n",
        "        Product.total_products +=1\n",
        "\n",
        "    @classmethod\n",
        "    def get_total_products(cls):\n",
        "        return cls.total_products\n",
        "    \n",
        "    @staticmethod\n",
        "    def is_expensive(price):\n",
        "        return price > 100\n"
      ]
    },
    {
      "cell_type": "code",
      "execution_count": 47,
      "id": "40102af8",
      "metadata": {},
      "outputs": [],
      "source": [
        "# create 2 products\n",
        "\n",
        "p1 = Product(\"Keyboard\", 50)\n",
        "p2 = Product(\"Monitor\", 150)\n",
        "p3 = Product(\"Laptop\", 1200)"
      ]
    },
    {
      "cell_type": "code",
      "execution_count": 48,
      "id": "e635c158",
      "metadata": {},
      "outputs": [
        {
          "data": {
            "text/plain": [
              "3"
            ]
          },
          "execution_count": 48,
          "metadata": {},
          "output_type": "execute_result"
        }
      ],
      "source": [
        "Product.get_total_products()"
      ]
    },
    {
      "cell_type": "code",
      "execution_count": 49,
      "id": "fd2c965b",
      "metadata": {},
      "outputs": [
        {
          "data": {
            "text/plain": [
              "False"
            ]
          },
          "execution_count": 49,
          "metadata": {},
          "output_type": "execute_result"
        }
      ],
      "source": [
        "Product.is_expensive(75)"
      ]
    },
    {
      "cell_type": "code",
      "execution_count": 51,
      "id": "9359dd18",
      "metadata": {},
      "outputs": [
        {
          "data": {
            "text/plain": [
              "True"
            ]
          },
          "execution_count": 51,
          "metadata": {},
          "output_type": "execute_result"
        }
      ],
      "source": [
        "p3.is_expensive(1200)"
      ]
    },
    {
      "cell_type": "markdown",
      "id": "xF3S2OPl3RP7",
      "metadata": {
        "id": "xF3S2OPl3RP7"
      },
      "source": [
        "<a id=\"inheritance\"></a>  \n",
        "## 6. Inheritance & Polymorphism (25 min)\n",
        "\n",
        "### 6.1 Single Inheritance\n",
        "\n",
        "- A derived (child) class inherits attributes and methods from a base (parent) class.  \n",
        "- Use syntax: `class Child(Parent):`\n",
        "\n",
        "```python\n",
        "class Animal:\n",
        "    def __init__(self, name):\n",
        "        self.name = name\n",
        "\n",
        "    def speak(self):\n",
        "        raise NotImplementedError(\"Subclasses must implement this method.\")\n",
        "\n",
        "class Dog(Animal):\n",
        "    def speak(self):\n",
        "        return f\"{self.name} says: Woof!\"\n",
        "\n",
        "class Cat(Animal):\n",
        "    def speak(self):\n",
        "        return f\"{self.name} says: Meow!\"\n",
        "```\n",
        "\n",
        "- `Dog` and `Cat` inherit `__init__` from `Animal` but override `speak()`.\n",
        "\n",
        "### 6.2 Overriding & `super()`\n",
        "\n",
        "- A child class can override a parent’s method.  \n",
        "- Use `super().__init__(...)` to call the parent constructor.\n",
        "\n",
        "```python\n",
        "class Vehicle:\n",
        "    def __init__(self, make, model):\n",
        "        self.make = make\n",
        "        self.model = model\n",
        "\n",
        "class Car(Vehicle):\n",
        "    def __init__(self, make, model, num_doors):\n",
        "        super().__init__(make, model)\n",
        "        self.num_doors = num_doors\n",
        "\n",
        "    def info(self):\n",
        "        return f\"{self.make} {self.model} with {self.num_doors} doors.\"\n",
        "```\n",
        "\n",
        "### 6.3 Polymorphism (Duck Typing)\n",
        "\n",
        "- Different classes implementing the same method name can be used interchangeably.\n",
        "\n",
        "```python\n",
        "def make_it_speak(animal):\n",
        "    print(animal.speak())\n",
        "\n",
        "d = Dog(\"Buddy\")\n",
        "c = Cat(\"Whiskers\")\n",
        "\n",
        "make_it_speak(d)  # Buddy says: Woof!\n",
        "make_it_speak(c)  # Whiskers says: Meow!\n",
        "```"
      ]
    },
    {
      "cell_type": "code",
      "execution_count": null,
      "id": "rgpgeiAG3RP8",
      "metadata": {
        "id": "rgpgeiAG3RP8",
        "outputId": "a0211250-3ec4-430e-ba7c-6bd641ce0af1"
      },
      "outputs": [],
      "source": [
        "class Animal:\n",
        "    def __init__(self, name, eye_color = \"green\"):\n",
        "        self.name = name\n",
        "        self._eye_color = eye_color\n",
        "\n",
        "    def speak(self):\n",
        "        raise NotImplementedError(\"Subclasses must implement this method\")\n",
        "    \n",
        "class Dog(Animal):\n",
        "\n",
        "    def speak(self):\n",
        "        return f\"{self.name} says: Woof!\"\n",
        "    \n",
        "class Cat(Animal):\n",
        "    def speak(self):\n",
        "        return f\"{self.name} says Meow!!\"\n",
        "    \n",
        "class Bird(Animal):\n",
        "    def speak(self):\n",
        "        return f\"{self.name} says Tweet!!\""
      ]
    },
    {
      "cell_type": "code",
      "execution_count": 61,
      "id": "d6dedb8d",
      "metadata": {},
      "outputs": [
        {
          "data": {
            "text/plain": [
              "'blue'"
            ]
          },
          "execution_count": 61,
          "metadata": {},
          "output_type": "execute_result"
        }
      ],
      "source": [
        "buddy = Dog(\"Buddy\", eye_color=\"blue\")\n",
        "buddy.eye_color"
      ]
    },
    {
      "cell_type": "code",
      "execution_count": 53,
      "id": "69ab7f1a",
      "metadata": {},
      "outputs": [
        {
          "name": "stdout",
          "output_type": "stream",
          "text": [
            "Buddy says: Woof!\n",
            "Luna says Meow!!\n",
            "Tweety says Tweet!!\n"
          ]
        }
      ],
      "source": [
        "# using polymorphism\n",
        "animals = [Dog(\"Buddy\"), Cat(\"Luna\"), Bird(\"Tweety\")]\n",
        "for a in animals:\n",
        "    print(a.speak())"
      ]
    },
    {
      "cell_type": "markdown",
      "id": "XarBQCvl3RP8",
      "metadata": {
        "id": "XarBQCvl3RP8"
      },
      "source": [
        "<a id=\"encapsulation\"></a>  \n",
        "## 7. Encapsulation & Special Methods (25 min)\n",
        "\n",
        "### 7.1 Encapsulation (Protected & Private Attributes)\n",
        "\n",
        "- By convention, prefix an attribute with a single underscore `_` to indicate it’s “protected” (internal use).  \n",
        "- Prefix with double underscore `__` to trigger name mangling, making it harder (but not impossible) to access from outside.\n",
        "\n",
        "```python\n",
        "class BankAccount:\n",
        "    def __init__(self, owner, balance=0):\n",
        "        self.owner = owner              # public\n",
        "        self._transactions = []         # protected\n",
        "        self.__balance = balance        # private (name-mangled to _BankAccount__balance)\n",
        "\n",
        "    def deposit(self, amount):\n",
        "        if amount > 0:\n",
        "            self.__balance += amount\n",
        "            self._transactions.append((\"deposit\", amount))\n",
        "\n",
        "    def withdraw(self, amount):\n",
        "        if 0 < amount <= self.__balance:\n",
        "            self.__balance -= amount\n",
        "            self._transactions.append((\"withdraw\", amount))\n",
        "\n",
        "    def get_balance(self):\n",
        "        return self.__balance\n",
        "```\n",
        "\n",
        "- **Accessing “private” attribute from outside (not recommended):**  \n",
        "  ```python\n",
        "  acct = BankAccount(\"Alice\", 100)\n",
        "  print(acct._BankAccount__balance)  # 100 (but avoid using this)\n",
        "  ```\n",
        "\n",
        "### 7.2 Special Methods (Dunder Methods)\n",
        "\n",
        "- Python uses “magic” or “dunder” methods like `__str__`, `__repr__`, `__add__`, etc.  \n",
        "- Let you define behavior for built-in operations:\n",
        "\n",
        "| Method         | Called by                   | Purpose                              |\n",
        "|----------------|-----------------------------|--------------------------------------|\n",
        "| `__init__`     | constructor (object creation) | Initialize instance attributes       |\n",
        "| `__str__`      | `str(obj)` or `print(obj)`    | Human-readable string representation |\n",
        "| `__repr__`     | `repr(obj)`                   | Unambiguous string (for debugging)   |\n",
        "| `__add__`      | `obj1 + obj2`                 | Define addition behavior             |\n",
        "| `__eq__`       | `obj1 == obj2`                | Define equality check                |\n",
        "| `__lt__`, etc. | `<, >, <=, >=`                | Define ordering                      |\n"
      ]
    },
    {
      "cell_type": "code",
      "execution_count": 73,
      "id": "MzYh3q5T3RP8",
      "metadata": {
        "id": "MzYh3q5T3RP8",
        "outputId": "17996262-5063-40df-aad7-d64eb14bfba9"
      },
      "outputs": [],
      "source": [
        "\n",
        "class Money:\n",
        "    def __init__(self, dollars, cents):\n",
        "        self.dollars = dollars\n",
        "        self.cents = cents\n",
        "\n",
        "    def __str__(self):\n",
        "        return f\"${self.dollars}.{self.cents}\"\n",
        "    \n",
        "    def __repr__(self):\n",
        "        return f\"Money ({self.dollars}, {self.cents})\"\n",
        "    \n",
        "    def __add__(self,other):\n",
        "        total_cents = (self.dollars * 100 + self.cents)+ (other.dollars *100 + other.cents)\n",
        "        return Money(total_cents // 100, total_cents % 100)\n",
        "    \n",
        "    def __eq__(self,other):\n",
        "        return (self.dollars, self.cents) == (other.dollars, other.cents)"
      ]
    },
    {
      "cell_type": "code",
      "execution_count": 74,
      "id": "c5268bca",
      "metadata": {},
      "outputs": [],
      "source": [
        "# test the methods\n",
        "\n",
        "m1 = Money(10,75)\n",
        "m2 = Money(5,50)"
      ]
    },
    {
      "cell_type": "code",
      "execution_count": 76,
      "id": "39b96dd3",
      "metadata": {},
      "outputs": [
        {
          "name": "stdout",
          "output_type": "stream",
          "text": [
            "m1 $10.75\n",
            "m2 $5.50\n",
            "repr(m1) Money (10, 75)\n",
            "m1 + m2 $16.25\n",
            "m1 ==m2? False\n"
          ]
        }
      ],
      "source": [
        "print(\"m1\", m1)\n",
        "print(\"m2\", m2) # str method\n",
        "\n",
        "print(\"repr(m1)\", repr(m1))\n",
        "\n",
        "sum_money = m1 + m2\n",
        "print(\"m1 + m2\", sum_money)\n",
        "print(\"m1 ==m2?\", m1 == m2)"
      ]
    },
    {
      "cell_type": "markdown",
      "id": "GI4tzEyU3RP8",
      "metadata": {
        "id": "GI4tzEyU3RP8"
      },
      "source": [
        "<a id=\"composition\"></a>  \n",
        "## 8. Composition & Advanced Features (20 min)\n",
        "\n",
        "### 8.1 Composition (Has-A Relationship)\n",
        "\n",
        "- Instead of inheriting, a class can **contain** instances of other classes.\n",
        "- Useful when “is-a” doesn’t make sense but “has-a” does.\n",
        "\n",
        "```python\n",
        "class Engine:\n",
        "    def __init__(self, horsepower):\n",
        "        self.horsepower = horsepower\n",
        "\n",
        "class Car:\n",
        "    def __init__(self, make, model, horsepower):\n",
        "        self.make = make\n",
        "        self.model = model\n",
        "        self.engine = Engine(horsepower)\n",
        "\n",
        "    def specs(self):\n",
        "        return f\"{self.make} {self.model} with {self.engine.horsepower} HP\"\n",
        "```\n",
        "\n",
        "### 8.2 The `@property` Decorator\n",
        "\n",
        "- Provides a way to define getters/setters without explicit methods.\n",
        "- Makes attribute access syntax cleaner.\n",
        "\n",
        "```python\n",
        "class Rectangle:\n",
        "    def __init__(self, width, height):\n",
        "        self._width = width\n",
        "        self._height = height\n",
        "\n",
        "    @property\n",
        "    def area(self):\n",
        "        return self._width * self._height\n",
        "\n",
        "    @area.setter\n",
        "    def area(self, value):\n",
        "        raise AttributeError(\"Cannot set area directly; modify width or height instead.\")\n",
        "```\n",
        "\n",
        "- Access via `rect.area` (no parentheses), but it’s computed on the fly.\n",
        "\n",
        "### 8.3 Other Advanced Topics (Brief Overview)\n",
        "\n",
        "- **Decorators on methods** (e.g., `@staticmethod`, `@classmethod`).  \n",
        "- **Meta-classes**: specify behavior of class creation.  \n",
        "- **Data classes (`@dataclass`)**: automatic `__init__`, `__repr__`, etc.  \n",
        "- **SOLID principles** and design patterns (Factory, Singleton, Observer).\n"
      ]
    },
    {
      "cell_type": "code",
      "execution_count": null,
      "id": "GYBBd7gR3RP8",
      "metadata": {
        "id": "GYBBd7gR3RP8",
        "outputId": "6662bc14-444f-4ba9-9035-88e6472cdcf6"
      },
      "outputs": [],
      "source": [
        "\n",
        "class Rectangle:\n",
        "    def __init__(self, width, height):\n",
        "        self.width = width\n",
        "        self.height = height\n",
        "\n",
        "    @property\n",
        "    def area(self):\n",
        "        return self.width * self.height"
      ]
    },
    {
      "cell_type": "code",
      "execution_count": 80,
      "id": "b343cdc7",
      "metadata": {},
      "outputs": [
        {
          "data": {
            "text/plain": [
              "15"
            ]
          },
          "execution_count": 80,
          "metadata": {},
          "output_type": "execute_result"
        }
      ],
      "source": [
        "r1 = Rectangle(3,5)\n",
        "r1.area()"
      ]
    },
    {
      "cell_type": "markdown",
      "id": "L3JE66I03RP8",
      "metadata": {
        "id": "L3JE66I03RP8"
      },
      "source": [
        "<a id=\"exercises\"></a>  \n",
        "## 9. Exercises & Solutions (45 min)\n",
        "\n",
        "Below are exercises to reinforce what we’ve learned. Try to solve each on your own first (no peeking!). Then compare with the provided solution.\n",
        "\n",
        "---\n",
        "\n",
        "### Exercise 1 (10 min): Create a Simple Class\n",
        "\n",
        "**Prompt:**  \n",
        "- Define a class named `Book` with two instance attributes: `title` (string) and `author` (string).  \n",
        "- Add a method `description()` that returns a string: `\"Title by Author\"`.  \n",
        "- Create an instance of `Book` for “1984” by George Orwell and call `description()`.\n",
        "\n",
        "```python\n",
        "# TODO: Write class Book here\n",
        "```"
      ]
    },
    {
      "cell_type": "code",
      "execution_count": null,
      "id": "nDs3-9vm3RP8",
      "metadata": {
        "id": "nDs3-9vm3RP8",
        "outputId": "410d2a59-2c1a-452d-f218-a945b9714fbe"
      },
      "outputs": [
        {
          "name": "stdout",
          "output_type": "stream",
          "text": [
            "\"1984\" by George Orwell\n"
          ]
        }
      ],
      "source": [
        "# Solution for Exercise 1\n",
        "\n"
      ]
    },
    {
      "cell_type": "markdown",
      "id": "GyyWLA4B3RP8",
      "metadata": {
        "id": "GyyWLA4B3RP8"
      },
      "source": [
        "---\n",
        "\n",
        "### Exercise 2 (10 min): Rectangle Class with Area & Perimeter\n",
        "\n",
        "**Prompt:**  \n",
        "- Create a class named `Rectangle` with two instance attributes: `width` and `height`.  \n",
        "- Add methods:  \n",
        "  - `area()` that returns the area (width × height).  \n",
        "  - `perimeter()` that returns the perimeter (2 × (width + height)).  \n",
        "- Instantiate a rectangle with width = 4 and height = 7, then print its area and perimeter.\n",
        "\n",
        "```python\n",
        "# TODO: Write class Rectangle here\n",
        "```"
      ]
    },
    {
      "cell_type": "code",
      "execution_count": null,
      "id": "Ndf-kdho3RP8",
      "metadata": {
        "id": "Ndf-kdho3RP8",
        "outputId": "917d0d2b-1831-489b-b8a8-7004f996de68"
      },
      "outputs": [
        {
          "name": "stdout",
          "output_type": "stream",
          "text": [
            "Area: 28\n",
            "Perimeter: 22\n"
          ]
        }
      ],
      "source": [
        "# Solution for Exercise 2\n",
        "\n"
      ]
    },
    {
      "cell_type": "markdown",
      "id": "ypJWESPe3RP8",
      "metadata": {
        "id": "ypJWESPe3RP8"
      },
      "source": [
        "---\n",
        "\n",
        "### Exercise 3 (10 min): BankAccount Class\n",
        "\n",
        "**Prompt:**  \n",
        "- Create a class named `BankAccount` with:  \n",
        "  - Instance attributes: `owner` (string) and `balance` (numeric, default 0).  \n",
        "  - Methods:  \n",
        "    - `deposit(amount)` — adds `amount` to `balance` if `amount > 0` and returns the new balance; otherwise returns a message `\"Invalid deposit amount\"`.  \n",
        "    - `withdraw(amount)` — subtracts `amount` from `balance` if `0 < amount <= balance` and returns the new balance; otherwise returns `\"Insufficient funds or invalid amount\"`.  \n",
        "    - `get_balance()` — returns the current balance.  \n",
        "- Create an account for “Alice” with initial balance 100, deposit 50, withdraw 30, then print the final balance.\n",
        "\n",
        "```python\n",
        "# TODO: Write class BankAccount here\n",
        "```"
      ]
    },
    {
      "cell_type": "code",
      "execution_count": null,
      "id": "ht7yw3GR3RP9",
      "metadata": {
        "id": "ht7yw3GR3RP9",
        "outputId": "451b4dcd-b052-4e3c-e176-2ac615d5caff"
      },
      "outputs": [
        {
          "name": "stdout",
          "output_type": "stream",
          "text": [
            "Deposited $50. New balance: $150\n",
            "Withdrew $30. New balance: $120\n",
            "Final balance: 120\n"
          ]
        }
      ],
      "source": [
        "# Solution for Exercise 3\n",
        "\n"
      ]
    },
    {
      "cell_type": "markdown",
      "id": "NikdxU8B3RP9",
      "metadata": {
        "id": "NikdxU8B3RP9"
      },
      "source": [
        "---\n",
        "\n",
        "### Exercise 4 (10 min): Class Variables & Tracking Instances\n",
        "\n",
        "**Prompt:**  \n",
        "- Create a class named `Product` with:  \n",
        "  - Instance attributes: `name` (string) and `price` (numeric).  \n",
        "  - A class variable `total_products` that keeps track of how many `Product` instances have been created.  \n",
        "  - Increment `total_products` inside `__init__`.  \n",
        "  - A class method `get_total_products()` that returns `total_products`.  \n",
        "- Instantiate at least three products and print out `Product.get_total_products()`.\n",
        "\n",
        "```python\n",
        "# TODO: Write class Product here\n",
        "```"
      ]
    },
    {
      "cell_type": "code",
      "execution_count": null,
      "id": "DiK7UPgn3RP9",
      "metadata": {
        "id": "DiK7UPgn3RP9",
        "outputId": "28f47f08-559f-4f36-f873-a3cc88501b1d"
      },
      "outputs": [
        {
          "name": "stdout",
          "output_type": "stream",
          "text": [
            "Total products created: 3\n"
          ]
        }
      ],
      "source": [
        "# Solution for Exercise 4\n",
        "\n"
      ]
    },
    {
      "cell_type": "markdown",
      "id": "6wri4Irg3RP9",
      "metadata": {
        "id": "6wri4Irg3RP9"
      },
      "source": [
        "---\n",
        "\n",
        "### Exercise 5 (15 min): Inheritance Hierarchy\n",
        "\n",
        "**Prompt:**  \n",
        "1. Define a base class `Vehicle` with instance attributes `make` (string) and `model` (string), and a method `info()` that returns `\"Make Model\"`.  \n",
        "2. Create two subclasses:  \n",
        "   - `Car`, adding an attribute `num_doors` (int), override `info()` to return `\"Make Model with X doors\"`.  \n",
        "   - `Motorcycle`, adding an attribute `has_sidecar` (bool), override `info()` to return `\"Make Model with/without sidecar\"`.  \n",
        "3. Demonstrate polymorphism by creating a list of mixed `Car` and `Motorcycle` instances and printing each `.info()`.\n",
        "\n",
        "```python\n",
        "# TODO: Write classes Vehicle, Car, Motorcycle here\n",
        "```"
      ]
    },
    {
      "cell_type": "code",
      "execution_count": null,
      "id": "wFNeMpUa3RP9",
      "metadata": {
        "id": "wFNeMpUa3RP9",
        "outputId": "4fcaf611-2189-4295-b331-adfdc529e681"
      },
      "outputs": [
        {
          "name": "stdout",
          "output_type": "stream",
          "text": [
            "Toyota Camry with 4 doors\n",
            "Harley-Davidson Sportster with sidecar\n",
            "Tesla Model 3 with 4 doors\n",
            "Yamaha MT-07 without sidecar\n"
          ]
        }
      ],
      "source": [
        "# Solution for Exercise 5\n",
        "\n",
        "\n"
      ]
    },
    {
      "cell_type": "markdown",
      "id": "4ycfaKax3RP9",
      "metadata": {
        "id": "4ycfaKax3RP9"
      },
      "source": [
        "---\n",
        "\n",
        "### Exercise 6 (15 min): Special Methods & Operator Overloading\n",
        "\n",
        "**Prompt:**  \n",
        "- Create a class named `Money` (like earlier) with instance attributes `dollars` (int) and `cents` (int).  \n",
        "- Implement special methods:  \n",
        "  - `__str__` to return a human-readable string like `\"$X.YY\"`.  \n",
        "  - `__repr__` to return `Money(dollars, cents)`.  \n",
        "  - `__add__` to allow adding two `Money` objects (handle cents overflow properly).  \n",
        "  - `__eq__` to allow comparison with `==`.  \n",
        "- Demonstrate by creating `Money(5, 75)` and `Money(3, 50)`, adding them, and comparing equality.\n",
        "\n",
        "```python\n",
        "# TODO: Write class Money here\n",
        "```"
      ]
    },
    {
      "cell_type": "code",
      "execution_count": null,
      "id": "8LHDpjVX3RP9",
      "metadata": {
        "id": "8LHDpjVX3RP9",
        "outputId": "885aba71-9f33-4660-8859-794d8759fe29"
      },
      "outputs": [
        {
          "name": "stdout",
          "output_type": "stream",
          "text": [
            "m1: $5.75\n",
            "m2: $3.50\n",
            "m1 + m2 = $9.25\n",
            "m1 == m2? False\n",
            "m1 == Money(5,75)? True\n"
          ]
        }
      ],
      "source": [
        "# Solution for Exercise 6\n",
        "\n"
      ]
    },
    {
      "cell_type": "markdown",
      "id": "YZ_lxWFh3RP9",
      "metadata": {
        "id": "YZ_lxWFh3RP9"
      },
      "source": [
        "<a id=\"next_steps\"></a>  \n",
        "## 10. Next Steps & Best Practices (10 min)\n",
        "\n",
        "- **Design Principles:**  \n",
        "  - **Single Responsibility Principle**: Each class should have one reason to change.  \n",
        "  - **Open/Closed Principle**: Classes should be open for extension but closed for modification.  \n",
        "  - **Liskov Substitution Principle**: Subclasses should be usable wherever their base class is expected.  \n",
        "  - **Interface Segregation Principle**: Clients should not be forced to depend on methods they do not use.  \n",
        "  - **Dependency Inversion Principle**: High-level modules should not depend on low-level modules; use abstractions.\n",
        "\n",
        "- **Documentation & Style:**  \n",
        "  - Always write docstrings for classes and methods.  \n",
        "  - Follow PEP 8 naming conventions: `PascalCase` for classes, `snake_case` for methods/functions and variables.  \n",
        "  - Use meaningful names and keep classes focused on a single responsibility.\n",
        "\n",
        "- **Real-World Practice:**  \n",
        "  - Explore design patterns (Factory, Singleton, Observer, Strategy, etc.).  \n",
        "  - Learn about `@dataclass` for boilerplate reduction.  \n",
        "  - Dive into metaclasses if you need to customize class creation.  \n",
        "  - Experiment with frameworks that heavily utilize OOP (Django, Flask, etc.).  \n",
        "  - Build small projects: e.g., a simple inventory system, a game with objects, etc.\n",
        "\n",
        "---\n",
        "\n",
        "**Congratulations!** You’ve completed the 3-hour Python OOP workshop.  \n",
        "Feel free to revisit sections, re-implement exercises, and explore additional OOP features in Python.\n"
      ]
    },
    {
      "cell_type": "markdown",
      "id": "ce6bfbc8",
      "metadata": {
        "id": "ce6bfbc8"
      },
      "source": []
    },
    {
      "cell_type": "markdown",
      "id": "6b0a9585",
      "metadata": {
        "id": "6b0a9585"
      },
      "source": []
    }
  ],
  "metadata": {
    "colab": {
      "provenance": []
    },
    "kernelspec": {
      "display_name": "venv",
      "language": "python",
      "name": "python3"
    },
    "language_info": {
      "codemirror_mode": {
        "name": "ipython",
        "version": 3
      },
      "file_extension": ".py",
      "mimetype": "text/x-python",
      "name": "python",
      "nbconvert_exporter": "python",
      "pygments_lexer": "ipython3",
      "version": "3.13.1"
    }
  },
  "nbformat": 4,
  "nbformat_minor": 5
}
