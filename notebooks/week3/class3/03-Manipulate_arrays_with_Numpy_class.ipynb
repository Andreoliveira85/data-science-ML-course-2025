{
 "cells": [
  {
   "cell_type": "markdown",
   "metadata": {
    "id": "7ZevaEOXYBKe"
   },
   "source": [
    "# Handling data with numpy\n",
    "\n",
    "## What you'll learn in this course 🧐🧐\n",
    "\n",
    "Now you're familiar with Numpy, we'll go deeper in details about some must-knows of Numpy, in particular as regards manipulating numpy arrays. The objective of this course is therefore :\n",
    "\n",
    "* Understand the usefulness of Numpy in tensor manipulation\n",
    "* Create and manipulate tensors with Numpy\n",
    "* Know how to iterate on tensors\n",
    "* Know how to create Numpy masks\n",
    "* Understand what the *shape* of a tensor is"
   ]
  },
  {
   "cell_type": "markdown",
   "metadata": {
    "id": "bdL6CpkAYBKi"
   },
   "source": [
    "### Import librairies"
   ]
  },
  {
   "cell_type": "code",
   "execution_count": 1,
   "metadata": {
    "executionInfo": {
     "elapsed": 283,
     "status": "ok",
     "timestamp": 1698918598571,
     "user": {
      "displayName": "Aurélie Mutschler",
      "userId": "09486760454547044843"
     },
     "user_tz": -60
    },
    "id": "v6jbgViDYBK9"
   },
   "outputs": [],
   "source": [
    "import numpy as np"
   ]
  },
  {
   "cell_type": "markdown",
   "metadata": {
    "id": "YMrawp7eYBLF"
   },
   "source": [
    "### Initialize numpy arrays with pre-defined values\n",
    "\n",
    "#### Create matrices of 0s or 1s\n",
    "\n",
    "It is useful to be able to create matrices composed only of 0 or 1. To do this, you can use: ```np.zeros()``` or ```np.ones()```."
   ]
  },
  {
   "cell_type": "code",
   "execution_count": 2,
   "metadata": {
    "colab": {
     "base_uri": "https://localhost:8080/",
     "height": 277
    },
    "executionInfo": {
     "elapsed": 29,
     "status": "ok",
     "timestamp": 1698918598972,
     "user": {
      "displayName": "Aurélie Mutschler",
      "userId": "09486760454547044843"
     },
     "user_tz": -60
    },
    "id": "e_piNfiSYBLF",
    "outputId": "317163f6-4316-4ce2-8b99-09a903d6b38a"
   },
   "outputs": [
    {
     "data": {
      "text/plain": [
       "array([[0., 0., 0., 0.],\n",
       "       [0., 0., 0., 0.],\n",
       "       [0., 0., 0., 0.]])"
      ]
     },
     "metadata": {},
     "output_type": "display_data"
    },
    {
     "data": {
      "text/plain": [
       "array([[1., 1., 1., 1.],\n",
       "       [1., 1., 1., 1.],\n",
       "       [1., 1., 1., 1.],\n",
       "       [1., 1., 1., 1.],\n",
       "       [1., 1., 1., 1.]])"
      ]
     },
     "metadata": {},
     "output_type": "display_data"
    },
    {
     "data": {
      "text/plain": [
       "array([[[1., 1., 1., 1.],\n",
       "        [1., 1., 1., 1.],\n",
       "        [1., 1., 1., 1.]],\n",
       "\n",
       "       [[1., 1., 1., 1.],\n",
       "        [1., 1., 1., 1.],\n",
       "        [1., 1., 1., 1.]]])"
      ]
     },
     "execution_count": 2,
     "metadata": {},
     "output_type": "execute_result"
    }
   ],
   "source": [
    "# Initialization to 0 (matrix 3x4)\n",
    "display(np.zeros((3,4)))\n",
    "\n",
    "# Initialization to 1 (matrix 5x4)\n",
    "display(np.ones((5,4)))\n",
    "\n",
    "# Third order tensor (can be seen as 2 matrices 3x4)\n",
    "np.ones((2,3,4))"
   ]
  },
  {
   "cell_type": "markdown",
   "metadata": {
    "id": "tCNfp-UKYBLF"
   },
   "source": [
    "#### Create a list of regularly spaced values\n",
    "We have seen that the `range()` function in python can generate lists of regularly spaced integers. In the same way, the np.arange() method allows to generate lists of values (including decimal numbers):"
   ]
  },
  {
   "cell_type": "code",
   "execution_count": 88,
   "metadata": {
    "colab": {
     "base_uri": "https://localhost:8080/"
    },
    "executionInfo": {
     "elapsed": 26,
     "status": "ok",
     "timestamp": 1698918598973,
     "user": {
      "displayName": "Aurélie Mutschler",
      "userId": "09486760454547044843"
     },
     "user_tz": -60
    },
    "id": "PjYZYXfMYBLG",
    "outputId": "0c69b81e-64ee-4eaa-989e-ff5e5fbac962"
   },
   "outputs": [
    {
     "data": {
      "text/plain": [
       "array([3.2, 3.4, 3.6, 3.8, 4. , 4.2, 4.4, 4.6])"
      ]
     },
     "execution_count": 88,
     "metadata": {},
     "output_type": "execute_result"
    }
   ],
   "source": [
    "# Generates a list of numbers from 3.2 to 4.8 excluded with a step of 0.2.\n",
    "np.arange(3.2, 4.8, 0.2)"
   ]
  },
  {
   "cell_type": "markdown",
   "metadata": {
    "id": "xig0e-pv4Mey"
   },
   "source": [
    "### Initialize an array from a user-defined function"
   ]
  },
  {
   "cell_type": "code",
   "execution_count": 89,
   "metadata": {
    "colab": {
     "base_uri": "https://localhost:8080/"
    },
    "executionInfo": {
     "elapsed": 23,
     "status": "ok",
     "timestamp": 1698918598973,
     "user": {
      "displayName": "Aurélie Mutschler",
      "userId": "09486760454547044843"
     },
     "user_tz": -60
    },
    "id": "2BajLqpE4M7B",
    "outputId": "a50704a3-5df7-4357-b775-c7a0b019796c"
   },
   "outputs": [
    {
     "data": {
      "text/plain": [
       "array([[ 0,  1,  2,  3],\n",
       "       [10, 11, 12, 13],\n",
       "       [20, 21, 22, 23],\n",
       "       [30, 31, 32, 33],\n",
       "       [40, 41, 42, 43]])"
      ]
     },
     "execution_count": 89,
     "metadata": {},
     "output_type": "execute_result"
    }
   ],
   "source": [
    "def f(x, y):\n",
    "    return 10*x+y\n",
    "\n",
    "# Creating an array from the function from above\n",
    "np.fromfunction(f,(5,4),dtype=int)"
   ]
  },
  {
   "cell_type": "markdown",
   "metadata": {
    "id": "lOwKhk7CYBLJ"
   },
   "source": [
    "## Accessing items in a multidimensional array"
   ]
  },
  {
   "cell_type": "code",
   "execution_count": 90,
   "metadata": {
    "executionInfo": {
     "elapsed": 22,
     "status": "ok",
     "timestamp": 1698918598975,
     "user": {
      "displayName": "Aurélie Mutschler",
      "userId": "09486760454547044843"
     },
     "user_tz": -60
    },
    "id": "EFyCZiRwYBLK"
   },
   "outputs": [],
   "source": [
    "# Creation of a matrix\n",
    "c = np.array([[  0,  1,  2],\n",
    "               [ 10, 12, 13],\n",
    "               [100,101,102],\n",
    "               [110,112,113]])"
   ]
  },
  {
   "cell_type": "code",
   "execution_count": 91,
   "metadata": {
    "colab": {
     "base_uri": "https://localhost:8080/"
    },
    "executionInfo": {
     "elapsed": 22,
     "status": "ok",
     "timestamp": 1698918598975,
     "user": {
      "displayName": "Aurélie Mutschler",
      "userId": "09486760454547044843"
     },
     "user_tz": -60
    },
    "id": "1xOOCVEMYBLK",
    "outputId": "4eab660b-479c-4319-bf8b-78ceaa08db9d"
   },
   "outputs": [
    {
     "data": {
      "text/plain": [
       "113"
      ]
     },
     "execution_count": 91,
     "metadata": {},
     "output_type": "execute_result"
    }
   ],
   "source": [
    "c[3, 2] # Accessing to the value contained in the 4th row, 3rd column, is accessed"
   ]
  },
  {
   "cell_type": "code",
   "execution_count": 92,
   "metadata": {
    "executionInfo": {
     "elapsed": 19,
     "status": "ok",
     "timestamp": 1698918598975,
     "user": {
      "displayName": "Aurélie Mutschler",
      "userId": "09486760454547044843"
     },
     "user_tz": -60
    },
    "id": "MQznqevbYBLL"
   },
   "outputs": [],
   "source": [
    "# Creation of a third order tensor\n",
    "c = np.array( [[[  0,  1,  2],\n",
    "                 [ 10, 12, 13]],\n",
    "                [[100,101,102],\n",
    "                 [110,112,113]]])"
   ]
  },
  {
   "cell_type": "code",
   "execution_count": 93,
   "metadata": {
    "colab": {
     "base_uri": "https://localhost:8080/"
    },
    "executionInfo": {
     "elapsed": 19,
     "status": "ok",
     "timestamp": 1698918598976,
     "user": {
      "displayName": "Aurélie Mutschler",
      "userId": "09486760454547044843"
     },
     "user_tz": -60
    },
    "id": "mdVRFQSGYBLM",
    "outputId": "49a8b75d-3570-4f17-cbea-c1764398ce46"
   },
   "outputs": [
    {
     "data": {
      "text/plain": [
       "13"
      ]
     },
     "execution_count": 93,
     "metadata": {},
     "output_type": "execute_result"
    }
   ],
   "source": [
    "c[0, 1, 2] # We access the value contained in the 2nd row, 3rd column of the first matrix"
   ]
  },
  {
   "cell_type": "markdown",
   "metadata": {
    "id": "VThoC-92YBLM"
   },
   "source": [
    "### Iterate over numpy arrays"
   ]
  },
  {
   "cell_type": "code",
   "execution_count": 94,
   "metadata": {
    "executionInfo": {
     "elapsed": 427,
     "status": "ok",
     "timestamp": 1698918599387,
     "user": {
      "displayName": "Aurélie Mutschler",
      "userId": "09486760454547044843"
     },
     "user_tz": -60
    },
    "id": "8dorVtrWYBLM"
   },
   "outputs": [],
   "source": [
    "# Create matrix\n",
    "c = np.array([[  0,  1,  2],\n",
    "               [ 10, 12, 13],\n",
    "               [100,101,102],\n",
    "               [110,112,113]])"
   ]
  },
  {
   "cell_type": "markdown",
   "metadata": {
    "id": "5eXfW-ZHYBLM"
   },
   "source": [
    "#### Iterate on arrays\n",
    "\n",
    "You can use the `np.flat` attribute to easily iterate across all the elements in an array:"
   ]
  },
  {
   "cell_type": "code",
   "execution_count": 95,
   "metadata": {
    "colab": {
     "base_uri": "https://localhost:8080/"
    },
    "executionInfo": {
     "elapsed": 53,
     "status": "ok",
     "timestamp": 1698918599397,
     "user": {
      "displayName": "Aurélie Mutschler",
      "userId": "09486760454547044843"
     },
     "user_tz": -60
    },
    "id": "077iI6TsYBLN",
    "outputId": "b034bb74-5006-423b-fb0b-baa8637b8dd5",
    "tags": []
   },
   "outputs": [
    {
     "name": "stdout",
     "output_type": "stream",
     "text": [
      "0\n",
      "1\n",
      "2\n",
      "10\n",
      "12\n",
      "13\n",
      "100\n",
      "101\n",
      "102\n",
      "110\n",
      "112\n",
      "113\n",
      "\n",
      "----------\n",
      "\n",
      "0\n",
      "1\n",
      "2\n",
      "10\n",
      "12\n",
      "13\n",
      "100\n",
      "101\n",
      "102\n",
      "110\n",
      "112\n",
      "113\n"
     ]
    }
   ],
   "source": [
    "# Iterate on the elements of the matrix\n",
    "\n",
    "# Not recommanded (may be slow):\n",
    "for row in c:\n",
    "    for e in row:\n",
    "        print(e)\n",
    "\n",
    "print()\n",
    "print('----------')\n",
    "print()\n",
    "\n",
    "# Better:\n",
    "for e in c.flat:\n",
    "    print(e)"
   ]
  },
  {
   "cell_type": "markdown",
   "metadata": {
    "id": "LtmbqqU3YBLN"
   },
   "source": [
    "### Slices\n",
    "In the same way as in pandas, you can use the slices syntax to select a sub-part of the arrays."
   ]
  },
  {
   "cell_type": "code",
   "execution_count": 96,
   "metadata": {
    "colab": {
     "base_uri": "https://localhost:8080/"
    },
    "executionInfo": {
     "elapsed": 51,
     "status": "ok",
     "timestamp": 1698918599397,
     "user": {
      "displayName": "Aurélie Mutschler",
      "userId": "09486760454547044843"
     },
     "user_tz": -60
    },
    "id": "B6mxZg-SYBLO",
    "outputId": "a9d5f705-1eb1-48d0-9459-bb5c4c25b1a9",
    "tags": []
   },
   "outputs": [
    {
     "name": "stdout",
     "output_type": "stream",
     "text": [
      "[[ 0  1  2  3]\n",
      " [10 11 12 13]\n",
      " [20 21 22 23]\n",
      " [30 31 32 33]\n",
      " [40 41 42 43]]\n"
     ]
    }
   ],
   "source": [
    "def f(x, y):\n",
    "    return 10*x+y\n",
    "\n",
    "# Creating an array from the function from above\n",
    "b = np.fromfunction(f,(5,4),dtype=int)\n",
    "print(b)"
   ]
  },
  {
   "cell_type": "code",
   "execution_count": 97,
   "metadata": {
    "colab": {
     "base_uri": "https://localhost:8080/"
    },
    "executionInfo": {
     "elapsed": 49,
     "status": "ok",
     "timestamp": 1698918599398,
     "user": {
      "displayName": "Aurélie Mutschler",
      "userId": "09486760454547044843"
     },
     "user_tz": -60
    },
    "id": "49g1WgvaYBLO",
    "outputId": "a10a8e46-ef71-4829-cd83-40a8a4688c21",
    "tags": []
   },
   "outputs": [
    {
     "name": "stdout",
     "output_type": "stream",
     "text": [
      "[ 1 11 21 31 41]\n",
      "\n",
      "[ 1 11 21 31 41]\n",
      "\n",
      "----------\n",
      "\n",
      "[[10 11 12 13]\n",
      " [20 21 22 23]]\n",
      "\n",
      "----------\n",
      "\n",
      "[21 22]\n",
      "\n",
      "----------\n",
      "\n",
      "[22 23]\n",
      "\n",
      "[22 23]\n"
     ]
    }
   ],
   "source": [
    "# Slices\n",
    "print(b[0:5, 1])  # every lines of the second column\n",
    "print()\n",
    "print(b[:, 1])  # every lines of the second column\n",
    "\n",
    "print()\n",
    "print('----------')\n",
    "print()\n",
    "\n",
    "print(b[1:3, : ]) # 2nd and 3rd lines of all columns\n",
    "\n",
    "print()\n",
    "print('----------')\n",
    "print()\n",
    "\n",
    "print(b[2, 1:3]) # 3rd line, 2nd and 3rd columns\n",
    "\n",
    "print()\n",
    "print('----------')\n",
    "print()\n",
    "\n",
    "print(b[2, 2:4]) # 3rd line, 2 last columns\n",
    "print()\n",
    "print(b[2, -2:]) # 3rd line, 2 last columns"
   ]
  },
  {
   "cell_type": "markdown",
   "metadata": {
    "id": "egUhCTT7YBLO"
   },
   "source": [
    "### Masks\n",
    "Similarly, you can also use masks to select elements from your arrays based on a condition:"
   ]
  },
  {
   "cell_type": "code",
   "execution_count": 98,
   "metadata": {
    "colab": {
     "base_uri": "https://localhost:8080/",
     "height": 121
    },
    "executionInfo": {
     "elapsed": 47,
     "status": "ok",
     "timestamp": 1698918599398,
     "user": {
      "displayName": "Aurélie Mutschler",
      "userId": "09486760454547044843"
     },
     "user_tz": -60
    },
    "id": "v_GlGfoiYBLP",
    "outputId": "bdc907c3-15fe-4bad-f8e8-699ec379df96"
   },
   "outputs": [
    {
     "data": {
      "text/plain": [
       "array([[ 0,  1,  2,  3],\n",
       "       [ 4,  5,  6,  7],\n",
       "       [ 8,  9, 10, 11]])"
      ]
     },
     "metadata": {},
     "output_type": "display_data"
    },
    {
     "data": {
      "text/plain": [
       "array([[False, False, False, False],\n",
       "       [False,  True,  True,  True],\n",
       "       [ True,  True,  True,  True]])"
      ]
     },
     "execution_count": 98,
     "metadata": {},
     "output_type": "execute_result"
    }
   ],
   "source": [
    "# Create a table\n",
    "a = np.arange(12).reshape(3,4)\n",
    "display(a)\n",
    "# Create a mask\n",
    "b = a > 4\n",
    "b"
   ]
  },
  {
   "cell_type": "code",
   "execution_count": 99,
   "metadata": {
    "colab": {
     "base_uri": "https://localhost:8080/"
    },
    "executionInfo": {
     "elapsed": 45,
     "status": "ok",
     "timestamp": 1698918599398,
     "user": {
      "displayName": "Aurélie Mutschler",
      "userId": "09486760454547044843"
     },
     "user_tz": -60
    },
    "id": "u_8R5rUVYBLP",
    "outputId": "171087ca-b709-49ea-e14f-ce608541c8a2"
   },
   "outputs": [
    {
     "data": {
      "text/plain": [
       "array([ 5,  6,  7,  8,  9, 10, 11])"
      ]
     },
     "execution_count": 99,
     "metadata": {},
     "output_type": "execute_result"
    }
   ],
   "source": [
    "# Use the mask to select elements of the matrix\n",
    "a[b]"
   ]
  },
  {
   "cell_type": "markdown",
   "metadata": {
    "id": "VwxJfi_DYBLQ"
   },
   "source": [
    "Only the values for which the mask had the value `True` were shown."
   ]
  },
  {
   "cell_type": "markdown",
   "metadata": {
    "id": "E7gmMkPYYBLQ"
   },
   "source": [
    "## Manipulation of the shape of a numpy array\n",
    "\n",
    "Finally, it is good to talk about the *shape* of an array. This is especially useful when manipulating images when you're attacking deep learning.\n",
    "\n",
    "### What is the shape of a numpy array?\n",
    "\n",
    "The *shape* of an array gives us information about its dimension and the number of elements present in each dimension."
   ]
  },
  {
   "cell_type": "code",
   "execution_count": 100,
   "metadata": {
    "colab": {
     "base_uri": "https://localhost:8080/"
    },
    "executionInfo": {
     "elapsed": 42,
     "status": "ok",
     "timestamp": 1698918599398,
     "user": {
      "displayName": "Aurélie Mutschler",
      "userId": "09486760454547044843"
     },
     "user_tz": -60
    },
    "id": "DUlnw6JFYBLQ",
    "outputId": "80fe1d8f-ca83-4627-b4d3-af99ac9c8bfb"
   },
   "outputs": [
    {
     "data": {
      "text/plain": [
       "(4, 3)"
      ]
     },
     "execution_count": 100,
     "metadata": {},
     "output_type": "execute_result"
    }
   ],
   "source": [
    "# This is the shape of a matrix\n",
    "\n",
    "c = np.array([[  0,  1,  2],\n",
    "               [ 10, 12, 13],\n",
    "               [100,101,102],\n",
    "               [110,112,113]])\n",
    "\n",
    "c.shape"
   ]
  },
  {
   "cell_type": "code",
   "execution_count": 101,
   "metadata": {
    "colab": {
     "base_uri": "https://localhost:8080/"
    },
    "executionInfo": {
     "elapsed": 40,
     "status": "ok",
     "timestamp": 1698918599398,
     "user": {
      "displayName": "Aurélie Mutschler",
      "userId": "09486760454547044843"
     },
     "user_tz": -60
    },
    "id": "QfihvZLaYBLR",
    "outputId": "ffc3253b-f19b-4176-c6d4-823e746ea370"
   },
   "outputs": [
    {
     "data": {
      "text/plain": [
       "2"
      ]
     },
     "execution_count": 101,
     "metadata": {},
     "output_type": "execute_result"
    }
   ],
   "source": [
    "# A matrix is an array of the second dimension (order):\n",
    "len(c.shape)"
   ]
  },
  {
   "cell_type": "code",
   "execution_count": 102,
   "metadata": {
    "colab": {
     "base_uri": "https://localhost:8080/"
    },
    "executionInfo": {
     "elapsed": 38,
     "status": "ok",
     "timestamp": 1698918599399,
     "user": {
      "displayName": "Aurélie Mutschler",
      "userId": "09486760454547044843"
     },
     "user_tz": -60
    },
    "id": "7FjmCVneYBLS",
    "outputId": "4658ca2b-6534-498e-87bc-b932124968b5"
   },
   "outputs": [
    {
     "data": {
      "text/plain": [
       "1"
      ]
     },
     "execution_count": 102,
     "metadata": {},
     "output_type": "execute_result"
    }
   ],
   "source": [
    "# A vector is an array of the first dimension:\n",
    "v = np.array([1,2,3,4])\n",
    "len(v.shape)"
   ]
  },
  {
   "cell_type": "markdown",
   "metadata": {
    "id": "XieS-jS2YBLS"
   },
   "source": [
    "### Shape & Reshape\n",
    "\n",
    "Quite often you need to change the shape of a matrix. For example, you might want to invert the rows and columns of your matrix or *flatten* your matrix. You can do this with ``.reshape()```"
   ]
  },
  {
   "cell_type": "code",
   "execution_count": 103,
   "metadata": {
    "colab": {
     "base_uri": "https://localhost:8080/"
    },
    "executionInfo": {
     "elapsed": 36,
     "status": "ok",
     "timestamp": 1698918599399,
     "user": {
      "displayName": "Aurélie Mutschler",
      "userId": "09486760454547044843"
     },
     "user_tz": -60
    },
    "id": "rvIXw7irYBLT",
    "outputId": "ade77479-1579-4698-f930-21e036e9748a"
   },
   "outputs": [
    {
     "data": {
      "text/plain": [
       "array([[  0,   1,   2,  10,  12,  13],\n",
       "       [100, 101, 102, 110, 112, 113]])"
      ]
     },
     "execution_count": 103,
     "metadata": {},
     "output_type": "execute_result"
    }
   ],
   "source": [
    "# Change array's shape with reshape()\n",
    "c = np.array([[  0,  1,  2],\n",
    "               [ 10, 12, 13],\n",
    "               [100,101,102],\n",
    "               [110,112,113]])\n",
    "\n",
    "c.reshape((2,6)) # Be careful: n_lines x n_column must remain equal to the number of elements present in c"
   ]
  },
  {
   "cell_type": "markdown",
   "metadata": {
    "id": "lJBtY-DmYBLU"
   },
   "source": [
    "You can also *guess* the value inside one of the dimensions of your array by setting the value `-1`."
   ]
  },
  {
   "cell_type": "code",
   "execution_count": 104,
   "metadata": {
    "colab": {
     "base_uri": "https://localhost:8080/"
    },
    "executionInfo": {
     "elapsed": 33,
     "status": "ok",
     "timestamp": 1698918599399,
     "user": {
      "displayName": "Aurélie Mutschler",
      "userId": "09486760454547044843"
     },
     "user_tz": -60
    },
    "id": "Vxd6f3qSYBLU",
    "outputId": "5a7b057c-11ca-4c3a-e92e-8ca318cff652"
   },
   "outputs": [
    {
     "data": {
      "text/plain": [
       "array([[  0,   1,   2,  10],\n",
       "       [ 12,  13, 100, 101],\n",
       "       [102, 110, 112, 113]])"
      ]
     },
     "execution_count": 104,
     "metadata": {},
     "output_type": "execute_result"
    }
   ],
   "source": [
    "# You can use -1 to let numpy guess the number of rows or the number of columns:\n",
    "c.reshape((-1,4))"
   ]
  },
  {
   "cell_type": "code",
   "execution_count": 105,
   "metadata": {
    "colab": {
     "base_uri": "https://localhost:8080/"
    },
    "executionInfo": {
     "elapsed": 30,
     "status": "ok",
     "timestamp": 1698918599399,
     "user": {
      "displayName": "Aurélie Mutschler",
      "userId": "09486760454547044843"
     },
     "user_tz": -60
    },
    "id": "EAcHHlgHYBLV",
    "outputId": "2363bac4-8a02-42db-e8e5-5103c0bb2d3a",
    "scrolled": true
   },
   "outputs": [
    {
     "data": {
      "text/plain": [
       "array([[  0,   1,   2,  10,  12,  13],\n",
       "       [100, 101, 102, 110, 112, 113]])"
      ]
     },
     "execution_count": 105,
     "metadata": {},
     "output_type": "execute_result"
    }
   ],
   "source": [
    "c.reshape((2,-1))"
   ]
  },
  {
   "cell_type": "markdown",
   "metadata": {
    "id": "KTKZjH-SYBLW"
   },
   "source": [
    "## List of functions grouped by theme\n",
    "\n",
    "We have explained only the main features of Numpy in this course, but if you wish, you can explore the exhaustive list grouped by theme:\n",
    "\n",
    "[Routines](https://docs.scipy.org/doc/numpy/reference/routines.html#routines)"
   ]
  },
  {
   "cell_type": "markdown",
   "metadata": {},
   "source": [
    "# Exercise: “Simulate and Analyze Weather Data with NumPy”\n",
    "\n",
    "You are given a week’s worth of temperature data (in Celsius) collected every hour in three different cities. Your goal is to:\n",
    "* 1.Simulate the data using NumPy.\n",
    "* 2.Reshape and manipulate it to extract insights.\n",
    "* 3.Apply functions to analyze the data."
   ]
  },
  {
   "cell_type": "code",
   "execution_count": 13,
   "metadata": {},
   "outputs": [
    {
     "data": {
      "text/plain": [
       "(array([20.60437947, 17.30490909, 16.35638773]), array([5, 5, 6]))"
      ]
     },
     "execution_count": 13,
     "metadata": {},
     "output_type": "execute_result"
    }
   ],
   "source": [
    "import numpy as np\n",
    "\n",
    "\n",
    "# 1. Simulate temperature data: 7 days, 24h per day, 3 cities. average temp in the 3 cities is 15 and the std is 10\n",
    "\n",
    "temperatures = 15 + 10 * np.random.randn(7,24,3)\n",
    "temperatures\n",
    "\n",
    "# 2. calculate the daily averages per city\n",
    "# shape (7,24,3) ---> (7,3)\n",
    "daily_avgs = temperatures.mean(axis=1)\n",
    "daily_avgs.shape\n",
    "daily_avgs\n",
    "\n",
    "\n",
    "## 3. Find the  average hottest day per city\n",
    "hottest_days_position = np.argmax(daily_avgs, axis =0)\n",
    "hottest_days_position\n",
    "\n",
    "hottest_days = np.max(daily_avgs, axis =0)\n",
    "hottest_days, hottest_days_position\n",
    "\n"
   ]
  },
  {
   "cell_type": "code",
   "execution_count": 14,
   "metadata": {},
   "outputs": [
    {
     "data": {
      "text/plain": [
       "array([[15.56137525, 16.62604568, 11.18179224],\n",
       "       [17.04393664, 16.35664064, 13.96547694],\n",
       "       [13.03640816, 10.54754256, 14.92026082],\n",
       "       [14.32518055, 14.84678744, 16.11067509],\n",
       "       [14.2209709 , 15.7870051 , 13.25086798],\n",
       "       [20.60437947, 17.30490909, 13.28889678],\n",
       "       [17.55344699, 16.13968963, 16.35638773]])"
      ]
     },
     "execution_count": 14,
     "metadata": {},
     "output_type": "execute_result"
    }
   ],
   "source": [
    "daily_avgs"
   ]
  },
  {
   "cell_type": "code",
   "execution_count": 15,
   "metadata": {},
   "outputs": [
    {
     "data": {
      "image/png": "[encoded data removed]",
      "text/plain": [
       "<Figure size 1000x500 with 1 Axes>"
      ]
     },
     "metadata": {},
     "output_type": "display_data"
    }
   ],
   "source": [
    "import matplotlib.pyplot as plt\n",
    "\n",
    "## Daily average temperatures per city\n",
    "\n",
    "days = np.arange(1,8)\n",
    "plt.figure(figsize=(10,5))\n",
    "for city in range(3):\n",
    "    plt.plot(days, daily_avgs[:, city], label = f\"City {city +1}\")\n",
    "\n",
    "plt.title(\"Daily Average Temperatures per City\")\n",
    "plt.xlabel(\"Day\")\n",
    "plt.ylabel(\"temperatures in Celsius\")\n",
    "plt.legend()\n",
    "plt.grid(True)\n",
    "plt.show()\n"
   ]
  },
  {
   "cell_type": "markdown",
   "metadata": {},
   "source": [
    "## Final Exercise #2: Image Processing Simulation with NumPy\n",
    "\n",
    "Objective:\n",
    "\n",
    "Use NumPy to simulate basic image processing operations on grayscale images represented as 2D arrays. Students will apply indexing, slicing, arithmetic, and linear algebra operations to manipulate and analyze image-like data.\n",
    "\n",
    "* 🧪 Exercise: “Basic Image Filters with NumPy”\n",
    "\n",
    "You are given a simulated grayscale image as a 2D NumPy array (values from 0 to 255). Your goal is to apply basic transformations and filters."
   ]
  },
  {
   "cell_type": "code",
   "execution_count": 1,
   "metadata": {},
   "outputs": [
    {
     "name": "stdout",
     "output_type": "stream",
     "text": [
      "[[172  10 127 ...  98  36 183]\n",
      " [  5 112  87 ...  94 107 145]\n",
      " [ 81 139 141 ... 199  79   7]\n",
      " ...\n",
      " [176 102   3 ... 144 243 201]\n",
      " [104   5  20 ... 237 163 181]\n",
      " [234  33  83 ... 143  91  20]]\n",
      "[[183  36  98 ... 127  10 172]\n",
      " [145 107  94 ...  87 112   5]\n",
      " [  7  79 199 ... 141 139  81]\n",
      " ...\n",
      " [201 243 144 ...   3 102 176]\n",
      " [181 163 237 ...  20   5 104]\n",
      " [ 20  91 143 ...  83  33 234]]\n"
     ]
    }
   ],
   "source": [
    "import numpy as np\n",
    "import matplotlib.pyplot as plt\n",
    "\n",
    "# 1. create a synthetic image black-white\n",
    "np.random.seed(0)\n",
    "image = np.random.randint(0,256, size = (50,50), dtype = np.uint8)\n",
    "print(image)\n",
    "\n",
    "# 2. Flip the image horizontally\n",
    "flipped_horiz = np.fliplr(image)\n",
    "print(flipped_horiz)\n",
    "\n",
    "# 3. Crop the center 20 * 20 region\n",
    "crop_center = image[15:35, 15:35]\n",
    "\n",
    "# 4. Increase the brightness (add 50 to all pixels, clip at 255)\n",
    "brighter = np.clip(image + 50, 0, 255)\n",
    "\n",
    "# 5. Normalize the image between 0,1\n",
    "normalized = image/255.0\n",
    "\n",
    "# 6. apply a basic blur filter (3x3 mean filter)\n",
    "kernel = np.ones((3,3))/9\n",
    "from scipy.signal import convolve2d\n",
    "blurred = convolve2d(image, kernel, mode = \"same\", boundary = \"wrap\")"
   ]
  },
  {
   "cell_type": "markdown",
   "metadata": {},
   "source": []
  },
  {
   "cell_type": "code",
   "execution_count": 8,
   "metadata": {},
   "outputs": [
    {
     "data": {
      "image/png": "[encoded data removed]",
      "text/plain": [
       "<Figure size 1500x500 with 3 Axes>"
      ]
     },
     "metadata": {},
     "output_type": "display_data"
    }
   ],
   "source": [
    "# display the original and the transformed images\n",
    "\n",
    "fig, axs = plt.subplots(1,3, figsize=(15,5) )\n",
    "\n",
    "axs[0].imshow(image, cmap=\"gray\")\n",
    "axs[0].set_title(\"Original Image\")\n",
    "\n",
    "axs[1].imshow(flipped_horiz, cmap=\"gray\")\n",
    "axs[1].set_title(\"Flipped horizontally Image\")\n",
    "\n",
    "\n",
    "axs[2].imshow(brighter, cmap=\"gray\")\n",
    "axs[2].set_title(\"Brighter Image\")\n",
    "\n",
    "for ax in axs:\n",
    "    ax.axis(\"off\")\n",
    "\n",
    "plt.tight_layout()\n",
    "plt.show()"
   ]
  },
  {
   "cell_type": "code",
   "execution_count": 9,
   "metadata": {},
   "outputs": [
    {
     "data": {
      "image/png": "[encoded data removed]",
      "text/plain": [
       "<Figure size 1500x500 with 2 Axes>"
      ]
     },
     "metadata": {},
     "output_type": "display_data"
    }
   ],
   "source": [
    "# display the cropped and the blurred versions\n",
    "\n",
    "fig, axs = plt.subplots(1,2, figsize=(15,5) )\n",
    "\n",
    "axs[0].imshow(crop_center, cmap=\"gray\")\n",
    "axs[0].set_title(\"Cropped Image\")\n",
    "\n",
    "axs[1].imshow(blurred, cmap=\"gray\")\n",
    "axs[1].set_title(\"Blurred Image\")\n",
    "\n",
    "\n",
    "for ax in axs:\n",
    "    ax.axis(\"off\")\n",
    "\n",
    "plt.tight_layout()\n",
    "plt.show()"
   ]
  },
  {
   "cell_type": "code",
   "execution_count": null,
   "metadata": {},
   "outputs": [],
   "source": []
  }
 ],
 "metadata": {
  "colab": {
   "provenance": []
  },
  "kernelspec": {
   "display_name": "venv",
   "language": "python",
   "name": "python3"
  },
  "language_info": {
   "codemirror_mode": {
    "name": "ipython",
    "version": 3
   },
   "file_extension": ".py",
   "mimetype": "text/x-python",
   "name": "python",
   "nbconvert_exporter": "python",
   "pygments_lexer": "ipython3",
   "version": "3.13.1"
  }
 },
 "nbformat": 4,
 "nbformat_minor": 0
}
