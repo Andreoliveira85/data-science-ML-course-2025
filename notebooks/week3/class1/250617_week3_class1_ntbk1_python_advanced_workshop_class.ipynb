{
  "cells": [
    {
      "cell_type": "markdown",
      "metadata": {},
      "source": [
        "# Python Advanced Topics Workshop (2 Hours)\n",
        "\n",
        "**Instructor:**  \n",
        "**Date:**  \n",
        "\n",
        "---\n",
        "\n",
        "**In this session, you will learn:**  \n",
        "- `zip` objects  \n",
        "- `map` and `reduce` functions  \n",
        "- `lambda` expressions  \n",
        "- `*args` and `**kwargs`  \n",
        "- Decorators  \n",
        "- Fibonacci sequence and recurrence, time complexity  \n",
        "- Approximating π (pi) exercise  \n",
        "- Three final exercises\n",
        "\n",
        "**Agenda (2 hours):**  \n",
        "1. `zip` Objects & `lambda` Expressions (15 min)  \n",
        "2. `map` & `reduce` (15 min)  \n",
        "3. `*args` & `**kwargs` (15 min)  \n",
        "4. Decorators (20 min)  \n",
        "5. Fibonacci & Complexity (20 min)  \n",
        "6. Approximating π (pi) Exercise (20 min)  \n",
        "7. Final Exercises & Solutions (15 min)  \n",
        "8. Q&A and Wrap-up (time permitting)\n"
      ]
    },
    {
      "cell_type": "markdown",
      "metadata": {},
      "source": [
        "## Table of Contents\n",
        "1. [zip & lambda](#zip_lambda)\n",
        "2. [map & reduce](#map_reduce)\n",
        "3. [*args & **kwargs](#args_kwargs)\n",
        "4. [Decorators](#decorators)\n",
        "5. [Fibonacci & Complexity](#fibonacci)\n",
        "6. [Approximating π](#pi)\n",
        "7. [Final Exercises](#exercises)\n",
        "8. [Next Steps](#next)\n"
      ]
    },
    {
      "cell_type": "markdown",
      "metadata": {},
      "source": [
        "<a id=\"zip_lambda\"></a>\n",
        "## 1. `zip` Objects & `lambda` Expressions (15 min)\n",
        "\n",
        "**`zip`**:  \n",
        "- Combines multiple iterables (lists, tuples) into tuples of corresponding elements.  \n",
        "- Returns an iterator of tuples.  \n",
        "- Truncates to the shortest of the input iterables.  \n",
        "\n",
        "```python\n",
        "names = ['Alice', 'Bob', 'Charlie']\n",
        "scores = [85, 92, 78]\n",
        "for name, score in zip(names, scores):\n",
        "    print(f\"{name} scored {score}.\")\n",
        "# Output:\n",
        "# Alice scored 85.\n",
        "# Bob scored 92.\n",
        "# Charlie scored 78.\n",
        "```\n",
        "\n",
        "**`lambda`**:  \n",
        "- Anonymous (unnamed) inline function.  \n",
        "- Syntax: `lambda arguments: expression`.  \n",
        "- Useful for short, throwaway functions passed to `map`, `filter`, or as callbacks.  \n",
        "\n",
        "```python\n",
        "square = lambda x: x * x\n",
        "print(square(5))  # 25\n",
        "\n",
        "# Equivalent to:\n",
        "def square(x):\n",
        "    return x * x\n",
        "```\n"
      ]
    },
    {
      "cell_type": "code",
      "execution_count": 3,
      "id": "ba15f131",
      "metadata": {},
      "outputs": [
        {
          "name": "stdout",
          "output_type": "stream",
          "text": [
            "Alice scored 85.\n",
            "Bob scored 92.\n"
          ]
        }
      ],
      "source": [
        "names = ['Alice', 'Bob', 'Charlie', \"Agnes\"]\n",
        "names2 = ['Alice', 'Bob']\n",
        "\n",
        "scores = [85, 92, 78]\n",
        "for name, score in zip(names2, scores):\n",
        "    print(f\"{name} scored {score}.\")"
      ]
    },
    {
      "cell_type": "code",
      "execution_count": 4,
      "id": "d399f225",
      "metadata": {},
      "outputs": [
        {
          "data": {
            "text/plain": [
              "8"
            ]
          },
          "execution_count": 4,
          "metadata": {},
          "output_type": "execute_result"
        }
      ],
      "source": [
        "def cube(x):\n",
        "    return x**3\n",
        "\n",
        "cube(2)"
      ]
    },
    {
      "cell_type": "code",
      "execution_count": 5,
      "id": "c4f28f9c",
      "metadata": {},
      "outputs": [
        {
          "name": "stdout",
          "output_type": "stream",
          "text": [
            "8\n"
          ]
        }
      ],
      "source": [
        "# lambda expression\n",
        "\n",
        "cube_lambda = lambda x: x**3\n",
        "print(cube_lambda(2))\n"
      ]
    },
    {
      "cell_type": "code",
      "execution_count": null,
      "id": "435d3c96",
      "metadata": {},
      "outputs": [
        {
          "ename": "TypeError",
          "evalue": "unsupported operand type(s) for ** or pow(): 'list' and 'int'",
          "output_type": "error",
          "traceback": [
            "\u001b[31m---------------------------------------------------------------------------\u001b[39m",
            "\u001b[31mTypeError\u001b[39m                                 Traceback (most recent call last)",
            "\u001b[36mCell\u001b[39m\u001b[36m \u001b[39m\u001b[32mIn[6]\u001b[39m\u001b[32m, line 2\u001b[39m\n\u001b[32m      1\u001b[39m lst = [\u001b[32m1\u001b[39m,\u001b[32m2\u001b[39m,\u001b[32m3\u001b[39m]\n\u001b[32m----> \u001b[39m\u001b[32m2\u001b[39m \u001b[38;5;28mprint\u001b[39m(\u001b[43mcube_lambda\u001b[49m\u001b[43m(\u001b[49m\u001b[43mlst\u001b[49m\u001b[43m)\u001b[49m)\n",
            "\u001b[36mCell\u001b[39m\u001b[36m \u001b[39m\u001b[32mIn[5]\u001b[39m\u001b[32m, line 3\u001b[39m, in \u001b[36m<lambda>\u001b[39m\u001b[34m(x)\u001b[39m\n\u001b[32m      1\u001b[39m \u001b[38;5;66;03m# lambda expression\u001b[39;00m\n\u001b[32m----> \u001b[39m\u001b[32m3\u001b[39m cube_lambda = \u001b[38;5;28;01mlambda\u001b[39;00m x: \u001b[43mx\u001b[49m\u001b[43m*\u001b[49m\u001b[43m*\u001b[49m\u001b[32;43m3\u001b[39;49m\n\u001b[32m      4\u001b[39m \u001b[38;5;28mprint\u001b[39m(cube_lambda(\u001b[32m2\u001b[39m))\n",
            "\u001b[31mTypeError\u001b[39m: unsupported operand type(s) for ** or pow(): 'list' and 'int'"
          ]
        }
      ],
      "source": [
        "lst = [1,2,3]\n",
        "print(cube_lambda(lst)) ## error since there is no agreement in data types"
      ]
    },
    {
      "cell_type": "code",
      "execution_count": 7,
      "id": "18594ef4",
      "metadata": {},
      "outputs": [
        {
          "name": "stdout",
          "output_type": "stream",
          "text": [
            "Sorted pairs [('y', 1), ('z', 2), ('x', 3)]\n"
          ]
        }
      ],
      "source": [
        "pairs = [('x', 3), ('y', 1), ('z', 2)]\n",
        "# order the values of this list --> I need to think about the numbers of the tuples\n",
        "\n",
        "sorted_pairs = sorted(pairs, key = lambda item: item[1])\n",
        "print(\"Sorted pairs\", sorted_pairs)"
      ]
    },
    {
      "cell_type": "markdown",
      "metadata": {},
      "source": [
        "<a id=\"map_reduce\"></a>\n",
        "## 2. `map` & `reduce` (15 min)\n",
        "\n",
        "**`map`**:  \n",
        "- Applies a function to each element of an iterable.  \n",
        "- Returns a map object (iterator).  \n",
        "\n",
        "```python\n",
        "nums = [1, 2, 3, 4]\n",
        "squares = map(lambda x: x * x, nums)\n",
        "print(list(squares))  # [1, 4, 9, 16]\n",
        "```\n",
        "\n",
        "**`reduce`** (from `functools`):  \n",
        "- Reduces an iterable to a single value by cumulatively applying a function.  \n",
        "- Syntax: `reduce(function, iterable, [initializer])`.  \n",
        "\n",
        "```python\n",
        "from functools import reduce\n",
        "nums = [1, 2, 3, 4]\n",
        "product = reduce(lambda x, y: x * y, nums)\n",
        "print(product)  # 24 (1*2*3*4)\n",
        "```\n",
        "\n",
        "- You can often achieve similar results with `sum()` for addition or comprehensions, but `reduce` is powerful for custom reductions.  \n"
      ]
    },
    {
      "cell_type": "code",
      "execution_count": 11,
      "id": "88d6a237",
      "metadata": {},
      "outputs": [
        {
          "name": "stdout",
          "output_type": "stream",
          "text": [
            "Max value 9\n"
          ]
        }
      ],
      "source": [
        "from functools import reduce\n",
        "\n",
        "## map does a function applied to each element of an iterable\n",
        "\n",
        "## convert farhrenheit to Celsius  c= (f-32) * 5/9\n",
        "fahrenheit = [32, 68, 212]\n",
        "celsius = map(lambda f: (f-32)* 5/9, fahrenheit)\n",
        "## map: x ---> map(x) \\in data_types \n",
        "list(celsius)\n",
        "\n",
        "\n",
        "## reduce object: calculate a certain reduced quantity of your data type\n",
        "## find the maximum of a list\n",
        "\n",
        "nums = [5,2,9,1,7]\n",
        "maximum = reduce(lambda x,y: x if x >y else y, nums)\n",
        "print(\"Max value\", maximum)"
      ]
    },
    {
      "cell_type": "markdown",
      "metadata": {},
      "source": [
        "<a id=\"args_kwargs\"></a>\n",
        "## 3. `*args` & `**kwargs` (15 min)\n",
        "\n",
        "- Functions can accept a variable number of positional or keyword arguments.  \n",
        "\n",
        "### `*args`:  \n",
        "- Collects extra positional arguments as a tuple.  \n",
        "```python\n",
        "def greet(*names):\n",
        "    for name in names:\n",
        "        print(f\"Hello, {name}!\")\n",
        "\n",
        "greet('Alice', 'Bob', 'Charlie')\n",
        "# Hello, Alice!\n",
        "# Hello, Bob!\n",
        "# Hello, Charlie!\n",
        "```\n",
        "\n",
        "### `**kwargs`:  \n",
        "- Collects extra keyword arguments as a dictionary.  \n",
        "```python\n",
        "def print_info(**info):\n",
        "    for key, value in info.items():\n",
        "        print(f\"{key} = {value}\")\n",
        "\n",
        "print_info(name='Alice', age=30, city='Paris')\n",
        "# name = Alice\n",
        "# age = 30\n",
        "# city = Paris\n",
        "```\n",
        "\n",
        "### Combining `*args` and `**kwargs`:  \n",
        "```python\n",
        "def func(*args, **kwargs):\n",
        "    print('args:', args)\n",
        "    print('kwargs:', kwargs)\n",
        "\n",
        "func(1, 2, 3, a=10, b=20)\n",
        "# args: (1, 2, 3)\n",
        "# kwargs: {'a': 10, 'b': 20}\n",
        "```"
      ]
    },
    {
      "cell_type": "code",
      "execution_count": 12,
      "id": "688df9a1",
      "metadata": {},
      "outputs": [],
      "source": [
        "names = [\"Alice\", \"Bob\", \"Charlie\"]\n",
        "\n",
        "def greet(name):\n",
        "    print(f\"Hello {name}\")\n",
        "         "
      ]
    },
    {
      "cell_type": "code",
      "execution_count": 15,
      "id": "ce388d9c",
      "metadata": {},
      "outputs": [
        {
          "name": "stdout",
          "output_type": "stream",
          "text": [
            "Hello Alice\n",
            "Hello Bob\n",
            "Hello Charlie\n"
          ]
        }
      ],
      "source": [
        "greet(\"Alice\")\n",
        "greet(\"Bob\")\n",
        "greet(\"Charlie\")"
      ]
    },
    {
      "cell_type": "code",
      "execution_count": 16,
      "id": "ad37b21e",
      "metadata": {},
      "outputs": [
        {
          "name": "stdout",
          "output_type": "stream",
          "text": [
            "Hello Alice\n",
            "Hello Bob\n",
            "Hello Charlie\n"
          ]
        }
      ],
      "source": [
        "for name in names:\n",
        "    greet(name)"
      ]
    },
    {
      "cell_type": "code",
      "execution_count": 38,
      "id": "8b1d79d0",
      "metadata": {},
      "outputs": [],
      "source": [
        "def greet(*names):\n",
        "    for name in names:\n",
        "        print(f\"Hello {name}!\")"
      ]
    },
    {
      "cell_type": "code",
      "execution_count": 39,
      "id": "3ac3f0da",
      "metadata": {},
      "outputs": [
        {
          "name": "stdout",
          "output_type": "stream",
          "text": [
            "Hello Alice!\n",
            "Hello Bob!\n",
            "Hello Charlie!\n",
            "Hello Andre!\n",
            "Hello Massy!\n"
          ]
        }
      ],
      "source": [
        "greet(\"Alice\", \"Bob\", \"Charlie\", \"Andre\", \"Massy\")"
      ]
    },
    {
      "cell_type": "code",
      "execution_count": null,
      "id": "29003eca",
      "metadata": {},
      "outputs": [],
      "source": [
        "name_info = {\"Alice\": 30, Paris}"
      ]
    },
    {
      "cell_type": "code",
      "execution_count": 41,
      "id": "005bcf4d",
      "metadata": {},
      "outputs": [
        {
          "name": "stdout",
          "output_type": "stream",
          "text": [
            "name = Alice\n",
            "age = 30\n",
            "city = Paris\n",
            "arrendossiment = 13\n",
            "holidays = Summer\n",
            "notes = big string with all her thoughts\n"
          ]
        }
      ],
      "source": [
        "def print_info(**info):\n",
        "    for key, value in info.items():\n",
        "        print(f\"{key} = {value}\")\n",
        "\n",
        "print_info(**{\"name\":'Alice', \"age\":30, \"city\":'Paris', \"arrendossiment\" : 13, \"holidays\" : \"Summer\", \"notes\" : \"big string with all her thoughts\"})\n",
        "# name = Alice\n",
        "# age = 30\n",
        "# city = Paris\n"
      ]
    },
    {
      "cell_type": "code",
      "execution_count": 24,
      "id": "fc319902",
      "metadata": {},
      "outputs": [
        {
          "name": "stdout",
          "output_type": "stream",
          "text": [
            "name = Massy\n",
            "age = 30\n",
            "city = Berlin\n"
          ]
        }
      ],
      "source": [
        "dictionary1 = {\"name\": \"Massy\", \"age\": 30 , \"city\": \"Berlin\" }\n",
        "\n",
        "print_info(**dictionary1)\n"
      ]
    },
    {
      "cell_type": "markdown",
      "metadata": {},
      "source": [
        "<a id=\"decorators\"></a>\n",
        "## 4. Decorators (20 min)\n",
        "\n",
        "- A decorator is a function that wraps another function to modify its behavior.  \n",
        "- Syntax: `@decorator_name` placed above a function definition.  \n",
        "\n",
        "### Simple decorator example:  \n",
        "```python\n",
        "def my_decorator(func):\n",
        "    def wrapper(*args, **kwargs):\n",
        "        print(\"Before calling function\")\n",
        "        result = func(*args, **kwargs)\n",
        "        print(\"After calling function\")\n",
        "        return result\n",
        "    return wrapper\n",
        "\n",
        "@my_decorator\n",
        "def say_hello(name):\n",
        "    print(f\"Hello, {name}!\")\n",
        "\n",
        "say_hello('Alice')\n",
        "# Output:\n",
        "# Before calling function\n",
        "# Hello, Alice!\n",
        "# After calling function\n",
        "```"
      ]
    },
    {
      "cell_type": "markdown",
      "metadata": {},
      "source": [
        "<a id=\"fibonacci\"></a>\n",
        "## 5. Fibonacci Sequence & Complexity (20 min)\n",
        "\n",
        "- Fibonacci numbers: `F(0)=0, F(1)=1`, and `F(n)=F(n-1)+F(n-2)` for `n>=2`.  \n",
        "- **Recursive implementation**:  \n",
        "  ```python\n",
        "  def fib_rec(n):\n",
        "      if n < 2:\n",
        "          return n\n",
        "      return fib_rec(n-1) + fib_rec(n-2)\n",
        "  ```  \n",
        "- **Time Complexity (recursive)**: Exponential, approximately `O(2^n)` because of repeated subcalls.  \n",
        "- **Iterative implementation (dynamic programming)**:  \n",
        "  ```python\n",
        "  def fib_iter(n):\n",
        "      a, b = 0, 1\n",
        "      for _ in range(n):\n",
        "          a, b = b, a + b\n",
        "      return a\n",
        "  ```  \n",
        "- **Time Complexity (iterative)**: `O(n)`.  \n",
        "- **Space Complexity**: `O(1)` extra space for iterative, `O(n)` recursion depth for recursive.  \n"
      ]
    },
    {
      "cell_type": "markdown",
      "metadata": {},
      "source": [
        "<a id=\"pi\"></a>\n",
        "## 6. Approximating π (Pi) Exercise (20 min)\n",
        "\n",
        "We’ll approximate π using the **Leibniz series**:  \n",
        "$$\\pi = 4 \\sum_{k=0}^{\\infty} \\frac{(-1)^k}{2k+1}$$  \n",
        "\n",
        "Truncate the series at `n` terms:  \n",
        "```python\n",
        "def approx_pi(n):\n",
        "    total = 0.0\n",
        "    for k in range(n):\n",
        "        total += ((-1)**k) / (2*k + 1)\n",
        "    return 4 * total\n",
        "```\n",
        "- **Convergence**: Very slow; error ~ `O(1/n)`.  \n",
        "- **Exercise**: Write and time `approx_pi(n)` for increasing `n` and observe convergence.  \n"
      ]
    },
    {
      "cell_type": "code",
      "execution_count": 11,
      "id": "9e4b7fce",
      "metadata": {},
      "outputs": [],
      "source": [
        "# on Monte Carlo simulation"
      ]
    },
    {
      "cell_type": "markdown",
      "metadata": {},
      "source": [
        "<a id=\"exercises\"></a>\n",
        "## 7. Final Exercises (15 min)\n",
        "\n",
        "### Exercise 1: Filter and Transform with zip, map, lambda  \n",
        "- Given two lists: `nums = [1, 2, 3, 4, 5]`, `chars = ['a', 'b', 'c', 'd', 'e']`.  \n",
        "- Use `zip`, `filter`, `map`, and `lambda` to create a list of uppercase characters corresponding to even numbers.   \n",
        "  (e.g., result should be `['B', 'D']`.)\n",
        "\n",
        "### Exercise 2: Decorator Practice: memoization  \n",
        "- Write a decorator `@memoize` that caches function results in a dictionary.  \n",
        "- Apply it to a naive recursive Fibonacci function and demonstrate speedup for `fib_rec(35)`.\n",
        "\n",
        "### Exercise 3: Approximating π with Monte Carlo  \n",
        "- Use random points in the unit square to estimate π.  \n",
        "  1. Generate `n` random `(x, y)` in `[0, 1]`.  \n",
        "  2. Count how many satisfy `x^2 + y^2 <= 1`.  \n",
        "  3. Estimate π ≈ `4 * (count_inside / n)`.  \n",
        "  4. Compare with Leibniz series for a given `n`.\n"
      ]
    },
    {
      "cell_type": "markdown",
      "metadata": {},
      "source": [
        "<a id=\"next\"></a>\n",
        "## 8. Next Steps & Wrap-up\n",
        "\n",
        "- **Key Takeaways:**  \n",
        "  - `zip`, `map`, `reduce`, and `lambda` help write concise data transformations.  \n",
        "  - `*args` and `**kwargs` enable flexible function signatures.  \n",
        "  - Decorators allow modifying function behavior without changing its code.  \n",
        "  - Recursive algorithms (e.g., Fibonacci) can have high time complexity; memoization improves them.  \n",
        "  - Approximating π demonstrates numerical methods and convergence rates.  \n",
        "\n",
        "- **Practice More:**  \n",
        "  - Explore more built-in functions: `filter`, `itertools`.  \n",
        "  - Write custom decorators for logging, validation, or caching.  \n",
        "  - Study other series for π: Nilakantha, Ramanujan.  \n",
        "  - Analyze time complexity of various algorithms (sorting, searching, etc.).\n",
        "\n",
        "**Congratulations!** You’ve completed the 2-hour advanced Python topics workshop."
      ]
    },
    {
      "cell_type": "code",
      "execution_count": null,
      "id": "04cc1e16",
      "metadata": {},
      "outputs": [],
      "source": []
    },
    {
      "cell_type": "code",
      "execution_count": null,
      "id": "e5ea7554",
      "metadata": {},
      "outputs": [],
      "source": []
    },
    {
      "cell_type": "code",
      "execution_count": null,
      "id": "ec62d5d1",
      "metadata": {},
      "outputs": [],
      "source": []
    },
    {
      "cell_type": "markdown",
      "id": "e8e59413",
      "metadata": {},
      "source": []
    }
  ],
  "metadata": {
    "kernelspec": {
      "display_name": "venv",
      "language": "python",
      "name": "python3"
    },
    "language_info": {
      "codemirror_mode": {
        "name": "ipython",
        "version": 3
      },
      "file_extension": ".py",
      "mimetype": "text/x-python",
      "name": "python",
      "nbconvert_exporter": "python",
      "pygments_lexer": "ipython3",
      "version": "3.13.1"
    }
  },
  "nbformat": 4,
  "nbformat_minor": 5
}
